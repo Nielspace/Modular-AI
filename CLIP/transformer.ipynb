{
 "cells": [
  {
   "cell_type": "code",
   "execution_count": 1,
   "metadata": {},
   "outputs": [],
   "source": [
    "import torch\n",
    "import torch.nn as nn\n",
    "import torch.nn.functional as F"
   ]
  },
  {
   "cell_type": "markdown",
   "metadata": {},
   "source": [
    "note: mps and cuda devices are optimized for mixed precision (float16) to achieve higher performance without significantly sacrificing accuracy.\n",
    "\n",
    "To balance efficiency and precision, you can use automatic mixed precision (AMP) for training. This technique allows the model to use float16 where possible and float32 when necessary for stability."
   ]
  },
  {
   "cell_type": "code",
   "execution_count": 2,
   "metadata": {},
   "outputs": [],
   "source": [
    "class LayerNormFp32(nn.LayerNorm):\n",
    "    \"\"\"\n",
    "    Subclass of torch's LayerNorm that ensures the computation is done in float32\n",
    "    even if the input tensor is in float16. Designed for compatibility with MPS\n",
    "    and CUDA devices.\n",
    "    \"\"\"\n",
    "\n",
    "    def forward(self, x: torch.Tensor):\n",
    "        # Save the original data type of the input tensor\n",
    "        orig_type = x.dtype\n",
    "        \n",
    "        # Ensure the computation is done on the same device as the input tensor\n",
    "        device = x.device\n",
    "        \n",
    "        # Convert the input tensor to float32 for the layer normalization computation\n",
    "        x = F.layer_norm(x.to(torch.float32), self.normalized_shape, self.weight, self.bias, self.eps)\n",
    "        \n",
    "        # Convert the output tensor back to the original data type and device\n",
    "        return x.to(device).to(orig_type)\n"
   ]
  },
  {
   "cell_type": "code",
   "execution_count": null,
   "metadata": {},
   "outputs": [],
   "source": []
  }
 ],
 "metadata": {
  "kernelspec": {
   "display_name": "Python 3",
   "language": "python",
   "name": "python3"
  },
  "language_info": {
   "codemirror_mode": {
    "name": "ipython",
    "version": 3
   },
   "file_extension": ".py",
   "mimetype": "text/x-python",
   "name": "python",
   "nbconvert_exporter": "python",
   "pygments_lexer": "ipython3",
   "version": "3.8.13"
  }
 },
 "nbformat": 4,
 "nbformat_minor": 2
}
