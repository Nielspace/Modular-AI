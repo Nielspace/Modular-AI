{
 "cells": [
  {
   "cell_type": "code",
   "execution_count": 1,
   "metadata": {},
   "outputs": [],
   "source": [
    "import torch \n",
    "from torch.utils.data import DataLoader, Dataset\n",
    "\n",
    "import transformers\n",
    "import datasets\n",
    "\n",
    "import tiktoken"
   ]
  },
  {
   "cell_type": "code",
   "execution_count": 44,
   "metadata": {},
   "outputs": [],
   "source": [
    "class tokenizer(Dataset):\n",
    "    def __init__(self, model):\n",
    "        self.input_ids = []\n",
    "        self.target_ids = []\n",
    "\n",
    "        self.enc = tiktoken.get_encoding(model)\n",
    "\n",
    "    def encoder(self, data, context_len, batch_size, shuffle =True):\n",
    "        tokens = self.enc.encode(data, allowed_special={\"<|endoftext|>\"})\n",
    "        ix = torch.randint(len(tokens) - context_len, (1,))\n",
    "        self.x = torch.stack([torch.tensor(tokens[i:i + context_len]) for i in ix])\n",
    "        self.y = torch.stack([torch.tensor(tokens[i + 1:i + 1 + context_len]) for i in ix])\n",
    "        D = DataLoader((self.x, self.y), batch_size=batch_size, \n",
    "                       shuffle=shuffle)\n",
    "        return D\n",
    "\n",
    "    # def __len__(self):\n",
    "    #     return len(self.input_ids)\n",
    "\n",
    "    # def __getitem__(self, idx):\n",
    "    #     return self.input_ids[idx], self.target_ids[idx]"
   ]
  },
  {
   "cell_type": "code",
   "execution_count": 52,
   "metadata": {},
   "outputs": [
    {
     "data": {
      "text/plain": [
       "<torch.utils.data.dataloader.DataLoader at 0x15674b670>"
      ]
     },
     "execution_count": 52,
     "metadata": {},
     "output_type": "execute_result"
    }
   ],
   "source": [
    "t = \"I recommend using a Markdown editor or previewer for proper viewing. If you haven't installed a Markdown editor yet\"\n",
    "tok = tokenizer(\"gpt2\")\n",
    "data = tok.encoder(t, 2, 4)\n",
    "data"
   ]
  },
  {
   "cell_type": "code",
   "execution_count": 53,
   "metadata": {},
   "outputs": [
    {
     "name": "stdout",
     "output_type": "stream",
     "text": [
      "tensor([[[2940, 2902]],\n",
      "\n",
      "        [[2902, 5464]]])\n"
     ]
    }
   ],
   "source": [
    "for i in data:\n",
    "    print(i)"
   ]
  },
  {
   "cell_type": "code",
   "execution_count": 56,
   "metadata": {},
   "outputs": [
    {
     "data": {
      "text/plain": [
       "tensor([[2940, 2902]])"
      ]
     },
     "execution_count": 56,
     "metadata": {},
     "output_type": "execute_result"
    }
   ],
   "source": [
    "i[0]"
   ]
  },
  {
   "cell_type": "code",
   "execution_count": null,
   "metadata": {},
   "outputs": [],
   "source": []
  }
 ],
 "metadata": {
  "kernelspec": {
   "display_name": "Python 3",
   "language": "python",
   "name": "python3"
  },
  "language_info": {
   "codemirror_mode": {
    "name": "ipython",
    "version": 3
   },
   "file_extension": ".py",
   "mimetype": "text/x-python",
   "name": "python",
   "nbconvert_exporter": "python",
   "pygments_lexer": "ipython3",
   "version": "3.8.13"
  }
 },
 "nbformat": 4,
 "nbformat_minor": 2
}
