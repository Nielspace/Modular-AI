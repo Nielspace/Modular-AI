{
 "cells": [
  {
   "cell_type": "code",
   "execution_count": 1,
   "metadata": {},
   "outputs": [],
   "source": [
    "import torch \n",
    "from torch import nn\n",
    "import torch.nn.functional as F\n",
    "\n",
    "import numpy as np\n",
    "import math\n",
    "\n",
    "import matplotlib.pyplot as plt\n",
    "import seaborn as sns\n",
    "\n",
    "from tqdm import tqdm\n",
    "\n",
    "import os\n",
    "import requests"
   ]
  },
  {
   "cell_type": "code",
   "execution_count": 2,
   "id": "f28f3ac5",
   "metadata": {},
   "outputs": [],
   "source": [
    "!export PYTORCH_MPS_HIGH_WATERMARK_RATIO=0.0  # Adjust the ratio as needed\n"
   ]
  },
  {
   "cell_type": "markdown",
   "id": "58b29c7a",
   "metadata": {},
   "source": [
    "# Attention workflow\n",
    "1. Input \n",
    "2. Word embeddings\n",
    "3. Positional embeddings\n",
    "4. Concat(Word, Positional)\n",
    "5. Normalization (optional)\n",
    "6. Attention\n"
   ]
  },
  {
   "cell_type": "code",
   "execution_count": 3,
   "id": "5a2efdaf",
   "metadata": {},
   "outputs": [],
   "source": [
    "n_embd=128\n",
    "n_head=4\n",
    "num_layers = 4\n",
    "block_size=512\n",
    "vocab_size=100\n",
    "dropout=0.1"
   ]
  },
  {
   "cell_type": "code",
   "execution_count": 4,
   "id": "d3336fbb",
   "metadata": {},
   "outputs": [
    {
     "name": "stdout",
     "output_type": "stream",
     "text": [
      "Length of dataset in characters: 1,115,394\n",
      "All the unique characters: \n",
      " !$&',-.3:;?ABCDEFGHIJKLMNOPQRSTUVWXYZabcdefghijklmnopqrstuvwxyz\n",
      "Vocab size: 65\n",
      "An error occurred: 'NoneType' object is not iterable\n",
      "Train has 1,003,854 tokens\n",
      "Val has 111,540 tokens\n",
      "Preparing train batch\n"
     ]
    }
   ],
   "source": [
    "\n",
    "device = torch.device('cuda' if torch.cuda.is_available() else 'mps')\n",
    "\n",
    "class Data:\n",
    "    def __init__(self, path, data_url, create_split: bool = True):\n",
    "        \"\"\"\n",
    "        Initialize the Download class.\n",
    "        \n",
    "        :param path: The path where the data will be saved.\n",
    "        :param data_url: The URL to download the data from.\n",
    "        :param create_split: Whether to create train/validation split.\n",
    "        \"\"\"\n",
    "        self.path = path\n",
    "        self.data_url = data_url\n",
    "        self.create_split = create_split\n",
    "\n",
    "    def dowload(self):\n",
    "        \"\"\"\n",
    "        Fetch the data from the specified URL and save it to the specified path.\n",
    "        \"\"\"\n",
    "        try:\n",
    "            # Create the 'data' directory relative to the current directory\n",
    "            data_dir = os.path.join(os.getcwd(), 'data')\n",
    "            os.makedirs(data_dir, exist_ok=True)\n",
    "\n",
    "            # Construct the full file path\n",
    "            input_file_path = os.path.join(data_dir, self.path)\n",
    "\n",
    "            # Download the file if it doesn't exist\n",
    "            if not os.path.exists(input_file_path):\n",
    "                response = requests.get(self.data_url)\n",
    "                response.raise_for_status()  # Raise an error for bad status codes\n",
    "                with open(input_file_path, 'w') as f:\n",
    "                    f.write(response.text)\n",
    "\n",
    "            # Read and print the length of the dataset\n",
    "            with open(input_file_path, 'r') as f:\n",
    "                self.data = f.read()\n",
    "            print(f\"Length of dataset in characters: {len(self.data):,}\")\n",
    "            self.preprocessing()\n",
    "        except requests.exceptions.RequestException as e:\n",
    "            print(f\"Error downloading the file: {e}\")\n",
    "        except Exception as e:\n",
    "            print(f\"An error occurred: {e}\")\n",
    "    \n",
    "    def preprocessing(self, X = None, inference=True):\n",
    "        \"\"\"\n",
    "        Preprocess the data to create character mappings and encoding functions.\n",
    "        \"\"\"\n",
    "        # Get all the unique characters that occur in this text\n",
    "        chars = sorted(list(set(self.data)))\n",
    "        vocab_size = len(chars)\n",
    "        print(\"All the unique characters:\", ''.join(chars))\n",
    "        print(f\"Vocab size: {vocab_size:,}\")\n",
    "\n",
    "        # Create a mapping from characters to integers\n",
    "        stoi = {ch: i for i, ch in enumerate(chars)}\n",
    "        itos = {i: ch for i, ch in enumerate(chars)}\n",
    "\n",
    "        self.encode = lambda s: [stoi[c] for c in s]\n",
    "        self.decode = lambda l: ''.join([itos[i] for i in l]) \n",
    "        if inference:\n",
    "            self.encode(X)\n",
    "\n",
    "    def split(self, size=0.9):\n",
    "        \"\"\"\n",
    "        Create train and validation splits from the data.\n",
    "        \n",
    "        :param size: The proportion of data to use for training.\n",
    "        :return: Encoded training and validation data.\n",
    "        \"\"\"\n",
    "        n = len(self.data)\n",
    "        train_data = self.data[:int(n * size)]\n",
    "        val_data = self.data[int(n * size):]  \n",
    "\n",
    "        # Encoding\n",
    "        train_ids = self.encode(train_data)\n",
    "        val_ids = self.encode(val_data)\n",
    "        print(f\"Train has {len(train_ids):,} tokens\")\n",
    "        print(f\"Val has {len(val_ids):,} tokens\")\n",
    "\n",
    "        return train_ids, val_ids\n",
    "    \n",
    "    def get_batch(self, train_ids=None, val_ids=None, split: str = 'train', context_len: int = 1024, batch_size: int = 8, device_type: str = 'mps', device: str = 'mps'):\n",
    "        \"\"\"\n",
    "        Generate batches of data for training or validation.\n",
    "        \n",
    "        :param train_ids: Encoded training data.\n",
    "        :param val_ids: Encoded validation data.\n",
    "        :param split: Whether to use 'train' or 'val' data.\n",
    "        :param context_len: Length of the context for each sample.\n",
    "        :param batch_size: Number of samples per batch.\n",
    "        :param device_type: Type of device ('cuda' or other).\n",
    "        :param device: Specific device identifier.\n",
    "        :return: Batch of input and target data.\n",
    "        \"\"\"\n",
    "        data = train_ids if split == 'train' else val_ids\n",
    "        print(f\"Preparing {split} batch\")\n",
    "\n",
    "        ix = torch.randint(len(data) - context_len, (batch_size,))\n",
    "        x = torch.stack([torch.tensor(data[i:i + context_len]) for i in ix])\n",
    "        y = torch.stack([torch.tensor(data[i + 1:i + 1 + context_len]) for i in ix])\n",
    "        \n",
    "        if device_type == 'cuda':\n",
    "            # Pin arrays x, y, which allows us to move them to GPU asynchronously (non_blocking=True)\n",
    "            x, y = x.pin_memory().to(device, non_blocking=True), y.pin_memory().to(device, non_blocking=True)\n",
    "        else:\n",
    "            x, y = x.to(device), y.to(device)\n",
    "        return x, y\n",
    "\n",
    "# Example usage:\n",
    "input_file = 'tiny_shakespeare.txt'\n",
    "URL = 'https://raw.githubusercontent.com/karpathy/char-rnn/master/data/tinyshakespeare/input.txt'\n",
    "\n",
    "downloader = Data(input_file, URL)\n",
    "downloader.dowload()\n",
    "train_ids, val_ids = downloader.split()\n",
    "x, y = downloader.get_batch(train_ids=train_ids)\n"
   ]
  },
  {
   "cell_type": "code",
   "execution_count": 5,
   "id": "c4173642",
   "metadata": {},
   "outputs": [],
   "source": [
    "#embedding block\n",
    "class Embeddings(nn.Module):\n",
    "    def __init__(self, vocab_size, n_embd, block_size, device):\n",
    "        super().__init__()\n",
    "        self.wte = nn.Embedding(vocab_size, n_embd).to(device)\n",
    "        self.wpe = nn.Embedding(block_size, n_embd).to(device)\n",
    "\n",
    "    def forward(self, x):\n",
    "        b, t = x.size()\n",
    "        pos = torch.arange(0, t, dtype=torch.long, device=x.device)\n",
    "        T = self.wte(x)\n",
    "        P = self.wpe(pos).unsqueeze(0).expand(b, t, -1)\n",
    "        return T+P"
   ]
  },
  {
   "cell_type": "code",
   "execution_count": 8,
   "id": "eb2b57af",
   "metadata": {},
   "outputs": [
    {
     "data": {
      "text/plain": [
       "torch.Size([8, 1024, 128])"
      ]
     },
     "execution_count": 8,
     "metadata": {},
     "output_type": "execute_result"
    }
   ],
   "source": [
    "emb = Embeddings(65, 128, 32, 'mps')\n",
    "e = emb(x)"
   ]
  },
  {
   "cell_type": "code",
   "execution_count": 11,
   "id": "931db2cf",
   "metadata": {},
   "outputs": [
    {
     "data": {
      "text/plain": [
       "torch.Size([8, 1024, 384])"
      ]
     },
     "execution_count": 11,
     "metadata": {},
     "output_type": "execute_result"
    }
   ],
   "source": [
    "proj_qkv = nn.Linear(128, 3*128).to('mps')\n",
    "qkv = proj_qkv(e)\n",
    "qkv.shape"
   ]
  },
  {
   "cell_type": "code",
   "execution_count": 18,
   "id": "a55e0fde",
   "metadata": {},
   "outputs": [
    {
     "data": {
      "text/plain": [
       "torch.Size([8, 8, 1024, 16])"
      ]
     },
     "execution_count": 18,
     "metadata": {},
     "output_type": "execute_result"
    }
   ],
   "source": [
    "# qkv = self.qkv_proj(x).reshape(B, T, 3, self.n_head, self.d_k).permute(2, 0, 3, 1, 4)\n",
    "B, T, C = e.size()\n",
    "n_embd = 128\n",
    "n_head = 8\n",
    "d_k = n_embd // n_head\n",
    "qkv_p = qkv.reshape(B, T, 3, 8, d_k)\n",
    "qkv_p = qkv_p.permute(2, 0, 3, 1, 4)\n",
    "q, k, v = qkv_p[0], qkv_p[1], qkv_p[2]\n",
    "q.shape\n"
   ]
  },
  {
   "cell_type": "code",
   "execution_count": 13,
   "id": "e5f60947",
   "metadata": {},
   "outputs": [
    {
     "data": {
      "text/plain": [
       "torch.Size([8, 1024, 128])"
      ]
     },
     "execution_count": 13,
     "metadata": {},
     "output_type": "execute_result"
    }
   ],
   "source": [
    "q, k , v = qkv.chunk(3, dim=-1)\n",
    "q.shape"
   ]
  },
  {
   "cell_type": "code",
   "execution_count": 6,
   "id": "5baceb68",
   "metadata": {},
   "outputs": [],
   "source": [
    "#feed forward and tranformer blocks\n",
    "class FeedForward(nn.Module):\n",
    "    def __init__(self, n_embd, dropout):\n",
    "        super().__init__()\n",
    "        self.net = nn.Sequential(\n",
    "            nn.Linear(n_embd, 4 * n_embd),\n",
    "            nn.ReLU(),\n",
    "            nn.Dropout(dropout),\n",
    "            nn.Linear(4 * n_embd, n_embd),\n",
    "            nn.Dropout(dropout)\n",
    "        )\n",
    "\n",
    "    def forward(self, x):\n",
    "        return self.net(x)\n",
    "\n",
    "class TransformerBlock(nn.Module):\n",
    "    def __init__(self, attention, n_embd, n_head, dropout, block_size, device, \n",
    "                 sparse:bool=False, sparsity_pattern=None):\n",
    "        super().__init__()\n",
    "        if sparse:\n",
    "            self.attn = attention(n_embd, n_head, dropout, block_size, sparsity_pattern, device)\n",
    "        else:\n",
    "            self.attn = attention(n_embd, n_head, dropout, block_size, device)\n",
    "        self.ff = FeedForward(n_embd, dropout)\n",
    "        self.ln1 = nn.LayerNorm(n_embd)\n",
    "        self.ln2 = nn.LayerNorm(n_embd)\n",
    "\n",
    "    def forward(self, x):\n",
    "        attn_output, attn_weights = self.attn(self.ln1(x))\n",
    "        x = x + attn_output\n",
    "        x = x + self.ff(self.ln2(x))\n",
    "        return x, attn_weights\n",
    "\n",
    "class TransformerModel(nn.Module):\n",
    "    def __init__(self, attention, vocab_size, \n",
    "                 n_embd, \n",
    "                 n_head, \n",
    "                 num_layers, \n",
    "                 dropout, \n",
    "                 block_size, \n",
    "                 device,\n",
    "                 sparse=False,\n",
    "                 sparsity_pattern=None \n",
    "                 ):\n",
    "        super().__init__()\n",
    "        self.embeddings = Embeddings(vocab_size, n_embd, block_size, device)\n",
    "        self.blocks = nn.Sequential(*[TransformerBlock(attention, n_embd, n_head, dropout, block_size, \n",
    "                                                       device, sparse, sparsity_pattern) for _ in range(num_layers)])\n",
    "        self.ln_f = nn.LayerNorm(n_embd)\n",
    "        self.head = nn.Linear(n_embd, vocab_size, bias=False)\n",
    "\n",
    "    def forward(self, x):\n",
    "        x = self.embeddings(x)\n",
    "        attn_weights_all = []\n",
    "        for block in self.blocks:\n",
    "            x, attn_weights = block(x)\n",
    "            attn_weights_all.append(attn_weights)\n",
    "        x = self.ln_f(x)\n",
    "        logits = self.head(x)\n",
    "        return logits, attn_weights_all"
   ]
  },
  {
   "cell_type": "code",
   "execution_count": 7,
   "id": "4a767043",
   "metadata": {},
   "outputs": [],
   "source": [
    "#casual attention\n",
    "class CausalSelfAttention(nn.Module):\n",
    "    def __init__(self, n_embd, n_head, dropout, block_size, device):\n",
    "        super().__init__()\n",
    "        self.n_embd = n_embd\n",
    "        self.n_head = n_head\n",
    "        self.dropout = dropout\n",
    "        self.block_size = block_size\n",
    "\n",
    "        self.qkv_proj = nn.Linear(n_embd, 3 * n_embd).to(device)\n",
    "        self.c_proj = nn.Linear(n_embd, n_embd).to(device)\n",
    "        self.attn_dropout = nn.Dropout(dropout)\n",
    "        self.resid_dropout = nn.Dropout(dropout)\n",
    "\n",
    "    def forward(self, x):\n",
    "        B, T, C = x.size()\n",
    "        q, k, v = self.qkv_proj(x).chunk(3, dim=-1)\n",
    "        q = q.view(B, T, self.n_head, C // self.n_head).transpose(1, 2)\n",
    "        k = k.view(B, T, self.n_head, C // self.n_head).transpose(1, 2)\n",
    "        v = v.view(B, T, self.n_head, C // self.n_head).transpose(1, 2)\n",
    "\n",
    "        att = (q @ k.transpose(-2, -1)) * (1.0 / math.sqrt(k.size(-1)))\n",
    "        att = F.softmax(att, dim=-1)\n",
    "        att = self.attn_dropout(att)\n",
    "        att_y = att @ v\n",
    "        y = att_y.transpose(1, 2).contiguous().view(B, T, C)\n",
    "\n",
    "        y = self.resid_dropout(self.c_proj(y))\n",
    "        return y, att\n"
   ]
  },
  {
   "cell_type": "code",
   "execution_count": 8,
   "id": "7dd9b1de",
   "metadata": {},
   "outputs": [],
   "source": [
    "# Example usage\n",
    "casual_transformer = TransformerModel(attention = CausalSelfAttention, \n",
    "                                      vocab_size=vocab_size, \n",
    "                                      n_embd=n_embd, \n",
    "                                      n_head=n_head, \n",
    "                                      num_layers=num_layers, \n",
    "                                      dropout=dropout, \n",
    "                                      block_size=block_size, \n",
    "                                      device=device,\n",
    "                                      sparse=False,\n",
    "                                      sparsity_pattern=None,\n",
    "                                      ).to(device)"
   ]
  },
  {
   "cell_type": "code",
   "execution_count": 9,
   "id": "95b19d44",
   "metadata": {},
   "outputs": [],
   "source": [
    "import time\n",
    "import torch.optim as optim\n",
    "from torch.utils.data import DataLoader, TensorDataset\n",
    "\n",
    "def train_model(model, x, y, num_epochs, learning_rate=0.0001):\n",
    "    dataloader = DataLoader(TensorDataset(x, y), shuffle=True)\n",
    "    model = model\n",
    "    criterion = nn.CrossEntropyLoss()\n",
    "    optimizer = optim.Adam(model.parameters(), lr=learning_rate)\n",
    "\n",
    "    model.train()\n",
    "    start_time = time.time()\n",
    "\n",
    "    step_loss = []\n",
    "    for epoch in range(num_epochs):\n",
    "        epoch_loss = 0\n",
    "        for inputs, targets in tqdm((dataloader), total=len(dataloader), desc=\"training in progress\"):\n",
    "            outputs, attn_weights = model(inputs)\n",
    "            loss = criterion(outputs.view(-1, outputs.size(-1)), targets.view(-1))\n",
    "            loss.backward()\n",
    "            optimizer.step()\n",
    "\n",
    "            epoch_loss += loss.item()\n",
    "            step_loss.append(loss.item())\n",
    "        \n",
    "        print(f'Epoch {epoch+1}/{num_epochs}, Loss: {epoch_loss/len(dataloader)}')\n",
    "\n",
    "    end_time = time.time()\n",
    "    training_time = end_time - start_time\n",
    "    print(f'Training completed in {training_time:.2f} seconds')\n",
    "\n",
    "    return step_loss, attn_weights"
   ]
  },
  {
   "cell_type": "code",
   "execution_count": 10,
   "id": "8da1b2f4",
   "metadata": {},
   "outputs": [
    {
     "name": "stderr",
     "output_type": "stream",
     "text": [
      "training in progress: 100%|██████████| 8/8 [00:01<00:00,  7.48it/s]\n"
     ]
    },
    {
     "name": "stdout",
     "output_type": "stream",
     "text": [
      "Epoch 1/500, Loss: 4.529951095581055\n"
     ]
    },
    {
     "name": "stderr",
     "output_type": "stream",
     "text": [
      "training in progress: 100%|██████████| 8/8 [00:00<00:00, 10.66it/s]\n"
     ]
    },
    {
     "name": "stdout",
     "output_type": "stream",
     "text": [
      "Epoch 2/500, Loss: 4.082646369934082\n"
     ]
    },
    {
     "name": "stderr",
     "output_type": "stream",
     "text": [
      "training in progress: 100%|██████████| 8/8 [00:00<00:00, 10.84it/s]\n"
     ]
    },
    {
     "name": "stdout",
     "output_type": "stream",
     "text": [
      "Epoch 3/500, Loss: 3.80437433719635\n"
     ]
    },
    {
     "name": "stderr",
     "output_type": "stream",
     "text": [
      "training in progress: 100%|██████████| 8/8 [00:00<00:00,  8.46it/s]\n"
     ]
    },
    {
     "name": "stdout",
     "output_type": "stream",
     "text": [
      "Epoch 4/500, Loss: 3.633147418498993\n"
     ]
    },
    {
     "name": "stderr",
     "output_type": "stream",
     "text": [
      "training in progress: 100%|██████████| 8/8 [00:00<00:00,  9.99it/s]\n"
     ]
    },
    {
     "name": "stdout",
     "output_type": "stream",
     "text": [
      "Epoch 5/500, Loss: 3.5084194242954254\n"
     ]
    },
    {
     "name": "stderr",
     "output_type": "stream",
     "text": [
      "training in progress: 100%|██████████| 8/8 [00:00<00:00, 10.24it/s]\n"
     ]
    },
    {
     "name": "stdout",
     "output_type": "stream",
     "text": [
      "Epoch 6/500, Loss: 3.4281628131866455\n"
     ]
    },
    {
     "name": "stderr",
     "output_type": "stream",
     "text": [
      "training in progress: 100%|██████████| 8/8 [00:00<00:00, 11.64it/s]\n"
     ]
    },
    {
     "name": "stdout",
     "output_type": "stream",
     "text": [
      "Epoch 7/500, Loss: 3.3831284046173096\n"
     ]
    },
    {
     "name": "stderr",
     "output_type": "stream",
     "text": [
      "training in progress: 100%|██████████| 8/8 [00:00<00:00,  9.12it/s]\n"
     ]
    },
    {
     "name": "stdout",
     "output_type": "stream",
     "text": [
      "Epoch 8/500, Loss: 3.337650626897812\n"
     ]
    },
    {
     "name": "stderr",
     "output_type": "stream",
     "text": [
      "training in progress: 100%|██████████| 8/8 [00:00<00:00, 11.79it/s]\n"
     ]
    },
    {
     "name": "stdout",
     "output_type": "stream",
     "text": [
      "Epoch 9/500, Loss: 3.2737964391708374\n"
     ]
    },
    {
     "name": "stderr",
     "output_type": "stream",
     "text": [
      "training in progress: 100%|██████████| 8/8 [00:00<00:00, 12.10it/s]\n"
     ]
    },
    {
     "name": "stdout",
     "output_type": "stream",
     "text": [
      "Epoch 10/500, Loss: 3.2287207543849945\n"
     ]
    },
    {
     "name": "stderr",
     "output_type": "stream",
     "text": [
      "training in progress: 100%|██████████| 8/8 [00:00<00:00, 11.83it/s]\n"
     ]
    },
    {
     "name": "stdout",
     "output_type": "stream",
     "text": [
      "Epoch 11/500, Loss: 3.230451136827469\n"
     ]
    },
    {
     "name": "stderr",
     "output_type": "stream",
     "text": [
      "training in progress: 100%|██████████| 8/8 [00:00<00:00,  9.47it/s]\n"
     ]
    },
    {
     "name": "stdout",
     "output_type": "stream",
     "text": [
      "Epoch 12/500, Loss: 3.2398007214069366\n"
     ]
    },
    {
     "name": "stderr",
     "output_type": "stream",
     "text": [
      "training in progress: 100%|██████████| 8/8 [00:00<00:00, 11.98it/s]\n"
     ]
    },
    {
     "name": "stdout",
     "output_type": "stream",
     "text": [
      "Epoch 13/500, Loss: 3.188445061445236\n"
     ]
    },
    {
     "name": "stderr",
     "output_type": "stream",
     "text": [
      "training in progress: 100%|██████████| 8/8 [00:00<00:00, 11.86it/s]\n"
     ]
    },
    {
     "name": "stdout",
     "output_type": "stream",
     "text": [
      "Epoch 14/500, Loss: 3.0947979390621185\n"
     ]
    },
    {
     "name": "stderr",
     "output_type": "stream",
     "text": [
      "training in progress: 100%|██████████| 8/8 [00:00<00:00, 11.95it/s]\n"
     ]
    },
    {
     "name": "stdout",
     "output_type": "stream",
     "text": [
      "Epoch 15/500, Loss: 3.069329172372818\n"
     ]
    },
    {
     "name": "stderr",
     "output_type": "stream",
     "text": [
      "training in progress: 100%|██████████| 8/8 [00:00<00:00,  9.48it/s]\n"
     ]
    },
    {
     "name": "stdout",
     "output_type": "stream",
     "text": [
      "Epoch 16/500, Loss: 3.127503752708435\n"
     ]
    },
    {
     "name": "stderr",
     "output_type": "stream",
     "text": [
      "training in progress: 100%|██████████| 8/8 [00:00<00:00,  9.03it/s]\n"
     ]
    },
    {
     "name": "stdout",
     "output_type": "stream",
     "text": [
      "Epoch 17/500, Loss: 3.163604348897934\n"
     ]
    },
    {
     "name": "stderr",
     "output_type": "stream",
     "text": [
      "training in progress: 100%|██████████| 8/8 [00:00<00:00, 15.57it/s]\n"
     ]
    },
    {
     "name": "stdout",
     "output_type": "stream",
     "text": [
      "Epoch 18/500, Loss: 3.087068200111389\n"
     ]
    },
    {
     "name": "stderr",
     "output_type": "stream",
     "text": [
      "training in progress: 100%|██████████| 8/8 [00:00<00:00, 16.21it/s]\n"
     ]
    },
    {
     "name": "stdout",
     "output_type": "stream",
     "text": [
      "Epoch 19/500, Loss: 2.9889120757579803\n"
     ]
    },
    {
     "name": "stderr",
     "output_type": "stream",
     "text": [
      "training in progress: 100%|██████████| 8/8 [00:00<00:00, 13.48it/s]\n"
     ]
    },
    {
     "name": "stdout",
     "output_type": "stream",
     "text": [
      "Epoch 20/500, Loss: 2.9610500037670135\n"
     ]
    },
    {
     "name": "stderr",
     "output_type": "stream",
     "text": [
      "training in progress: 100%|██████████| 8/8 [00:00<00:00, 16.26it/s]\n"
     ]
    },
    {
     "name": "stdout",
     "output_type": "stream",
     "text": [
      "Epoch 21/500, Loss: 3.016538679599762\n"
     ]
    },
    {
     "name": "stderr",
     "output_type": "stream",
     "text": [
      "training in progress: 100%|██████████| 8/8 [00:00<00:00, 16.89it/s]\n"
     ]
    },
    {
     "name": "stdout",
     "output_type": "stream",
     "text": [
      "Epoch 22/500, Loss: 3.0937049984931946\n"
     ]
    },
    {
     "name": "stderr",
     "output_type": "stream",
     "text": [
      "training in progress: 100%|██████████| 8/8 [00:00<00:00, 15.46it/s]\n"
     ]
    },
    {
     "name": "stdout",
     "output_type": "stream",
     "text": [
      "Epoch 23/500, Loss: 3.0990654826164246\n"
     ]
    },
    {
     "name": "stderr",
     "output_type": "stream",
     "text": [
      "training in progress: 100%|██████████| 8/8 [00:00<00:00, 13.98it/s]\n"
     ]
    },
    {
     "name": "stdout",
     "output_type": "stream",
     "text": [
      "Epoch 24/500, Loss: 3.013081282377243\n"
     ]
    },
    {
     "name": "stderr",
     "output_type": "stream",
     "text": [
      "training in progress: 100%|██████████| 8/8 [00:00<00:00, 16.42it/s]\n"
     ]
    },
    {
     "name": "stdout",
     "output_type": "stream",
     "text": [
      "Epoch 25/500, Loss: 2.9011777341365814\n"
     ]
    },
    {
     "name": "stderr",
     "output_type": "stream",
     "text": [
      "training in progress: 100%|██████████| 8/8 [00:00<00:00, 16.04it/s]\n"
     ]
    },
    {
     "name": "stdout",
     "output_type": "stream",
     "text": [
      "Epoch 26/500, Loss: 2.846177339553833\n"
     ]
    },
    {
     "name": "stderr",
     "output_type": "stream",
     "text": [
      "training in progress: 100%|██████████| 8/8 [00:00<00:00, 16.52it/s]\n"
     ]
    },
    {
     "name": "stdout",
     "output_type": "stream",
     "text": [
      "Epoch 27/500, Loss: 2.8567693531513214\n"
     ]
    },
    {
     "name": "stderr",
     "output_type": "stream",
     "text": [
      "training in progress: 100%|██████████| 8/8 [00:00<00:00, 13.96it/s]\n"
     ]
    },
    {
     "name": "stdout",
     "output_type": "stream",
     "text": [
      "Epoch 28/500, Loss: 2.8992945849895477\n"
     ]
    },
    {
     "name": "stderr",
     "output_type": "stream",
     "text": [
      "training in progress: 100%|██████████| 8/8 [00:00<00:00, 16.15it/s]\n"
     ]
    },
    {
     "name": "stdout",
     "output_type": "stream",
     "text": [
      "Epoch 29/500, Loss: 2.925387382507324\n"
     ]
    },
    {
     "name": "stderr",
     "output_type": "stream",
     "text": [
      "training in progress: 100%|██████████| 8/8 [00:00<00:00, 16.22it/s]\n"
     ]
    },
    {
     "name": "stdout",
     "output_type": "stream",
     "text": [
      "Epoch 30/500, Loss: 2.9288239181041718\n"
     ]
    },
    {
     "name": "stderr",
     "output_type": "stream",
     "text": [
      "training in progress: 100%|██████████| 8/8 [00:00<00:00, 16.25it/s]\n"
     ]
    },
    {
     "name": "stdout",
     "output_type": "stream",
     "text": [
      "Epoch 31/500, Loss: 2.9159208238124847\n"
     ]
    },
    {
     "name": "stderr",
     "output_type": "stream",
     "text": [
      "training in progress: 100%|██████████| 8/8 [00:00<00:00, 14.23it/s]\n"
     ]
    },
    {
     "name": "stdout",
     "output_type": "stream",
     "text": [
      "Epoch 32/500, Loss: 2.902341842651367\n"
     ]
    },
    {
     "name": "stderr",
     "output_type": "stream",
     "text": [
      "training in progress: 100%|██████████| 8/8 [00:00<00:00, 16.32it/s]\n"
     ]
    },
    {
     "name": "stdout",
     "output_type": "stream",
     "text": [
      "Epoch 33/500, Loss: 2.887290269136429\n"
     ]
    },
    {
     "name": "stderr",
     "output_type": "stream",
     "text": [
      "training in progress: 100%|██████████| 8/8 [00:00<00:00, 16.40it/s]\n"
     ]
    },
    {
     "name": "stdout",
     "output_type": "stream",
     "text": [
      "Epoch 34/500, Loss: 2.876474827528\n"
     ]
    },
    {
     "name": "stderr",
     "output_type": "stream",
     "text": [
      "training in progress: 100%|██████████| 8/8 [00:00<00:00, 16.40it/s]\n"
     ]
    },
    {
     "name": "stdout",
     "output_type": "stream",
     "text": [
      "Epoch 35/500, Loss: 2.8502610623836517\n"
     ]
    },
    {
     "name": "stderr",
     "output_type": "stream",
     "text": [
      "training in progress: 100%|██████████| 8/8 [00:00<00:00, 14.27it/s]\n"
     ]
    },
    {
     "name": "stdout",
     "output_type": "stream",
     "text": [
      "Epoch 36/500, Loss: 2.808429628610611\n"
     ]
    },
    {
     "name": "stderr",
     "output_type": "stream",
     "text": [
      "training in progress: 100%|██████████| 8/8 [00:00<00:00, 16.39it/s]\n"
     ]
    },
    {
     "name": "stdout",
     "output_type": "stream",
     "text": [
      "Epoch 37/500, Loss: 2.7793209552764893\n"
     ]
    },
    {
     "name": "stderr",
     "output_type": "stream",
     "text": [
      "training in progress: 100%|██████████| 8/8 [00:00<00:00, 16.38it/s]\n"
     ]
    },
    {
     "name": "stdout",
     "output_type": "stream",
     "text": [
      "Epoch 38/500, Loss: 2.7720342576503754\n"
     ]
    },
    {
     "name": "stderr",
     "output_type": "stream",
     "text": [
      "training in progress: 100%|██████████| 8/8 [00:00<00:00, 16.26it/s]\n"
     ]
    },
    {
     "name": "stdout",
     "output_type": "stream",
     "text": [
      "Epoch 39/500, Loss: 2.7825189232826233\n"
     ]
    },
    {
     "name": "stderr",
     "output_type": "stream",
     "text": [
      "training in progress: 100%|██████████| 8/8 [00:00<00:00, 14.22it/s]\n"
     ]
    },
    {
     "name": "stdout",
     "output_type": "stream",
     "text": [
      "Epoch 40/500, Loss: 2.8112431466579437\n"
     ]
    },
    {
     "name": "stderr",
     "output_type": "stream",
     "text": [
      "training in progress: 100%|██████████| 8/8 [00:00<00:00, 16.41it/s]\n"
     ]
    },
    {
     "name": "stdout",
     "output_type": "stream",
     "text": [
      "Epoch 41/500, Loss: 2.834645390510559\n"
     ]
    },
    {
     "name": "stderr",
     "output_type": "stream",
     "text": [
      "training in progress: 100%|██████████| 8/8 [00:00<00:00, 16.43it/s]\n"
     ]
    },
    {
     "name": "stdout",
     "output_type": "stream",
     "text": [
      "Epoch 42/500, Loss: 2.843282461166382\n"
     ]
    },
    {
     "name": "stderr",
     "output_type": "stream",
     "text": [
      "training in progress: 100%|██████████| 8/8 [00:00<00:00, 16.38it/s]\n"
     ]
    },
    {
     "name": "stdout",
     "output_type": "stream",
     "text": [
      "Epoch 43/500, Loss: 2.853710651397705\n"
     ]
    },
    {
     "name": "stderr",
     "output_type": "stream",
     "text": [
      "training in progress: 100%|██████████| 8/8 [00:00<00:00, 14.51it/s]\n"
     ]
    },
    {
     "name": "stdout",
     "output_type": "stream",
     "text": [
      "Epoch 44/500, Loss: 2.8384989500045776\n"
     ]
    },
    {
     "name": "stderr",
     "output_type": "stream",
     "text": [
      "training in progress: 100%|██████████| 8/8 [00:00<00:00, 16.13it/s]\n"
     ]
    },
    {
     "name": "stdout",
     "output_type": "stream",
     "text": [
      "Epoch 45/500, Loss: 2.801447033882141\n"
     ]
    },
    {
     "name": "stderr",
     "output_type": "stream",
     "text": [
      "training in progress: 100%|██████████| 8/8 [00:00<00:00, 16.36it/s]\n"
     ]
    },
    {
     "name": "stdout",
     "output_type": "stream",
     "text": [
      "Epoch 46/500, Loss: 2.760189116001129\n"
     ]
    },
    {
     "name": "stderr",
     "output_type": "stream",
     "text": [
      "training in progress: 100%|██████████| 8/8 [00:00<00:00, 16.04it/s]\n"
     ]
    },
    {
     "name": "stdout",
     "output_type": "stream",
     "text": [
      "Epoch 47/500, Loss: 2.7231777012348175\n"
     ]
    },
    {
     "name": "stderr",
     "output_type": "stream",
     "text": [
      "training in progress: 100%|██████████| 8/8 [00:00<00:00, 16.37it/s]\n"
     ]
    },
    {
     "name": "stdout",
     "output_type": "stream",
     "text": [
      "Epoch 48/500, Loss: 2.717453569173813\n"
     ]
    },
    {
     "name": "stderr",
     "output_type": "stream",
     "text": [
      "training in progress: 100%|██████████| 8/8 [00:00<00:00, 14.29it/s]\n"
     ]
    },
    {
     "name": "stdout",
     "output_type": "stream",
     "text": [
      "Epoch 49/500, Loss: 2.7410762012004852\n"
     ]
    },
    {
     "name": "stderr",
     "output_type": "stream",
     "text": [
      "training in progress: 100%|██████████| 8/8 [00:00<00:00, 16.36it/s]\n"
     ]
    },
    {
     "name": "stdout",
     "output_type": "stream",
     "text": [
      "Epoch 50/500, Loss: 2.7690095007419586\n"
     ]
    },
    {
     "name": "stderr",
     "output_type": "stream",
     "text": [
      "training in progress: 100%|██████████| 8/8 [00:00<00:00, 16.33it/s]\n"
     ]
    },
    {
     "name": "stdout",
     "output_type": "stream",
     "text": [
      "Epoch 51/500, Loss: 2.7913809716701508\n"
     ]
    },
    {
     "name": "stderr",
     "output_type": "stream",
     "text": [
      "training in progress: 100%|██████████| 8/8 [00:00<00:00, 16.40it/s]\n"
     ]
    },
    {
     "name": "stdout",
     "output_type": "stream",
     "text": [
      "Epoch 52/500, Loss: 2.7948660850524902\n"
     ]
    },
    {
     "name": "stderr",
     "output_type": "stream",
     "text": [
      "training in progress: 100%|██████████| 8/8 [00:00<00:00, 14.32it/s]\n"
     ]
    },
    {
     "name": "stdout",
     "output_type": "stream",
     "text": [
      "Epoch 53/500, Loss: 2.788095921278\n"
     ]
    },
    {
     "name": "stderr",
     "output_type": "stream",
     "text": [
      "training in progress: 100%|██████████| 8/8 [00:00<00:00, 16.08it/s]\n"
     ]
    },
    {
     "name": "stdout",
     "output_type": "stream",
     "text": [
      "Epoch 54/500, Loss: 2.777042478322983\n"
     ]
    },
    {
     "name": "stderr",
     "output_type": "stream",
     "text": [
      "training in progress: 100%|██████████| 8/8 [00:00<00:00, 16.37it/s]\n"
     ]
    },
    {
     "name": "stdout",
     "output_type": "stream",
     "text": [
      "Epoch 55/500, Loss: 2.7722193002700806\n"
     ]
    },
    {
     "name": "stderr",
     "output_type": "stream",
     "text": [
      "training in progress: 100%|██████████| 8/8 [00:00<00:00, 16.46it/s]\n"
     ]
    },
    {
     "name": "stdout",
     "output_type": "stream",
     "text": [
      "Epoch 56/500, Loss: 2.775912433862686\n"
     ]
    },
    {
     "name": "stderr",
     "output_type": "stream",
     "text": [
      "training in progress: 100%|██████████| 8/8 [00:00<00:00, 14.44it/s]\n"
     ]
    },
    {
     "name": "stdout",
     "output_type": "stream",
     "text": [
      "Epoch 57/500, Loss: 2.774881660938263\n"
     ]
    },
    {
     "name": "stderr",
     "output_type": "stream",
     "text": [
      "training in progress: 100%|██████████| 8/8 [00:00<00:00, 16.39it/s]\n"
     ]
    },
    {
     "name": "stdout",
     "output_type": "stream",
     "text": [
      "Epoch 58/500, Loss: 2.767457813024521\n"
     ]
    },
    {
     "name": "stderr",
     "output_type": "stream",
     "text": [
      "training in progress: 100%|██████████| 8/8 [00:00<00:00, 16.40it/s]\n"
     ]
    },
    {
     "name": "stdout",
     "output_type": "stream",
     "text": [
      "Epoch 59/500, Loss: 2.7410064935684204\n"
     ]
    },
    {
     "name": "stderr",
     "output_type": "stream",
     "text": [
      "training in progress: 100%|██████████| 8/8 [00:00<00:00, 16.24it/s]\n"
     ]
    },
    {
     "name": "stdout",
     "output_type": "stream",
     "text": [
      "Epoch 60/500, Loss: 2.7179262042045593\n"
     ]
    },
    {
     "name": "stderr",
     "output_type": "stream",
     "text": [
      "training in progress: 100%|██████████| 8/8 [00:00<00:00, 14.78it/s]\n"
     ]
    },
    {
     "name": "stdout",
     "output_type": "stream",
     "text": [
      "Epoch 61/500, Loss: 2.723168432712555\n"
     ]
    },
    {
     "name": "stderr",
     "output_type": "stream",
     "text": [
      "training in progress: 100%|██████████| 8/8 [00:00<00:00, 15.99it/s]\n"
     ]
    },
    {
     "name": "stdout",
     "output_type": "stream",
     "text": [
      "Epoch 62/500, Loss: 2.7356547117233276\n"
     ]
    },
    {
     "name": "stderr",
     "output_type": "stream",
     "text": [
      "training in progress: 100%|██████████| 8/8 [00:00<00:00, 16.36it/s]\n"
     ]
    },
    {
     "name": "stdout",
     "output_type": "stream",
     "text": [
      "Epoch 63/500, Loss: 2.7524144649505615\n"
     ]
    },
    {
     "name": "stderr",
     "output_type": "stream",
     "text": [
      "training in progress: 100%|██████████| 8/8 [00:00<00:00, 16.30it/s]\n"
     ]
    },
    {
     "name": "stdout",
     "output_type": "stream",
     "text": [
      "Epoch 64/500, Loss: 2.744811922311783\n"
     ]
    },
    {
     "name": "stderr",
     "output_type": "stream",
     "text": [
      "training in progress: 100%|██████████| 8/8 [00:00<00:00, 16.42it/s]\n"
     ]
    },
    {
     "name": "stdout",
     "output_type": "stream",
     "text": [
      "Epoch 65/500, Loss: 2.7339577674865723\n"
     ]
    },
    {
     "name": "stderr",
     "output_type": "stream",
     "text": [
      "training in progress: 100%|██████████| 8/8 [00:00<00:00, 14.56it/s]\n"
     ]
    },
    {
     "name": "stdout",
     "output_type": "stream",
     "text": [
      "Epoch 66/500, Loss: 2.7256509363651276\n"
     ]
    },
    {
     "name": "stderr",
     "output_type": "stream",
     "text": [
      "training in progress: 100%|██████████| 8/8 [00:00<00:00, 16.33it/s]\n"
     ]
    },
    {
     "name": "stdout",
     "output_type": "stream",
     "text": [
      "Epoch 67/500, Loss: 2.7121552526950836\n"
     ]
    },
    {
     "name": "stderr",
     "output_type": "stream",
     "text": [
      "training in progress: 100%|██████████| 8/8 [00:00<00:00, 16.35it/s]\n"
     ]
    },
    {
     "name": "stdout",
     "output_type": "stream",
     "text": [
      "Epoch 68/500, Loss: 2.7123758494853973\n"
     ]
    },
    {
     "name": "stderr",
     "output_type": "stream",
     "text": [
      "training in progress: 100%|██████████| 8/8 [00:00<00:00, 16.44it/s]\n"
     ]
    },
    {
     "name": "stdout",
     "output_type": "stream",
     "text": [
      "Epoch 69/500, Loss: 2.720937579870224\n"
     ]
    },
    {
     "name": "stderr",
     "output_type": "stream",
     "text": [
      "training in progress: 100%|██████████| 8/8 [00:00<00:00, 14.08it/s]\n"
     ]
    },
    {
     "name": "stdout",
     "output_type": "stream",
     "text": [
      "Epoch 70/500, Loss: 2.741803467273712\n"
     ]
    },
    {
     "name": "stderr",
     "output_type": "stream",
     "text": [
      "training in progress: 100%|██████████| 8/8 [00:00<00:00, 16.47it/s]\n"
     ]
    },
    {
     "name": "stdout",
     "output_type": "stream",
     "text": [
      "Epoch 71/500, Loss: 2.7542530298233032\n"
     ]
    },
    {
     "name": "stderr",
     "output_type": "stream",
     "text": [
      "training in progress: 100%|██████████| 8/8 [00:00<00:00, 16.46it/s]\n"
     ]
    },
    {
     "name": "stdout",
     "output_type": "stream",
     "text": [
      "Epoch 72/500, Loss: 2.758227586746216\n"
     ]
    },
    {
     "name": "stderr",
     "output_type": "stream",
     "text": [
      "training in progress: 100%|██████████| 8/8 [00:00<00:00, 16.39it/s]\n"
     ]
    },
    {
     "name": "stdout",
     "output_type": "stream",
     "text": [
      "Epoch 73/500, Loss: 2.744486689567566\n"
     ]
    },
    {
     "name": "stderr",
     "output_type": "stream",
     "text": [
      "training in progress: 100%|██████████| 8/8 [00:00<00:00, 14.64it/s]\n"
     ]
    },
    {
     "name": "stdout",
     "output_type": "stream",
     "text": [
      "Epoch 74/500, Loss: 2.715178072452545\n"
     ]
    },
    {
     "name": "stderr",
     "output_type": "stream",
     "text": [
      "training in progress: 100%|██████████| 8/8 [00:00<00:00, 16.39it/s]\n"
     ]
    },
    {
     "name": "stdout",
     "output_type": "stream",
     "text": [
      "Epoch 75/500, Loss: 2.687613010406494\n"
     ]
    },
    {
     "name": "stderr",
     "output_type": "stream",
     "text": [
      "training in progress: 100%|██████████| 8/8 [00:00<00:00, 16.38it/s]\n"
     ]
    },
    {
     "name": "stdout",
     "output_type": "stream",
     "text": [
      "Epoch 76/500, Loss: 2.669310063123703\n"
     ]
    },
    {
     "name": "stderr",
     "output_type": "stream",
     "text": [
      "training in progress: 100%|██████████| 8/8 [00:00<00:00, 16.41it/s]\n"
     ]
    },
    {
     "name": "stdout",
     "output_type": "stream",
     "text": [
      "Epoch 77/500, Loss: 2.6585034132003784\n"
     ]
    },
    {
     "name": "stderr",
     "output_type": "stream",
     "text": [
      "training in progress: 100%|██████████| 8/8 [00:00<00:00, 14.36it/s]\n"
     ]
    },
    {
     "name": "stdout",
     "output_type": "stream",
     "text": [
      "Epoch 78/500, Loss: 2.6530283987522125\n"
     ]
    },
    {
     "name": "stderr",
     "output_type": "stream",
     "text": [
      "training in progress: 100%|██████████| 8/8 [00:00<00:00, 16.40it/s]\n"
     ]
    },
    {
     "name": "stdout",
     "output_type": "stream",
     "text": [
      "Epoch 79/500, Loss: 2.652025282382965\n"
     ]
    },
    {
     "name": "stderr",
     "output_type": "stream",
     "text": [
      "training in progress: 100%|██████████| 8/8 [00:00<00:00, 16.32it/s]\n"
     ]
    },
    {
     "name": "stdout",
     "output_type": "stream",
     "text": [
      "Epoch 80/500, Loss: 2.657380908727646\n"
     ]
    },
    {
     "name": "stderr",
     "output_type": "stream",
     "text": [
      "training in progress: 100%|██████████| 8/8 [00:00<00:00, 16.37it/s]\n"
     ]
    },
    {
     "name": "stdout",
     "output_type": "stream",
     "text": [
      "Epoch 81/500, Loss: 2.6672965586185455\n"
     ]
    },
    {
     "name": "stderr",
     "output_type": "stream",
     "text": [
      "training in progress: 100%|██████████| 8/8 [00:00<00:00, 14.12it/s]\n"
     ]
    },
    {
     "name": "stdout",
     "output_type": "stream",
     "text": [
      "Epoch 82/500, Loss: 2.680178612470627\n"
     ]
    },
    {
     "name": "stderr",
     "output_type": "stream",
     "text": [
      "training in progress: 100%|██████████| 8/8 [00:00<00:00, 16.39it/s]\n"
     ]
    },
    {
     "name": "stdout",
     "output_type": "stream",
     "text": [
      "Epoch 83/500, Loss: 2.6885126531124115\n"
     ]
    },
    {
     "name": "stderr",
     "output_type": "stream",
     "text": [
      "training in progress: 100%|██████████| 8/8 [00:00<00:00, 16.42it/s]\n"
     ]
    },
    {
     "name": "stdout",
     "output_type": "stream",
     "text": [
      "Epoch 84/500, Loss: 2.692804992198944\n"
     ]
    },
    {
     "name": "stderr",
     "output_type": "stream",
     "text": [
      "training in progress: 100%|██████████| 8/8 [00:00<00:00, 16.46it/s]\n"
     ]
    },
    {
     "name": "stdout",
     "output_type": "stream",
     "text": [
      "Epoch 85/500, Loss: 2.6900856494903564\n"
     ]
    },
    {
     "name": "stderr",
     "output_type": "stream",
     "text": [
      "training in progress: 100%|██████████| 8/8 [00:00<00:00, 14.33it/s]\n"
     ]
    },
    {
     "name": "stdout",
     "output_type": "stream",
     "text": [
      "Epoch 86/500, Loss: 2.6826888024806976\n"
     ]
    },
    {
     "name": "stderr",
     "output_type": "stream",
     "text": [
      "training in progress: 100%|██████████| 8/8 [00:00<00:00, 16.40it/s]\n"
     ]
    },
    {
     "name": "stdout",
     "output_type": "stream",
     "text": [
      "Epoch 87/500, Loss: 2.668544054031372\n"
     ]
    },
    {
     "name": "stderr",
     "output_type": "stream",
     "text": [
      "training in progress: 100%|██████████| 8/8 [00:00<00:00,  9.94it/s]\n"
     ]
    },
    {
     "name": "stdout",
     "output_type": "stream",
     "text": [
      "Epoch 88/500, Loss: 2.660946786403656\n"
     ]
    },
    {
     "name": "stderr",
     "output_type": "stream",
     "text": [
      "training in progress: 100%|██████████| 8/8 [00:00<00:00, 16.38it/s]\n"
     ]
    },
    {
     "name": "stdout",
     "output_type": "stream",
     "text": [
      "Epoch 89/500, Loss: 2.6535740792751312\n"
     ]
    },
    {
     "name": "stderr",
     "output_type": "stream",
     "text": [
      "training in progress: 100%|██████████| 8/8 [00:00<00:00, 14.16it/s]\n"
     ]
    },
    {
     "name": "stdout",
     "output_type": "stream",
     "text": [
      "Epoch 90/500, Loss: 2.656100273132324\n"
     ]
    },
    {
     "name": "stderr",
     "output_type": "stream",
     "text": [
      "training in progress: 100%|██████████| 8/8 [00:00<00:00, 16.37it/s]\n"
     ]
    },
    {
     "name": "stdout",
     "output_type": "stream",
     "text": [
      "Epoch 91/500, Loss: 2.656473606824875\n"
     ]
    },
    {
     "name": "stderr",
     "output_type": "stream",
     "text": [
      "training in progress: 100%|██████████| 8/8 [00:00<00:00, 16.35it/s]\n"
     ]
    },
    {
     "name": "stdout",
     "output_type": "stream",
     "text": [
      "Epoch 92/500, Loss: 2.658877670764923\n"
     ]
    },
    {
     "name": "stderr",
     "output_type": "stream",
     "text": [
      "training in progress: 100%|██████████| 8/8 [00:00<00:00, 16.42it/s]\n"
     ]
    },
    {
     "name": "stdout",
     "output_type": "stream",
     "text": [
      "Epoch 93/500, Loss: 2.6706202924251556\n"
     ]
    },
    {
     "name": "stderr",
     "output_type": "stream",
     "text": [
      "training in progress: 100%|██████████| 8/8 [00:00<00:00, 14.44it/s]\n"
     ]
    },
    {
     "name": "stdout",
     "output_type": "stream",
     "text": [
      "Epoch 94/500, Loss: 2.6732913851737976\n"
     ]
    },
    {
     "name": "stderr",
     "output_type": "stream",
     "text": [
      "training in progress: 100%|██████████| 8/8 [00:00<00:00, 16.42it/s]\n"
     ]
    },
    {
     "name": "stdout",
     "output_type": "stream",
     "text": [
      "Epoch 95/500, Loss: 2.6744086146354675\n"
     ]
    },
    {
     "name": "stderr",
     "output_type": "stream",
     "text": [
      "training in progress: 100%|██████████| 8/8 [00:00<00:00, 16.43it/s]\n"
     ]
    },
    {
     "name": "stdout",
     "output_type": "stream",
     "text": [
      "Epoch 96/500, Loss: 2.664858639240265\n"
     ]
    },
    {
     "name": "stderr",
     "output_type": "stream",
     "text": [
      "training in progress: 100%|██████████| 8/8 [00:00<00:00, 16.44it/s]\n"
     ]
    },
    {
     "name": "stdout",
     "output_type": "stream",
     "text": [
      "Epoch 97/500, Loss: 2.649182826280594\n"
     ]
    },
    {
     "name": "stderr",
     "output_type": "stream",
     "text": [
      "training in progress: 100%|██████████| 8/8 [00:00<00:00, 14.67it/s]\n"
     ]
    },
    {
     "name": "stdout",
     "output_type": "stream",
     "text": [
      "Epoch 98/500, Loss: 2.639692962169647\n"
     ]
    },
    {
     "name": "stderr",
     "output_type": "stream",
     "text": [
      "training in progress: 100%|██████████| 8/8 [00:00<00:00, 16.33it/s]\n"
     ]
    },
    {
     "name": "stdout",
     "output_type": "stream",
     "text": [
      "Epoch 99/500, Loss: 2.628126621246338\n"
     ]
    },
    {
     "name": "stderr",
     "output_type": "stream",
     "text": [
      "training in progress: 100%|██████████| 8/8 [00:00<00:00, 16.45it/s]\n"
     ]
    },
    {
     "name": "stdout",
     "output_type": "stream",
     "text": [
      "Epoch 100/500, Loss: 2.621894270181656\n"
     ]
    },
    {
     "name": "stderr",
     "output_type": "stream",
     "text": [
      "training in progress: 100%|██████████| 8/8 [00:00<00:00, 16.25it/s]\n"
     ]
    },
    {
     "name": "stdout",
     "output_type": "stream",
     "text": [
      "Epoch 101/500, Loss: 2.6229982674121857\n"
     ]
    },
    {
     "name": "stderr",
     "output_type": "stream",
     "text": [
      "training in progress: 100%|██████████| 8/8 [00:00<00:00, 14.17it/s]\n"
     ]
    },
    {
     "name": "stdout",
     "output_type": "stream",
     "text": [
      "Epoch 102/500, Loss: 2.625080317258835\n"
     ]
    },
    {
     "name": "stderr",
     "output_type": "stream",
     "text": [
      "training in progress: 100%|██████████| 8/8 [00:00<00:00, 16.44it/s]\n"
     ]
    },
    {
     "name": "stdout",
     "output_type": "stream",
     "text": [
      "Epoch 103/500, Loss: 2.642324060201645\n"
     ]
    },
    {
     "name": "stderr",
     "output_type": "stream",
     "text": [
      "training in progress: 100%|██████████| 8/8 [00:00<00:00, 16.40it/s]\n"
     ]
    },
    {
     "name": "stdout",
     "output_type": "stream",
     "text": [
      "Epoch 104/500, Loss: 2.64498770236969\n"
     ]
    },
    {
     "name": "stderr",
     "output_type": "stream",
     "text": [
      "training in progress: 100%|██████████| 8/8 [00:00<00:00, 16.43it/s]\n"
     ]
    },
    {
     "name": "stdout",
     "output_type": "stream",
     "text": [
      "Epoch 105/500, Loss: 2.654807835817337\n"
     ]
    },
    {
     "name": "stderr",
     "output_type": "stream",
     "text": [
      "training in progress: 100%|██████████| 8/8 [00:00<00:00, 14.03it/s]\n"
     ]
    },
    {
     "name": "stdout",
     "output_type": "stream",
     "text": [
      "Epoch 106/500, Loss: 2.659968376159668\n"
     ]
    },
    {
     "name": "stderr",
     "output_type": "stream",
     "text": [
      "training in progress: 100%|██████████| 8/8 [00:00<00:00, 15.61it/s]\n"
     ]
    },
    {
     "name": "stdout",
     "output_type": "stream",
     "text": [
      "Epoch 107/500, Loss: 2.6514855325222015\n"
     ]
    },
    {
     "name": "stderr",
     "output_type": "stream",
     "text": [
      "training in progress: 100%|██████████| 8/8 [00:00<00:00, 14.00it/s]\n"
     ]
    },
    {
     "name": "stdout",
     "output_type": "stream",
     "text": [
      "Epoch 108/500, Loss: 2.6430733799934387\n"
     ]
    },
    {
     "name": "stderr",
     "output_type": "stream",
     "text": [
      "training in progress: 100%|██████████| 8/8 [00:00<00:00, 13.70it/s]\n"
     ]
    },
    {
     "name": "stdout",
     "output_type": "stream",
     "text": [
      "Epoch 109/500, Loss: 2.620299756526947\n"
     ]
    },
    {
     "name": "stderr",
     "output_type": "stream",
     "text": [
      "training in progress: 100%|██████████| 8/8 [00:00<00:00, 12.08it/s]\n"
     ]
    },
    {
     "name": "stdout",
     "output_type": "stream",
     "text": [
      "Epoch 110/500, Loss: 2.6103823482990265\n"
     ]
    },
    {
     "name": "stderr",
     "output_type": "stream",
     "text": [
      "training in progress: 100%|██████████| 8/8 [00:00<00:00, 13.85it/s]\n"
     ]
    },
    {
     "name": "stdout",
     "output_type": "stream",
     "text": [
      "Epoch 111/500, Loss: 2.5974376797676086\n"
     ]
    },
    {
     "name": "stderr",
     "output_type": "stream",
     "text": [
      "training in progress: 100%|██████████| 8/8 [00:00<00:00, 15.06it/s]\n"
     ]
    },
    {
     "name": "stdout",
     "output_type": "stream",
     "text": [
      "Epoch 112/500, Loss: 2.5953744053840637\n"
     ]
    },
    {
     "name": "stderr",
     "output_type": "stream",
     "text": [
      "training in progress: 100%|██████████| 8/8 [00:00<00:00, 15.78it/s]\n"
     ]
    },
    {
     "name": "stdout",
     "output_type": "stream",
     "text": [
      "Epoch 113/500, Loss: 2.596100002527237\n"
     ]
    },
    {
     "name": "stderr",
     "output_type": "stream",
     "text": [
      "training in progress: 100%|██████████| 8/8 [00:00<00:00, 13.50it/s]\n"
     ]
    },
    {
     "name": "stdout",
     "output_type": "stream",
     "text": [
      "Epoch 114/500, Loss: 2.5985857248306274\n"
     ]
    },
    {
     "name": "stderr",
     "output_type": "stream",
     "text": [
      "training in progress: 100%|██████████| 8/8 [00:00<00:00, 12.85it/s]\n"
     ]
    },
    {
     "name": "stdout",
     "output_type": "stream",
     "text": [
      "Epoch 115/500, Loss: 2.6053019165992737\n"
     ]
    },
    {
     "name": "stderr",
     "output_type": "stream",
     "text": [
      "training in progress: 100%|██████████| 8/8 [00:00<00:00, 13.68it/s]\n"
     ]
    },
    {
     "name": "stdout",
     "output_type": "stream",
     "text": [
      "Epoch 116/500, Loss: 2.6122924089431763\n"
     ]
    },
    {
     "name": "stderr",
     "output_type": "stream",
     "text": [
      "training in progress: 100%|██████████| 8/8 [00:00<00:00, 13.45it/s]\n"
     ]
    },
    {
     "name": "stdout",
     "output_type": "stream",
     "text": [
      "Epoch 117/500, Loss: 2.614864617586136\n"
     ]
    },
    {
     "name": "stderr",
     "output_type": "stream",
     "text": [
      "training in progress: 100%|██████████| 8/8 [00:00<00:00, 11.65it/s]\n"
     ]
    },
    {
     "name": "stdout",
     "output_type": "stream",
     "text": [
      "Epoch 118/500, Loss: 2.627107560634613\n"
     ]
    },
    {
     "name": "stderr",
     "output_type": "stream",
     "text": [
      "training in progress: 100%|██████████| 8/8 [00:00<00:00, 13.33it/s]\n"
     ]
    },
    {
     "name": "stdout",
     "output_type": "stream",
     "text": [
      "Epoch 119/500, Loss: 2.6322808265686035\n"
     ]
    },
    {
     "name": "stderr",
     "output_type": "stream",
     "text": [
      "training in progress: 100%|██████████| 8/8 [00:00<00:00, 13.53it/s]\n"
     ]
    },
    {
     "name": "stdout",
     "output_type": "stream",
     "text": [
      "Epoch 120/500, Loss: 2.6297254264354706\n"
     ]
    },
    {
     "name": "stderr",
     "output_type": "stream",
     "text": [
      "training in progress: 100%|██████████| 8/8 [00:00<00:00, 15.20it/s]\n"
     ]
    },
    {
     "name": "stdout",
     "output_type": "stream",
     "text": [
      "Epoch 121/500, Loss: 2.627554714679718\n"
     ]
    },
    {
     "name": "stderr",
     "output_type": "stream",
     "text": [
      "training in progress: 100%|██████████| 8/8 [00:00<00:00, 13.68it/s]\n"
     ]
    },
    {
     "name": "stdout",
     "output_type": "stream",
     "text": [
      "Epoch 122/500, Loss: 2.6189471185207367\n"
     ]
    },
    {
     "name": "stderr",
     "output_type": "stream",
     "text": [
      "training in progress: 100%|██████████| 8/8 [00:00<00:00, 15.69it/s]\n"
     ]
    },
    {
     "name": "stdout",
     "output_type": "stream",
     "text": [
      "Epoch 123/500, Loss: 2.61585596203804\n"
     ]
    },
    {
     "name": "stderr",
     "output_type": "stream",
     "text": [
      "training in progress: 100%|██████████| 8/8 [00:00<00:00, 15.63it/s]\n"
     ]
    },
    {
     "name": "stdout",
     "output_type": "stream",
     "text": [
      "Epoch 124/500, Loss: 2.6047182977199554\n"
     ]
    },
    {
     "name": "stderr",
     "output_type": "stream",
     "text": [
      "training in progress: 100%|██████████| 8/8 [00:00<00:00, 13.98it/s]\n"
     ]
    },
    {
     "name": "stdout",
     "output_type": "stream",
     "text": [
      "Epoch 125/500, Loss: 2.5961915850639343\n"
     ]
    },
    {
     "name": "stderr",
     "output_type": "stream",
     "text": [
      "training in progress: 100%|██████████| 8/8 [00:00<00:00, 11.52it/s]\n"
     ]
    },
    {
     "name": "stdout",
     "output_type": "stream",
     "text": [
      "Epoch 126/500, Loss: 2.595459818840027\n"
     ]
    },
    {
     "name": "stderr",
     "output_type": "stream",
     "text": [
      "training in progress: 100%|██████████| 8/8 [00:00<00:00, 13.20it/s]\n"
     ]
    },
    {
     "name": "stdout",
     "output_type": "stream",
     "text": [
      "Epoch 127/500, Loss: 2.5936059057712555\n"
     ]
    },
    {
     "name": "stderr",
     "output_type": "stream",
     "text": [
      "training in progress: 100%|██████████| 8/8 [00:00<00:00, 13.33it/s]\n"
     ]
    },
    {
     "name": "stdout",
     "output_type": "stream",
     "text": [
      "Epoch 128/500, Loss: 2.596465915441513\n"
     ]
    },
    {
     "name": "stderr",
     "output_type": "stream",
     "text": [
      "training in progress: 100%|██████████| 8/8 [00:00<00:00, 13.33it/s]\n"
     ]
    },
    {
     "name": "stdout",
     "output_type": "stream",
     "text": [
      "Epoch 129/500, Loss: 2.6004609763622284\n"
     ]
    },
    {
     "name": "stderr",
     "output_type": "stream",
     "text": [
      "training in progress: 100%|██████████| 8/8 [00:00<00:00, 11.84it/s]\n"
     ]
    },
    {
     "name": "stdout",
     "output_type": "stream",
     "text": [
      "Epoch 130/500, Loss: 2.6045546531677246\n"
     ]
    },
    {
     "name": "stderr",
     "output_type": "stream",
     "text": [
      "training in progress: 100%|██████████| 8/8 [00:00<00:00, 13.14it/s]\n"
     ]
    },
    {
     "name": "stdout",
     "output_type": "stream",
     "text": [
      "Epoch 131/500, Loss: 2.6060351729393005\n"
     ]
    },
    {
     "name": "stderr",
     "output_type": "stream",
     "text": [
      "training in progress: 100%|██████████| 8/8 [00:00<00:00, 13.13it/s]\n"
     ]
    },
    {
     "name": "stdout",
     "output_type": "stream",
     "text": [
      "Epoch 132/500, Loss: 2.6029605865478516\n"
     ]
    },
    {
     "name": "stderr",
     "output_type": "stream",
     "text": [
      "training in progress: 100%|██████████| 8/8 [00:00<00:00, 13.48it/s]\n"
     ]
    },
    {
     "name": "stdout",
     "output_type": "stream",
     "text": [
      "Epoch 133/500, Loss: 2.6043220460414886\n"
     ]
    },
    {
     "name": "stderr",
     "output_type": "stream",
     "text": [
      "training in progress: 100%|██████████| 8/8 [00:00<00:00, 12.18it/s]\n"
     ]
    },
    {
     "name": "stdout",
     "output_type": "stream",
     "text": [
      "Epoch 134/500, Loss: 2.5999879837036133\n"
     ]
    },
    {
     "name": "stderr",
     "output_type": "stream",
     "text": [
      "training in progress: 100%|██████████| 8/8 [00:00<00:00, 14.44it/s]\n"
     ]
    },
    {
     "name": "stdout",
     "output_type": "stream",
     "text": [
      "Epoch 135/500, Loss: 2.5962320268154144\n"
     ]
    },
    {
     "name": "stderr",
     "output_type": "stream",
     "text": [
      "training in progress: 100%|██████████| 8/8 [00:00<00:00, 14.54it/s]\n"
     ]
    },
    {
     "name": "stdout",
     "output_type": "stream",
     "text": [
      "Epoch 136/500, Loss: 2.5922746062278748\n"
     ]
    },
    {
     "name": "stderr",
     "output_type": "stream",
     "text": [
      "training in progress: 100%|██████████| 8/8 [00:00<00:00, 14.26it/s]\n"
     ]
    },
    {
     "name": "stdout",
     "output_type": "stream",
     "text": [
      "Epoch 137/500, Loss: 2.587507575750351\n"
     ]
    },
    {
     "name": "stderr",
     "output_type": "stream",
     "text": [
      "training in progress: 100%|██████████| 8/8 [00:00<00:00, 13.00it/s]\n"
     ]
    },
    {
     "name": "stdout",
     "output_type": "stream",
     "text": [
      "Epoch 138/500, Loss: 2.5866319835186005\n"
     ]
    },
    {
     "name": "stderr",
     "output_type": "stream",
     "text": [
      "training in progress: 100%|██████████| 8/8 [00:00<00:00, 14.97it/s]\n"
     ]
    },
    {
     "name": "stdout",
     "output_type": "stream",
     "text": [
      "Epoch 139/500, Loss: 2.580511510372162\n"
     ]
    },
    {
     "name": "stderr",
     "output_type": "stream",
     "text": [
      "training in progress: 100%|██████████| 8/8 [00:00<00:00, 15.05it/s]\n"
     ]
    },
    {
     "name": "stdout",
     "output_type": "stream",
     "text": [
      "Epoch 140/500, Loss: 2.5774349570274353\n"
     ]
    },
    {
     "name": "stderr",
     "output_type": "stream",
     "text": [
      "training in progress: 100%|██████████| 8/8 [00:00<00:00, 14.99it/s]\n"
     ]
    },
    {
     "name": "stdout",
     "output_type": "stream",
     "text": [
      "Epoch 141/500, Loss: 2.5746058523654938\n"
     ]
    },
    {
     "name": "stderr",
     "output_type": "stream",
     "text": [
      "training in progress: 100%|██████████| 8/8 [00:00<00:00, 13.28it/s]\n"
     ]
    },
    {
     "name": "stdout",
     "output_type": "stream",
     "text": [
      "Epoch 142/500, Loss: 2.578619211912155\n"
     ]
    },
    {
     "name": "stderr",
     "output_type": "stream",
     "text": [
      "training in progress: 100%|██████████| 8/8 [00:00<00:00, 15.94it/s]\n"
     ]
    },
    {
     "name": "stdout",
     "output_type": "stream",
     "text": [
      "Epoch 143/500, Loss: 2.575634866952896\n"
     ]
    },
    {
     "name": "stderr",
     "output_type": "stream",
     "text": [
      "training in progress: 100%|██████████| 8/8 [00:00<00:00, 15.47it/s]\n"
     ]
    },
    {
     "name": "stdout",
     "output_type": "stream",
     "text": [
      "Epoch 144/500, Loss: 2.5843647122383118\n"
     ]
    },
    {
     "name": "stderr",
     "output_type": "stream",
     "text": [
      "training in progress: 100%|██████████| 8/8 [00:00<00:00, 16.00it/s]\n"
     ]
    },
    {
     "name": "stdout",
     "output_type": "stream",
     "text": [
      "Epoch 145/500, Loss: 2.588824510574341\n"
     ]
    },
    {
     "name": "stderr",
     "output_type": "stream",
     "text": [
      "training in progress: 100%|██████████| 8/8 [00:00<00:00, 14.04it/s]\n"
     ]
    },
    {
     "name": "stdout",
     "output_type": "stream",
     "text": [
      "Epoch 146/500, Loss: 2.595329165458679\n"
     ]
    },
    {
     "name": "stderr",
     "output_type": "stream",
     "text": [
      "training in progress: 100%|██████████| 8/8 [00:00<00:00, 15.95it/s]\n"
     ]
    },
    {
     "name": "stdout",
     "output_type": "stream",
     "text": [
      "Epoch 147/500, Loss: 2.5984990000724792\n"
     ]
    },
    {
     "name": "stderr",
     "output_type": "stream",
     "text": [
      "training in progress: 100%|██████████| 8/8 [00:00<00:00, 15.95it/s]\n"
     ]
    },
    {
     "name": "stdout",
     "output_type": "stream",
     "text": [
      "Epoch 148/500, Loss: 2.599749654531479\n"
     ]
    },
    {
     "name": "stderr",
     "output_type": "stream",
     "text": [
      "training in progress: 100%|██████████| 8/8 [00:00<00:00, 15.77it/s]\n"
     ]
    },
    {
     "name": "stdout",
     "output_type": "stream",
     "text": [
      "Epoch 149/500, Loss: 2.601950079202652\n"
     ]
    },
    {
     "name": "stderr",
     "output_type": "stream",
     "text": [
      "training in progress: 100%|██████████| 8/8 [00:00<00:00, 13.59it/s]\n"
     ]
    },
    {
     "name": "stdout",
     "output_type": "stream",
     "text": [
      "Epoch 150/500, Loss: 2.6015397012233734\n"
     ]
    },
    {
     "name": "stderr",
     "output_type": "stream",
     "text": [
      "training in progress: 100%|██████████| 8/8 [00:00<00:00, 15.97it/s]\n"
     ]
    },
    {
     "name": "stdout",
     "output_type": "stream",
     "text": [
      "Epoch 151/500, Loss: 2.6027000546455383\n"
     ]
    },
    {
     "name": "stderr",
     "output_type": "stream",
     "text": [
      "training in progress: 100%|██████████| 8/8 [00:00<00:00, 15.72it/s]\n"
     ]
    },
    {
     "name": "stdout",
     "output_type": "stream",
     "text": [
      "Epoch 152/500, Loss: 2.5946108996868134\n"
     ]
    },
    {
     "name": "stderr",
     "output_type": "stream",
     "text": [
      "training in progress: 100%|██████████| 8/8 [00:00<00:00, 15.85it/s]\n"
     ]
    },
    {
     "name": "stdout",
     "output_type": "stream",
     "text": [
      "Epoch 153/500, Loss: 2.589264363050461\n"
     ]
    },
    {
     "name": "stderr",
     "output_type": "stream",
     "text": [
      "training in progress: 100%|██████████| 8/8 [00:00<00:00, 13.97it/s]\n"
     ]
    },
    {
     "name": "stdout",
     "output_type": "stream",
     "text": [
      "Epoch 154/500, Loss: 2.5885147154331207\n"
     ]
    },
    {
     "name": "stderr",
     "output_type": "stream",
     "text": [
      "training in progress: 100%|██████████| 8/8 [00:00<00:00, 15.63it/s]\n"
     ]
    },
    {
     "name": "stdout",
     "output_type": "stream",
     "text": [
      "Epoch 155/500, Loss: 2.5738262236118317\n"
     ]
    },
    {
     "name": "stderr",
     "output_type": "stream",
     "text": [
      "training in progress: 100%|██████████| 8/8 [00:00<00:00, 15.52it/s]\n"
     ]
    },
    {
     "name": "stdout",
     "output_type": "stream",
     "text": [
      "Epoch 156/500, Loss: 2.5655255913734436\n"
     ]
    },
    {
     "name": "stderr",
     "output_type": "stream",
     "text": [
      "training in progress: 100%|██████████| 8/8 [00:00<00:00, 14.61it/s]\n"
     ]
    },
    {
     "name": "stdout",
     "output_type": "stream",
     "text": [
      "Epoch 157/500, Loss: 2.5594688057899475\n"
     ]
    },
    {
     "name": "stderr",
     "output_type": "stream",
     "text": [
      "training in progress: 100%|██████████| 8/8 [00:00<00:00, 13.53it/s]\n"
     ]
    },
    {
     "name": "stdout",
     "output_type": "stream",
     "text": [
      "Epoch 158/500, Loss: 2.5539161264896393\n"
     ]
    },
    {
     "name": "stderr",
     "output_type": "stream",
     "text": [
      "training in progress: 100%|██████████| 8/8 [00:00<00:00, 15.53it/s]\n"
     ]
    },
    {
     "name": "stdout",
     "output_type": "stream",
     "text": [
      "Epoch 159/500, Loss: 2.550419956445694\n"
     ]
    },
    {
     "name": "stderr",
     "output_type": "stream",
     "text": [
      "training in progress: 100%|██████████| 8/8 [00:00<00:00, 14.64it/s]\n"
     ]
    },
    {
     "name": "stdout",
     "output_type": "stream",
     "text": [
      "Epoch 160/500, Loss: 2.5540604889392853\n"
     ]
    },
    {
     "name": "stderr",
     "output_type": "stream",
     "text": [
      "training in progress: 100%|██████████| 8/8 [00:00<00:00, 14.87it/s]\n"
     ]
    },
    {
     "name": "stdout",
     "output_type": "stream",
     "text": [
      "Epoch 161/500, Loss: 2.55272576212883\n"
     ]
    },
    {
     "name": "stderr",
     "output_type": "stream",
     "text": [
      "training in progress: 100%|██████████| 8/8 [00:00<00:00, 13.34it/s]\n"
     ]
    },
    {
     "name": "stdout",
     "output_type": "stream",
     "text": [
      "Epoch 162/500, Loss: 2.5511910915374756\n"
     ]
    },
    {
     "name": "stderr",
     "output_type": "stream",
     "text": [
      "training in progress: 100%|██████████| 8/8 [00:00<00:00, 15.69it/s]\n"
     ]
    },
    {
     "name": "stdout",
     "output_type": "stream",
     "text": [
      "Epoch 163/500, Loss: 2.5509496927261353\n"
     ]
    },
    {
     "name": "stderr",
     "output_type": "stream",
     "text": [
      "training in progress: 100%|██████████| 8/8 [00:00<00:00, 15.90it/s]\n"
     ]
    },
    {
     "name": "stdout",
     "output_type": "stream",
     "text": [
      "Epoch 164/500, Loss: 2.5526922941207886\n"
     ]
    },
    {
     "name": "stderr",
     "output_type": "stream",
     "text": [
      "training in progress: 100%|██████████| 8/8 [00:00<00:00, 15.12it/s]\n"
     ]
    },
    {
     "name": "stdout",
     "output_type": "stream",
     "text": [
      "Epoch 165/500, Loss: 2.549406737089157\n"
     ]
    },
    {
     "name": "stderr",
     "output_type": "stream",
     "text": [
      "training in progress: 100%|██████████| 8/8 [00:00<00:00, 13.68it/s]\n"
     ]
    },
    {
     "name": "stdout",
     "output_type": "stream",
     "text": [
      "Epoch 166/500, Loss: 2.5455992221832275\n"
     ]
    },
    {
     "name": "stderr",
     "output_type": "stream",
     "text": [
      "training in progress: 100%|██████████| 8/8 [00:00<00:00, 15.97it/s]\n"
     ]
    },
    {
     "name": "stdout",
     "output_type": "stream",
     "text": [
      "Epoch 167/500, Loss: 2.548255443572998\n"
     ]
    },
    {
     "name": "stderr",
     "output_type": "stream",
     "text": [
      "training in progress: 100%|██████████| 8/8 [00:00<00:00, 15.90it/s]\n"
     ]
    },
    {
     "name": "stdout",
     "output_type": "stream",
     "text": [
      "Epoch 168/500, Loss: 2.541563093662262\n"
     ]
    },
    {
     "name": "stderr",
     "output_type": "stream",
     "text": [
      "training in progress: 100%|██████████| 8/8 [00:00<00:00, 16.30it/s]\n"
     ]
    },
    {
     "name": "stdout",
     "output_type": "stream",
     "text": [
      "Epoch 169/500, Loss: 2.543378710746765\n"
     ]
    },
    {
     "name": "stderr",
     "output_type": "stream",
     "text": [
      "training in progress: 100%|██████████| 8/8 [00:00<00:00, 14.44it/s]\n"
     ]
    },
    {
     "name": "stdout",
     "output_type": "stream",
     "text": [
      "Epoch 170/500, Loss: 2.547590136528015\n"
     ]
    },
    {
     "name": "stderr",
     "output_type": "stream",
     "text": [
      "training in progress: 100%|██████████| 8/8 [00:00<00:00, 16.09it/s]\n"
     ]
    },
    {
     "name": "stdout",
     "output_type": "stream",
     "text": [
      "Epoch 171/500, Loss: 2.545544058084488\n"
     ]
    },
    {
     "name": "stderr",
     "output_type": "stream",
     "text": [
      "training in progress: 100%|██████████| 8/8 [00:00<00:00, 15.26it/s]\n"
     ]
    },
    {
     "name": "stdout",
     "output_type": "stream",
     "text": [
      "Epoch 172/500, Loss: 2.5518102943897247\n"
     ]
    },
    {
     "name": "stderr",
     "output_type": "stream",
     "text": [
      "training in progress: 100%|██████████| 8/8 [00:00<00:00, 14.91it/s]\n"
     ]
    },
    {
     "name": "stdout",
     "output_type": "stream",
     "text": [
      "Epoch 173/500, Loss: 2.5535939931869507\n"
     ]
    },
    {
     "name": "stderr",
     "output_type": "stream",
     "text": [
      "training in progress: 100%|██████████| 8/8 [00:00<00:00, 14.03it/s]\n"
     ]
    },
    {
     "name": "stdout",
     "output_type": "stream",
     "text": [
      "Epoch 174/500, Loss: 2.5566678941249847\n"
     ]
    },
    {
     "name": "stderr",
     "output_type": "stream",
     "text": [
      "training in progress: 100%|██████████| 8/8 [00:00<00:00, 15.74it/s]\n"
     ]
    },
    {
     "name": "stdout",
     "output_type": "stream",
     "text": [
      "Epoch 175/500, Loss: 2.556330054998398\n"
     ]
    },
    {
     "name": "stderr",
     "output_type": "stream",
     "text": [
      "training in progress: 100%|██████████| 8/8 [00:00<00:00, 16.25it/s]\n"
     ]
    },
    {
     "name": "stdout",
     "output_type": "stream",
     "text": [
      "Epoch 176/500, Loss: 2.5566935539245605\n"
     ]
    },
    {
     "name": "stderr",
     "output_type": "stream",
     "text": [
      "training in progress: 100%|██████████| 8/8 [00:00<00:00, 14.56it/s]\n"
     ]
    },
    {
     "name": "stdout",
     "output_type": "stream",
     "text": [
      "Epoch 177/500, Loss: 2.5481526851654053\n"
     ]
    },
    {
     "name": "stderr",
     "output_type": "stream",
     "text": [
      "training in progress: 100%|██████████| 8/8 [00:00<00:00, 16.08it/s]\n"
     ]
    },
    {
     "name": "stdout",
     "output_type": "stream",
     "text": [
      "Epoch 178/500, Loss: 2.5411152243614197\n"
     ]
    },
    {
     "name": "stderr",
     "output_type": "stream",
     "text": [
      "training in progress: 100%|██████████| 8/8 [00:00<00:00, 16.03it/s]\n"
     ]
    },
    {
     "name": "stdout",
     "output_type": "stream",
     "text": [
      "Epoch 179/500, Loss: 2.5312175154685974\n"
     ]
    },
    {
     "name": "stderr",
     "output_type": "stream",
     "text": [
      "training in progress: 100%|██████████| 8/8 [00:00<00:00, 15.92it/s]\n"
     ]
    },
    {
     "name": "stdout",
     "output_type": "stream",
     "text": [
      "Epoch 180/500, Loss: 2.5315443575382233\n"
     ]
    },
    {
     "name": "stderr",
     "output_type": "stream",
     "text": [
      "training in progress: 100%|██████████| 8/8 [00:00<00:00, 13.32it/s]\n"
     ]
    },
    {
     "name": "stdout",
     "output_type": "stream",
     "text": [
      "Epoch 181/500, Loss: 2.528970330953598\n"
     ]
    },
    {
     "name": "stderr",
     "output_type": "stream",
     "text": [
      "training in progress: 100%|██████████| 8/8 [00:00<00:00, 13.36it/s]\n"
     ]
    },
    {
     "name": "stdout",
     "output_type": "stream",
     "text": [
      "Epoch 182/500, Loss: 2.5218912959098816\n"
     ]
    },
    {
     "name": "stderr",
     "output_type": "stream",
     "text": [
      "training in progress: 100%|██████████| 8/8 [00:00<00:00, 16.32it/s]\n"
     ]
    },
    {
     "name": "stdout",
     "output_type": "stream",
     "text": [
      "Epoch 183/500, Loss: 2.5236367881298065\n"
     ]
    },
    {
     "name": "stderr",
     "output_type": "stream",
     "text": [
      "training in progress: 100%|██████████| 8/8 [00:00<00:00, 16.17it/s]\n"
     ]
    },
    {
     "name": "stdout",
     "output_type": "stream",
     "text": [
      "Epoch 184/500, Loss: 2.5226391553878784\n"
     ]
    },
    {
     "name": "stderr",
     "output_type": "stream",
     "text": [
      "training in progress: 100%|██████████| 8/8 [00:00<00:00, 16.24it/s]\n"
     ]
    },
    {
     "name": "stdout",
     "output_type": "stream",
     "text": [
      "Epoch 185/500, Loss: 2.527579665184021\n"
     ]
    },
    {
     "name": "stderr",
     "output_type": "stream",
     "text": [
      "training in progress: 100%|██████████| 8/8 [00:00<00:00, 13.57it/s]\n"
     ]
    },
    {
     "name": "stdout",
     "output_type": "stream",
     "text": [
      "Epoch 186/500, Loss: 2.532766819000244\n"
     ]
    },
    {
     "name": "stderr",
     "output_type": "stream",
     "text": [
      "training in progress: 100%|██████████| 8/8 [00:00<00:00, 14.58it/s]\n"
     ]
    },
    {
     "name": "stdout",
     "output_type": "stream",
     "text": [
      "Epoch 187/500, Loss: 2.5314240753650665\n"
     ]
    },
    {
     "name": "stderr",
     "output_type": "stream",
     "text": [
      "training in progress: 100%|██████████| 8/8 [00:00<00:00, 15.04it/s]\n"
     ]
    },
    {
     "name": "stdout",
     "output_type": "stream",
     "text": [
      "Epoch 188/500, Loss: 2.5286618769168854\n"
     ]
    },
    {
     "name": "stderr",
     "output_type": "stream",
     "text": [
      "training in progress: 100%|██████████| 8/8 [00:00<00:00, 13.55it/s]\n"
     ]
    },
    {
     "name": "stdout",
     "output_type": "stream",
     "text": [
      "Epoch 189/500, Loss: 2.5302364230155945\n"
     ]
    },
    {
     "name": "stderr",
     "output_type": "stream",
     "text": [
      "training in progress: 100%|██████████| 8/8 [00:00<00:00, 14.06it/s]\n"
     ]
    },
    {
     "name": "stdout",
     "output_type": "stream",
     "text": [
      "Epoch 190/500, Loss: 2.527725011110306\n"
     ]
    },
    {
     "name": "stderr",
     "output_type": "stream",
     "text": [
      "training in progress: 100%|██████████| 8/8 [00:00<00:00, 14.37it/s]\n"
     ]
    },
    {
     "name": "stdout",
     "output_type": "stream",
     "text": [
      "Epoch 191/500, Loss: 2.5209759175777435\n"
     ]
    },
    {
     "name": "stderr",
     "output_type": "stream",
     "text": [
      "training in progress: 100%|██████████| 8/8 [00:00<00:00, 12.47it/s]\n"
     ]
    },
    {
     "name": "stdout",
     "output_type": "stream",
     "text": [
      "Epoch 192/500, Loss: 2.520976960659027\n"
     ]
    },
    {
     "name": "stderr",
     "output_type": "stream",
     "text": [
      "training in progress: 100%|██████████| 8/8 [00:00<00:00, 16.31it/s]\n"
     ]
    },
    {
     "name": "stdout",
     "output_type": "stream",
     "text": [
      "Epoch 193/500, Loss: 2.518993377685547\n"
     ]
    },
    {
     "name": "stderr",
     "output_type": "stream",
     "text": [
      "training in progress: 100%|██████████| 8/8 [00:00<00:00, 13.52it/s]\n"
     ]
    },
    {
     "name": "stdout",
     "output_type": "stream",
     "text": [
      "Epoch 194/500, Loss: 2.5142984986305237\n"
     ]
    },
    {
     "name": "stderr",
     "output_type": "stream",
     "text": [
      "training in progress: 100%|██████████| 8/8 [00:00<00:00, 13.77it/s]\n"
     ]
    },
    {
     "name": "stdout",
     "output_type": "stream",
     "text": [
      "Epoch 195/500, Loss: 2.512503921985626\n"
     ]
    },
    {
     "name": "stderr",
     "output_type": "stream",
     "text": [
      "training in progress: 100%|██████████| 8/8 [00:00<00:00, 12.85it/s]\n"
     ]
    },
    {
     "name": "stdout",
     "output_type": "stream",
     "text": [
      "Epoch 196/500, Loss: 2.515564888715744\n"
     ]
    },
    {
     "name": "stderr",
     "output_type": "stream",
     "text": [
      "training in progress: 100%|██████████| 8/8 [00:00<00:00, 14.20it/s]\n"
     ]
    },
    {
     "name": "stdout",
     "output_type": "stream",
     "text": [
      "Epoch 197/500, Loss: 2.5164431035518646\n"
     ]
    },
    {
     "name": "stderr",
     "output_type": "stream",
     "text": [
      "training in progress: 100%|██████████| 8/8 [00:00<00:00, 11.76it/s]\n"
     ]
    },
    {
     "name": "stdout",
     "output_type": "stream",
     "text": [
      "Epoch 198/500, Loss: 2.5223553478717804\n"
     ]
    },
    {
     "name": "stderr",
     "output_type": "stream",
     "text": [
      "training in progress: 100%|██████████| 8/8 [00:00<00:00, 15.28it/s]\n"
     ]
    },
    {
     "name": "stdout",
     "output_type": "stream",
     "text": [
      "Epoch 199/500, Loss: 2.526656925678253\n"
     ]
    },
    {
     "name": "stderr",
     "output_type": "stream",
     "text": [
      "training in progress: 100%|██████████| 8/8 [00:00<00:00, 15.65it/s]\n"
     ]
    },
    {
     "name": "stdout",
     "output_type": "stream",
     "text": [
      "Epoch 200/500, Loss: 2.5295867025852203\n"
     ]
    },
    {
     "name": "stderr",
     "output_type": "stream",
     "text": [
      "training in progress: 100%|██████████| 8/8 [00:00<00:00, 14.27it/s]\n"
     ]
    },
    {
     "name": "stdout",
     "output_type": "stream",
     "text": [
      "Epoch 201/500, Loss: 2.531495213508606\n"
     ]
    },
    {
     "name": "stderr",
     "output_type": "stream",
     "text": [
      "training in progress: 100%|██████████| 8/8 [00:00<00:00, 16.16it/s]\n"
     ]
    },
    {
     "name": "stdout",
     "output_type": "stream",
     "text": [
      "Epoch 202/500, Loss: 2.523276060819626\n"
     ]
    },
    {
     "name": "stderr",
     "output_type": "stream",
     "text": [
      "training in progress: 100%|██████████| 8/8 [00:00<00:00, 16.11it/s]\n"
     ]
    },
    {
     "name": "stdout",
     "output_type": "stream",
     "text": [
      "Epoch 203/500, Loss: 2.5259472727775574\n"
     ]
    },
    {
     "name": "stderr",
     "output_type": "stream",
     "text": [
      "training in progress: 100%|██████████| 8/8 [00:00<00:00, 16.10it/s]\n"
     ]
    },
    {
     "name": "stdout",
     "output_type": "stream",
     "text": [
      "Epoch 204/500, Loss: 2.5199452340602875\n"
     ]
    },
    {
     "name": "stderr",
     "output_type": "stream",
     "text": [
      "training in progress: 100%|██████████| 8/8 [00:00<00:00, 14.04it/s]\n"
     ]
    },
    {
     "name": "stdout",
     "output_type": "stream",
     "text": [
      "Epoch 205/500, Loss: 2.514323204755783\n"
     ]
    },
    {
     "name": "stderr",
     "output_type": "stream",
     "text": [
      "training in progress: 100%|██████████| 8/8 [00:00<00:00, 16.27it/s]\n"
     ]
    },
    {
     "name": "stdout",
     "output_type": "stream",
     "text": [
      "Epoch 206/500, Loss: 2.508929342031479\n"
     ]
    },
    {
     "name": "stderr",
     "output_type": "stream",
     "text": [
      "training in progress: 100%|██████████| 8/8 [00:00<00:00, 16.26it/s]\n"
     ]
    },
    {
     "name": "stdout",
     "output_type": "stream",
     "text": [
      "Epoch 207/500, Loss: 2.505612015724182\n"
     ]
    },
    {
     "name": "stderr",
     "output_type": "stream",
     "text": [
      "training in progress: 100%|██████████| 8/8 [00:00<00:00, 16.00it/s]\n"
     ]
    },
    {
     "name": "stdout",
     "output_type": "stream",
     "text": [
      "Epoch 208/500, Loss: 2.5011939108371735\n"
     ]
    },
    {
     "name": "stderr",
     "output_type": "stream",
     "text": [
      "training in progress: 100%|██████████| 8/8 [00:00<00:00, 13.54it/s]\n"
     ]
    },
    {
     "name": "stdout",
     "output_type": "stream",
     "text": [
      "Epoch 209/500, Loss: 2.496992588043213\n"
     ]
    },
    {
     "name": "stderr",
     "output_type": "stream",
     "text": [
      "training in progress: 100%|██████████| 8/8 [00:00<00:00, 16.26it/s]\n"
     ]
    },
    {
     "name": "stdout",
     "output_type": "stream",
     "text": [
      "Epoch 210/500, Loss: 2.506346821784973\n"
     ]
    },
    {
     "name": "stderr",
     "output_type": "stream",
     "text": [
      "training in progress: 100%|██████████| 8/8 [00:00<00:00, 16.24it/s]\n"
     ]
    },
    {
     "name": "stdout",
     "output_type": "stream",
     "text": [
      "Epoch 211/500, Loss: 2.5026256442070007\n"
     ]
    },
    {
     "name": "stderr",
     "output_type": "stream",
     "text": [
      "training in progress: 100%|██████████| 8/8 [00:00<00:00, 16.29it/s]\n"
     ]
    },
    {
     "name": "stdout",
     "output_type": "stream",
     "text": [
      "Epoch 212/500, Loss: 2.502257227897644\n"
     ]
    },
    {
     "name": "stderr",
     "output_type": "stream",
     "text": [
      "training in progress: 100%|██████████| 8/8 [00:00<00:00, 13.96it/s]\n"
     ]
    },
    {
     "name": "stdout",
     "output_type": "stream",
     "text": [
      "Epoch 213/500, Loss: 2.5017597675323486\n"
     ]
    },
    {
     "name": "stderr",
     "output_type": "stream",
     "text": [
      "training in progress: 100%|██████████| 8/8 [00:00<00:00, 16.38it/s]\n"
     ]
    },
    {
     "name": "stdout",
     "output_type": "stream",
     "text": [
      "Epoch 214/500, Loss: 2.5002828538417816\n"
     ]
    },
    {
     "name": "stderr",
     "output_type": "stream",
     "text": [
      "training in progress: 100%|██████████| 8/8 [00:00<00:00, 16.40it/s]\n"
     ]
    },
    {
     "name": "stdout",
     "output_type": "stream",
     "text": [
      "Epoch 215/500, Loss: 2.49473974108696\n"
     ]
    },
    {
     "name": "stderr",
     "output_type": "stream",
     "text": [
      "training in progress: 100%|██████████| 8/8 [00:00<00:00, 16.38it/s]\n"
     ]
    },
    {
     "name": "stdout",
     "output_type": "stream",
     "text": [
      "Epoch 216/500, Loss: 2.4969619810581207\n"
     ]
    },
    {
     "name": "stderr",
     "output_type": "stream",
     "text": [
      "training in progress: 100%|██████████| 8/8 [00:00<00:00, 14.04it/s]\n"
     ]
    },
    {
     "name": "stdout",
     "output_type": "stream",
     "text": [
      "Epoch 217/500, Loss: 2.487828850746155\n"
     ]
    },
    {
     "name": "stderr",
     "output_type": "stream",
     "text": [
      "training in progress: 100%|██████████| 8/8 [00:00<00:00, 16.17it/s]\n"
     ]
    },
    {
     "name": "stdout",
     "output_type": "stream",
     "text": [
      "Epoch 218/500, Loss: 2.48090597987175\n"
     ]
    },
    {
     "name": "stderr",
     "output_type": "stream",
     "text": [
      "training in progress: 100%|██████████| 8/8 [00:00<00:00, 16.43it/s]\n"
     ]
    },
    {
     "name": "stdout",
     "output_type": "stream",
     "text": [
      "Epoch 219/500, Loss: 2.4654577672481537\n"
     ]
    },
    {
     "name": "stderr",
     "output_type": "stream",
     "text": [
      "training in progress: 100%|██████████| 8/8 [00:00<00:00, 14.79it/s]\n"
     ]
    },
    {
     "name": "stdout",
     "output_type": "stream",
     "text": [
      "Epoch 220/500, Loss: 2.4606928527355194\n"
     ]
    },
    {
     "name": "stderr",
     "output_type": "stream",
     "text": [
      "training in progress: 100%|██████████| 8/8 [00:00<00:00, 15.81it/s]\n"
     ]
    },
    {
     "name": "stdout",
     "output_type": "stream",
     "text": [
      "Epoch 221/500, Loss: 2.455987900495529\n"
     ]
    },
    {
     "name": "stderr",
     "output_type": "stream",
     "text": [
      "training in progress: 100%|██████████| 8/8 [00:00<00:00, 16.37it/s]\n"
     ]
    },
    {
     "name": "stdout",
     "output_type": "stream",
     "text": [
      "Epoch 222/500, Loss: 2.4556061029434204\n"
     ]
    },
    {
     "name": "stderr",
     "output_type": "stream",
     "text": [
      "training in progress: 100%|██████████| 8/8 [00:00<00:00, 15.89it/s]\n"
     ]
    },
    {
     "name": "stdout",
     "output_type": "stream",
     "text": [
      "Epoch 223/500, Loss: 2.4527359306812286\n"
     ]
    },
    {
     "name": "stderr",
     "output_type": "stream",
     "text": [
      "training in progress: 100%|██████████| 8/8 [00:00<00:00, 12.38it/s]\n"
     ]
    },
    {
     "name": "stdout",
     "output_type": "stream",
     "text": [
      "Epoch 224/500, Loss: 2.461463063955307\n"
     ]
    },
    {
     "name": "stderr",
     "output_type": "stream",
     "text": [
      "training in progress: 100%|██████████| 8/8 [00:00<00:00, 15.41it/s]\n"
     ]
    },
    {
     "name": "stdout",
     "output_type": "stream",
     "text": [
      "Epoch 225/500, Loss: 2.473752498626709\n"
     ]
    },
    {
     "name": "stderr",
     "output_type": "stream",
     "text": [
      "training in progress: 100%|██████████| 8/8 [00:00<00:00, 15.89it/s]\n"
     ]
    },
    {
     "name": "stdout",
     "output_type": "stream",
     "text": [
      "Epoch 226/500, Loss: 2.487124890089035\n"
     ]
    },
    {
     "name": "stderr",
     "output_type": "stream",
     "text": [
      "training in progress: 100%|██████████| 8/8 [00:00<00:00, 14.42it/s]\n"
     ]
    },
    {
     "name": "stdout",
     "output_type": "stream",
     "text": [
      "Epoch 227/500, Loss: 2.5017518401145935\n"
     ]
    },
    {
     "name": "stderr",
     "output_type": "stream",
     "text": [
      "training in progress: 100%|██████████| 8/8 [00:00<00:00, 16.36it/s]\n"
     ]
    },
    {
     "name": "stdout",
     "output_type": "stream",
     "text": [
      "Epoch 228/500, Loss: 2.5154467821121216\n"
     ]
    },
    {
     "name": "stderr",
     "output_type": "stream",
     "text": [
      "training in progress: 100%|██████████| 8/8 [00:00<00:00, 16.35it/s]\n"
     ]
    },
    {
     "name": "stdout",
     "output_type": "stream",
     "text": [
      "Epoch 229/500, Loss: 2.5287045538425446\n"
     ]
    },
    {
     "name": "stderr",
     "output_type": "stream",
     "text": [
      "training in progress: 100%|██████████| 8/8 [00:00<00:00, 16.39it/s]\n"
     ]
    },
    {
     "name": "stdout",
     "output_type": "stream",
     "text": [
      "Epoch 230/500, Loss: 2.5261306762695312\n"
     ]
    },
    {
     "name": "stderr",
     "output_type": "stream",
     "text": [
      "training in progress: 100%|██████████| 8/8 [00:00<00:00, 14.08it/s]\n"
     ]
    },
    {
     "name": "stdout",
     "output_type": "stream",
     "text": [
      "Epoch 231/500, Loss: 2.523522198200226\n"
     ]
    },
    {
     "name": "stderr",
     "output_type": "stream",
     "text": [
      "training in progress: 100%|██████████| 8/8 [00:00<00:00, 15.92it/s]\n"
     ]
    },
    {
     "name": "stdout",
     "output_type": "stream",
     "text": [
      "Epoch 232/500, Loss: 2.516231507062912\n"
     ]
    },
    {
     "name": "stderr",
     "output_type": "stream",
     "text": [
      "training in progress: 100%|██████████| 8/8 [00:00<00:00, 13.84it/s]\n"
     ]
    },
    {
     "name": "stdout",
     "output_type": "stream",
     "text": [
      "Epoch 233/500, Loss: 2.5049724876880646\n"
     ]
    },
    {
     "name": "stderr",
     "output_type": "stream",
     "text": [
      "training in progress: 100%|██████████| 8/8 [00:00<00:00, 14.38it/s]\n"
     ]
    },
    {
     "name": "stdout",
     "output_type": "stream",
     "text": [
      "Epoch 234/500, Loss: 2.4838043451309204\n"
     ]
    },
    {
     "name": "stderr",
     "output_type": "stream",
     "text": [
      "training in progress: 100%|██████████| 8/8 [00:00<00:00, 15.65it/s]\n"
     ]
    },
    {
     "name": "stdout",
     "output_type": "stream",
     "text": [
      "Epoch 235/500, Loss: 2.4764473140239716\n"
     ]
    },
    {
     "name": "stderr",
     "output_type": "stream",
     "text": [
      "training in progress: 100%|██████████| 8/8 [00:00<00:00, 16.07it/s]\n"
     ]
    },
    {
     "name": "stdout",
     "output_type": "stream",
     "text": [
      "Epoch 236/500, Loss: 2.464714467525482\n"
     ]
    },
    {
     "name": "stderr",
     "output_type": "stream",
     "text": [
      "training in progress: 100%|██████████| 8/8 [00:00<00:00, 16.05it/s]\n"
     ]
    },
    {
     "name": "stdout",
     "output_type": "stream",
     "text": [
      "Epoch 237/500, Loss: 2.461327612400055\n"
     ]
    },
    {
     "name": "stderr",
     "output_type": "stream",
     "text": [
      "training in progress: 100%|██████████| 8/8 [00:00<00:00, 14.15it/s]\n"
     ]
    },
    {
     "name": "stdout",
     "output_type": "stream",
     "text": [
      "Epoch 238/500, Loss: 2.4613354802131653\n"
     ]
    },
    {
     "name": "stderr",
     "output_type": "stream",
     "text": [
      "training in progress: 100%|██████████| 8/8 [00:00<00:00, 16.13it/s]\n"
     ]
    },
    {
     "name": "stdout",
     "output_type": "stream",
     "text": [
      "Epoch 239/500, Loss: 2.464141011238098\n"
     ]
    },
    {
     "name": "stderr",
     "output_type": "stream",
     "text": [
      "training in progress: 100%|██████████| 8/8 [00:00<00:00, 16.27it/s]\n"
     ]
    },
    {
     "name": "stdout",
     "output_type": "stream",
     "text": [
      "Epoch 240/500, Loss: 2.4654450118541718\n"
     ]
    },
    {
     "name": "stderr",
     "output_type": "stream",
     "text": [
      "training in progress: 100%|██████████| 8/8 [00:00<00:00, 16.21it/s]\n"
     ]
    },
    {
     "name": "stdout",
     "output_type": "stream",
     "text": [
      "Epoch 241/500, Loss: 2.4744484424591064\n"
     ]
    },
    {
     "name": "stderr",
     "output_type": "stream",
     "text": [
      "training in progress: 100%|██████████| 8/8 [00:00<00:00, 13.83it/s]\n"
     ]
    },
    {
     "name": "stdout",
     "output_type": "stream",
     "text": [
      "Epoch 242/500, Loss: 2.4860770106315613\n"
     ]
    },
    {
     "name": "stderr",
     "output_type": "stream",
     "text": [
      "training in progress: 100%|██████████| 8/8 [00:00<00:00, 16.03it/s]\n"
     ]
    },
    {
     "name": "stdout",
     "output_type": "stream",
     "text": [
      "Epoch 243/500, Loss: 2.49543434381485\n"
     ]
    },
    {
     "name": "stderr",
     "output_type": "stream",
     "text": [
      "training in progress: 100%|██████████| 8/8 [00:00<00:00, 16.01it/s]\n"
     ]
    },
    {
     "name": "stdout",
     "output_type": "stream",
     "text": [
      "Epoch 244/500, Loss: 2.5030815303325653\n"
     ]
    },
    {
     "name": "stderr",
     "output_type": "stream",
     "text": [
      "training in progress: 100%|██████████| 8/8 [00:00<00:00, 16.20it/s]\n"
     ]
    },
    {
     "name": "stdout",
     "output_type": "stream",
     "text": [
      "Epoch 245/500, Loss: 2.5040051341056824\n"
     ]
    },
    {
     "name": "stderr",
     "output_type": "stream",
     "text": [
      "training in progress: 100%|██████████| 8/8 [00:00<00:00, 13.77it/s]\n"
     ]
    },
    {
     "name": "stdout",
     "output_type": "stream",
     "text": [
      "Epoch 246/500, Loss: 2.5056556463241577\n"
     ]
    },
    {
     "name": "stderr",
     "output_type": "stream",
     "text": [
      "training in progress: 100%|██████████| 8/8 [00:00<00:00, 15.51it/s]\n"
     ]
    },
    {
     "name": "stdout",
     "output_type": "stream",
     "text": [
      "Epoch 247/500, Loss: 2.4999124705791473\n"
     ]
    },
    {
     "name": "stderr",
     "output_type": "stream",
     "text": [
      "training in progress: 100%|██████████| 8/8 [00:00<00:00, 16.28it/s]\n"
     ]
    },
    {
     "name": "stdout",
     "output_type": "stream",
     "text": [
      "Epoch 248/500, Loss: 2.4977385699748993\n"
     ]
    },
    {
     "name": "stderr",
     "output_type": "stream",
     "text": [
      "training in progress: 100%|██████████| 8/8 [00:00<00:00, 12.29it/s]\n"
     ]
    },
    {
     "name": "stdout",
     "output_type": "stream",
     "text": [
      "Epoch 249/500, Loss: 2.4916792511940002\n"
     ]
    },
    {
     "name": "stderr",
     "output_type": "stream",
     "text": [
      "training in progress: 100%|██████████| 8/8 [00:00<00:00, 14.11it/s]\n"
     ]
    },
    {
     "name": "stdout",
     "output_type": "stream",
     "text": [
      "Epoch 250/500, Loss: 2.4845199584960938\n"
     ]
    },
    {
     "name": "stderr",
     "output_type": "stream",
     "text": [
      "training in progress: 100%|██████████| 8/8 [00:00<00:00, 15.56it/s]\n"
     ]
    },
    {
     "name": "stdout",
     "output_type": "stream",
     "text": [
      "Epoch 251/500, Loss: 2.473667800426483\n"
     ]
    },
    {
     "name": "stderr",
     "output_type": "stream",
     "text": [
      "training in progress: 100%|██████████| 8/8 [00:00<00:00, 16.58it/s]\n"
     ]
    },
    {
     "name": "stdout",
     "output_type": "stream",
     "text": [
      "Epoch 252/500, Loss: 2.466397285461426\n"
     ]
    },
    {
     "name": "stderr",
     "output_type": "stream",
     "text": [
      "training in progress: 100%|██████████| 8/8 [00:00<00:00, 14.34it/s]\n"
     ]
    },
    {
     "name": "stdout",
     "output_type": "stream",
     "text": [
      "Epoch 253/500, Loss: 2.456047087907791\n"
     ]
    },
    {
     "name": "stderr",
     "output_type": "stream",
     "text": [
      "training in progress: 100%|██████████| 8/8 [00:00<00:00, 16.57it/s]\n"
     ]
    },
    {
     "name": "stdout",
     "output_type": "stream",
     "text": [
      "Epoch 254/500, Loss: 2.449570953845978\n"
     ]
    },
    {
     "name": "stderr",
     "output_type": "stream",
     "text": [
      "training in progress: 100%|██████████| 8/8 [00:00<00:00, 16.70it/s]\n"
     ]
    },
    {
     "name": "stdout",
     "output_type": "stream",
     "text": [
      "Epoch 255/500, Loss: 2.4396581947803497\n"
     ]
    },
    {
     "name": "stderr",
     "output_type": "stream",
     "text": [
      "training in progress: 100%|██████████| 8/8 [00:00<00:00, 16.62it/s]\n"
     ]
    },
    {
     "name": "stdout",
     "output_type": "stream",
     "text": [
      "Epoch 256/500, Loss: 2.442579060792923\n"
     ]
    },
    {
     "name": "stderr",
     "output_type": "stream",
     "text": [
      "training in progress: 100%|██████████| 8/8 [00:00<00:00, 16.69it/s]\n"
     ]
    },
    {
     "name": "stdout",
     "output_type": "stream",
     "text": [
      "Epoch 257/500, Loss: 2.444230616092682\n"
     ]
    },
    {
     "name": "stderr",
     "output_type": "stream",
     "text": [
      "training in progress: 100%|██████████| 8/8 [00:00<00:00, 14.42it/s]\n"
     ]
    },
    {
     "name": "stdout",
     "output_type": "stream",
     "text": [
      "Epoch 258/500, Loss: 2.4485574662685394\n"
     ]
    },
    {
     "name": "stderr",
     "output_type": "stream",
     "text": [
      "training in progress: 100%|██████████| 8/8 [00:00<00:00, 16.34it/s]\n"
     ]
    },
    {
     "name": "stdout",
     "output_type": "stream",
     "text": [
      "Epoch 259/500, Loss: 2.4533694088459015\n"
     ]
    },
    {
     "name": "stderr",
     "output_type": "stream",
     "text": [
      "training in progress: 100%|██████████| 8/8 [00:00<00:00, 16.38it/s]\n"
     ]
    },
    {
     "name": "stdout",
     "output_type": "stream",
     "text": [
      "Epoch 260/500, Loss: 2.4528844952583313\n"
     ]
    },
    {
     "name": "stderr",
     "output_type": "stream",
     "text": [
      "training in progress: 100%|██████████| 8/8 [00:00<00:00, 16.52it/s]\n"
     ]
    },
    {
     "name": "stdout",
     "output_type": "stream",
     "text": [
      "Epoch 261/500, Loss: 2.4609201550483704\n"
     ]
    },
    {
     "name": "stderr",
     "output_type": "stream",
     "text": [
      "training in progress: 100%|██████████| 8/8 [00:00<00:00, 16.69it/s]\n"
     ]
    },
    {
     "name": "stdout",
     "output_type": "stream",
     "text": [
      "Epoch 262/500, Loss: 2.463148355484009\n"
     ]
    },
    {
     "name": "stderr",
     "output_type": "stream",
     "text": [
      "training in progress: 100%|██████████| 8/8 [00:00<00:00, 14.19it/s]\n"
     ]
    },
    {
     "name": "stdout",
     "output_type": "stream",
     "text": [
      "Epoch 263/500, Loss: 2.472877085208893\n"
     ]
    },
    {
     "name": "stderr",
     "output_type": "stream",
     "text": [
      "training in progress: 100%|██████████| 8/8 [00:00<00:00, 15.07it/s]\n"
     ]
    },
    {
     "name": "stdout",
     "output_type": "stream",
     "text": [
      "Epoch 264/500, Loss: 2.476762592792511\n"
     ]
    },
    {
     "name": "stderr",
     "output_type": "stream",
     "text": [
      "training in progress: 100%|██████████| 8/8 [00:00<00:00, 15.15it/s]\n"
     ]
    },
    {
     "name": "stdout",
     "output_type": "stream",
     "text": [
      "Epoch 265/500, Loss: 2.477104216814041\n"
     ]
    },
    {
     "name": "stderr",
     "output_type": "stream",
     "text": [
      "training in progress: 100%|██████████| 8/8 [00:00<00:00, 15.16it/s]\n"
     ]
    },
    {
     "name": "stdout",
     "output_type": "stream",
     "text": [
      "Epoch 266/500, Loss: 2.479363441467285\n"
     ]
    },
    {
     "name": "stderr",
     "output_type": "stream",
     "text": [
      "training in progress: 100%|██████████| 8/8 [00:00<00:00, 13.19it/s]\n"
     ]
    },
    {
     "name": "stdout",
     "output_type": "stream",
     "text": [
      "Epoch 267/500, Loss: 2.481088638305664\n"
     ]
    },
    {
     "name": "stderr",
     "output_type": "stream",
     "text": [
      "training in progress: 100%|██████████| 8/8 [00:00<00:00, 15.63it/s]\n"
     ]
    },
    {
     "name": "stdout",
     "output_type": "stream",
     "text": [
      "Epoch 268/500, Loss: 2.468980312347412\n"
     ]
    },
    {
     "name": "stderr",
     "output_type": "stream",
     "text": [
      "training in progress: 100%|██████████| 8/8 [00:00<00:00, 16.18it/s]\n"
     ]
    },
    {
     "name": "stdout",
     "output_type": "stream",
     "text": [
      "Epoch 269/500, Loss: 2.457605630159378\n"
     ]
    },
    {
     "name": "stderr",
     "output_type": "stream",
     "text": [
      "training in progress: 100%|██████████| 8/8 [00:00<00:00, 14.84it/s]\n"
     ]
    },
    {
     "name": "stdout",
     "output_type": "stream",
     "text": [
      "Epoch 270/500, Loss: 2.456251233816147\n"
     ]
    },
    {
     "name": "stderr",
     "output_type": "stream",
     "text": [
      "training in progress: 100%|██████████| 8/8 [00:00<00:00, 14.86it/s]\n"
     ]
    },
    {
     "name": "stdout",
     "output_type": "stream",
     "text": [
      "Epoch 271/500, Loss: 2.4560011327266693\n"
     ]
    },
    {
     "name": "stderr",
     "output_type": "stream",
     "text": [
      "training in progress: 100%|██████████| 8/8 [00:00<00:00, 13.42it/s]\n"
     ]
    },
    {
     "name": "stdout",
     "output_type": "stream",
     "text": [
      "Epoch 272/500, Loss: 2.4467440843582153\n"
     ]
    },
    {
     "name": "stderr",
     "output_type": "stream",
     "text": [
      "training in progress: 100%|██████████| 8/8 [00:00<00:00, 14.73it/s]\n"
     ]
    },
    {
     "name": "stdout",
     "output_type": "stream",
     "text": [
      "Epoch 273/500, Loss: 2.435949891805649\n"
     ]
    },
    {
     "name": "stderr",
     "output_type": "stream",
     "text": [
      "training in progress: 100%|██████████| 8/8 [00:00<00:00, 15.02it/s]\n"
     ]
    },
    {
     "name": "stdout",
     "output_type": "stream",
     "text": [
      "Epoch 274/500, Loss: 2.4449575543403625\n"
     ]
    },
    {
     "name": "stderr",
     "output_type": "stream",
     "text": [
      "training in progress: 100%|██████████| 8/8 [00:00<00:00, 15.84it/s]\n"
     ]
    },
    {
     "name": "stdout",
     "output_type": "stream",
     "text": [
      "Epoch 275/500, Loss: 2.4451701939105988\n"
     ]
    },
    {
     "name": "stderr",
     "output_type": "stream",
     "text": [
      "training in progress: 100%|██████████| 8/8 [00:00<00:00, 12.94it/s]\n"
     ]
    },
    {
     "name": "stdout",
     "output_type": "stream",
     "text": [
      "Epoch 276/500, Loss: 2.4461245834827423\n"
     ]
    },
    {
     "name": "stderr",
     "output_type": "stream",
     "text": [
      "training in progress: 100%|██████████| 8/8 [00:00<00:00, 15.67it/s]\n"
     ]
    },
    {
     "name": "stdout",
     "output_type": "stream",
     "text": [
      "Epoch 277/500, Loss: 2.4494278132915497\n"
     ]
    },
    {
     "name": "stderr",
     "output_type": "stream",
     "text": [
      "training in progress: 100%|██████████| 8/8 [00:00<00:00, 16.23it/s]\n"
     ]
    },
    {
     "name": "stdout",
     "output_type": "stream",
     "text": [
      "Epoch 278/500, Loss: 2.4519805014133453\n"
     ]
    },
    {
     "name": "stderr",
     "output_type": "stream",
     "text": [
      "training in progress: 100%|██████████| 8/8 [00:00<00:00, 15.63it/s]\n"
     ]
    },
    {
     "name": "stdout",
     "output_type": "stream",
     "text": [
      "Epoch 279/500, Loss: 2.458178997039795\n"
     ]
    },
    {
     "name": "stderr",
     "output_type": "stream",
     "text": [
      "training in progress: 100%|██████████| 8/8 [00:00<00:00, 14.91it/s]\n"
     ]
    },
    {
     "name": "stdout",
     "output_type": "stream",
     "text": [
      "Epoch 280/500, Loss: 2.4650739431381226\n"
     ]
    },
    {
     "name": "stderr",
     "output_type": "stream",
     "text": [
      "training in progress: 100%|██████████| 8/8 [00:00<00:00, 13.69it/s]\n"
     ]
    },
    {
     "name": "stdout",
     "output_type": "stream",
     "text": [
      "Epoch 281/500, Loss: 2.470201075077057\n"
     ]
    },
    {
     "name": "stderr",
     "output_type": "stream",
     "text": [
      "training in progress: 100%|██████████| 8/8 [00:00<00:00, 16.19it/s]\n"
     ]
    },
    {
     "name": "stdout",
     "output_type": "stream",
     "text": [
      "Epoch 282/500, Loss: 2.4723413586616516\n"
     ]
    },
    {
     "name": "stderr",
     "output_type": "stream",
     "text": [
      "training in progress: 100%|██████████| 8/8 [00:00<00:00, 16.35it/s]\n"
     ]
    },
    {
     "name": "stdout",
     "output_type": "stream",
     "text": [
      "Epoch 283/500, Loss: 2.4725606441497803\n"
     ]
    },
    {
     "name": "stderr",
     "output_type": "stream",
     "text": [
      "training in progress: 100%|██████████| 8/8 [00:00<00:00, 16.46it/s]\n"
     ]
    },
    {
     "name": "stdout",
     "output_type": "stream",
     "text": [
      "Epoch 284/500, Loss: 2.473410278558731\n"
     ]
    },
    {
     "name": "stderr",
     "output_type": "stream",
     "text": [
      "training in progress: 100%|██████████| 8/8 [00:00<00:00, 16.51it/s]\n"
     ]
    },
    {
     "name": "stdout",
     "output_type": "stream",
     "text": [
      "Epoch 285/500, Loss: 2.466839015483856\n"
     ]
    },
    {
     "name": "stderr",
     "output_type": "stream",
     "text": [
      "training in progress: 100%|██████████| 8/8 [00:00<00:00, 14.12it/s]\n"
     ]
    },
    {
     "name": "stdout",
     "output_type": "stream",
     "text": [
      "Epoch 286/500, Loss: 2.4610500931739807\n"
     ]
    },
    {
     "name": "stderr",
     "output_type": "stream",
     "text": [
      "training in progress: 100%|██████████| 8/8 [00:00<00:00, 16.47it/s]\n"
     ]
    },
    {
     "name": "stdout",
     "output_type": "stream",
     "text": [
      "Epoch 287/500, Loss: 2.457027643918991\n"
     ]
    },
    {
     "name": "stderr",
     "output_type": "stream",
     "text": [
      "training in progress: 100%|██████████| 8/8 [00:00<00:00, 16.53it/s]\n"
     ]
    },
    {
     "name": "stdout",
     "output_type": "stream",
     "text": [
      "Epoch 288/500, Loss: 2.4472482204437256\n"
     ]
    },
    {
     "name": "stderr",
     "output_type": "stream",
     "text": [
      "training in progress: 100%|██████████| 8/8 [00:00<00:00, 16.53it/s]\n"
     ]
    },
    {
     "name": "stdout",
     "output_type": "stream",
     "text": [
      "Epoch 289/500, Loss: 2.4390293955802917\n"
     ]
    },
    {
     "name": "stderr",
     "output_type": "stream",
     "text": [
      "training in progress: 100%|██████████| 8/8 [00:00<00:00, 16.50it/s]\n"
     ]
    },
    {
     "name": "stdout",
     "output_type": "stream",
     "text": [
      "Epoch 290/500, Loss: 2.4277812838554382\n"
     ]
    },
    {
     "name": "stderr",
     "output_type": "stream",
     "text": [
      "training in progress: 100%|██████████| 8/8 [00:00<00:00, 14.08it/s]\n"
     ]
    },
    {
     "name": "stdout",
     "output_type": "stream",
     "text": [
      "Epoch 291/500, Loss: 2.4236817359924316\n"
     ]
    },
    {
     "name": "stderr",
     "output_type": "stream",
     "text": [
      "training in progress: 100%|██████████| 8/8 [00:00<00:00, 16.47it/s]\n"
     ]
    },
    {
     "name": "stdout",
     "output_type": "stream",
     "text": [
      "Epoch 292/500, Loss: 2.4095719158649445\n"
     ]
    },
    {
     "name": "stderr",
     "output_type": "stream",
     "text": [
      "training in progress: 100%|██████████| 8/8 [00:00<00:00, 16.36it/s]\n"
     ]
    },
    {
     "name": "stdout",
     "output_type": "stream",
     "text": [
      "Epoch 293/500, Loss: 2.4028257727622986\n"
     ]
    },
    {
     "name": "stderr",
     "output_type": "stream",
     "text": [
      "training in progress: 100%|██████████| 8/8 [00:00<00:00, 16.37it/s]\n"
     ]
    },
    {
     "name": "stdout",
     "output_type": "stream",
     "text": [
      "Epoch 294/500, Loss: 2.402312994003296\n"
     ]
    },
    {
     "name": "stderr",
     "output_type": "stream",
     "text": [
      "training in progress: 100%|██████████| 8/8 [00:00<00:00, 16.15it/s]\n"
     ]
    },
    {
     "name": "stdout",
     "output_type": "stream",
     "text": [
      "Epoch 295/500, Loss: 2.3948096334934235\n"
     ]
    },
    {
     "name": "stderr",
     "output_type": "stream",
     "text": [
      "training in progress: 100%|██████████| 8/8 [00:00<00:00, 13.97it/s]\n"
     ]
    },
    {
     "name": "stdout",
     "output_type": "stream",
     "text": [
      "Epoch 296/500, Loss: 2.3934905529022217\n"
     ]
    },
    {
     "name": "stderr",
     "output_type": "stream",
     "text": [
      "training in progress: 100%|██████████| 8/8 [00:00<00:00, 16.41it/s]\n"
     ]
    },
    {
     "name": "stdout",
     "output_type": "stream",
     "text": [
      "Epoch 297/500, Loss: 2.402908891439438\n"
     ]
    },
    {
     "name": "stderr",
     "output_type": "stream",
     "text": [
      "training in progress: 100%|██████████| 8/8 [00:00<00:00, 16.50it/s]\n"
     ]
    },
    {
     "name": "stdout",
     "output_type": "stream",
     "text": [
      "Epoch 298/500, Loss: 2.4006783962249756\n"
     ]
    },
    {
     "name": "stderr",
     "output_type": "stream",
     "text": [
      "training in progress: 100%|██████████| 8/8 [00:00<00:00, 15.74it/s]\n"
     ]
    },
    {
     "name": "stdout",
     "output_type": "stream",
     "text": [
      "Epoch 299/500, Loss: 2.406259387731552\n"
     ]
    },
    {
     "name": "stderr",
     "output_type": "stream",
     "text": [
      "training in progress: 100%|██████████| 8/8 [00:00<00:00, 16.48it/s]\n"
     ]
    },
    {
     "name": "stdout",
     "output_type": "stream",
     "text": [
      "Epoch 300/500, Loss: 2.4113772213459015\n"
     ]
    },
    {
     "name": "stderr",
     "output_type": "stream",
     "text": [
      "training in progress: 100%|██████████| 8/8 [00:00<00:00, 14.53it/s]\n"
     ]
    },
    {
     "name": "stdout",
     "output_type": "stream",
     "text": [
      "Epoch 301/500, Loss: 2.4242638647556305\n"
     ]
    },
    {
     "name": "stderr",
     "output_type": "stream",
     "text": [
      "training in progress: 100%|██████████| 8/8 [00:00<00:00, 16.49it/s]\n"
     ]
    },
    {
     "name": "stdout",
     "output_type": "stream",
     "text": [
      "Epoch 302/500, Loss: 2.4311568439006805\n"
     ]
    },
    {
     "name": "stderr",
     "output_type": "stream",
     "text": [
      "training in progress: 100%|██████████| 8/8 [00:00<00:00, 16.41it/s]\n"
     ]
    },
    {
     "name": "stdout",
     "output_type": "stream",
     "text": [
      "Epoch 303/500, Loss: 2.439339518547058\n"
     ]
    },
    {
     "name": "stderr",
     "output_type": "stream",
     "text": [
      "training in progress: 100%|██████████| 8/8 [00:00<00:00, 16.50it/s]\n"
     ]
    },
    {
     "name": "stdout",
     "output_type": "stream",
     "text": [
      "Epoch 304/500, Loss: 2.448617696762085\n"
     ]
    },
    {
     "name": "stderr",
     "output_type": "stream",
     "text": [
      "training in progress: 100%|██████████| 8/8 [00:00<00:00, 16.54it/s]\n"
     ]
    },
    {
     "name": "stdout",
     "output_type": "stream",
     "text": [
      "Epoch 305/500, Loss: 2.448859602212906\n"
     ]
    },
    {
     "name": "stderr",
     "output_type": "stream",
     "text": [
      "training in progress: 100%|██████████| 8/8 [00:00<00:00, 14.39it/s]\n"
     ]
    },
    {
     "name": "stdout",
     "output_type": "stream",
     "text": [
      "Epoch 306/500, Loss: 2.454004317522049\n"
     ]
    },
    {
     "name": "stderr",
     "output_type": "stream",
     "text": [
      "training in progress: 100%|██████████| 8/8 [00:00<00:00, 16.41it/s]\n"
     ]
    },
    {
     "name": "stdout",
     "output_type": "stream",
     "text": [
      "Epoch 307/500, Loss: 2.4542754888534546\n"
     ]
    },
    {
     "name": "stderr",
     "output_type": "stream",
     "text": [
      "training in progress: 100%|██████████| 8/8 [00:00<00:00, 16.54it/s]\n"
     ]
    },
    {
     "name": "stdout",
     "output_type": "stream",
     "text": [
      "Epoch 308/500, Loss: 2.462325155735016\n"
     ]
    },
    {
     "name": "stderr",
     "output_type": "stream",
     "text": [
      "training in progress: 100%|██████████| 8/8 [00:00<00:00, 16.52it/s]\n"
     ]
    },
    {
     "name": "stdout",
     "output_type": "stream",
     "text": [
      "Epoch 309/500, Loss: 2.4566487073898315\n"
     ]
    },
    {
     "name": "stderr",
     "output_type": "stream",
     "text": [
      "training in progress: 100%|██████████| 8/8 [00:00<00:00, 16.51it/s]\n"
     ]
    },
    {
     "name": "stdout",
     "output_type": "stream",
     "text": [
      "Epoch 310/500, Loss: 2.4561331272125244\n"
     ]
    },
    {
     "name": "stderr",
     "output_type": "stream",
     "text": [
      "training in progress: 100%|██████████| 8/8 [00:00<00:00, 14.61it/s]\n"
     ]
    },
    {
     "name": "stdout",
     "output_type": "stream",
     "text": [
      "Epoch 311/500, Loss: 2.4438930451869965\n"
     ]
    },
    {
     "name": "stderr",
     "output_type": "stream",
     "text": [
      "training in progress: 100%|██████████| 8/8 [00:00<00:00, 16.37it/s]\n"
     ]
    },
    {
     "name": "stdout",
     "output_type": "stream",
     "text": [
      "Epoch 312/500, Loss: 2.4403833150863647\n"
     ]
    },
    {
     "name": "stderr",
     "output_type": "stream",
     "text": [
      "training in progress: 100%|██████████| 8/8 [00:00<00:00, 16.38it/s]\n"
     ]
    },
    {
     "name": "stdout",
     "output_type": "stream",
     "text": [
      "Epoch 313/500, Loss: 2.4352030754089355\n"
     ]
    },
    {
     "name": "stderr",
     "output_type": "stream",
     "text": [
      "training in progress: 100%|██████████| 8/8 [00:00<00:00, 16.51it/s]\n"
     ]
    },
    {
     "name": "stdout",
     "output_type": "stream",
     "text": [
      "Epoch 314/500, Loss: 2.425162434577942\n"
     ]
    },
    {
     "name": "stderr",
     "output_type": "stream",
     "text": [
      "training in progress: 100%|██████████| 8/8 [00:00<00:00, 16.55it/s]\n"
     ]
    },
    {
     "name": "stdout",
     "output_type": "stream",
     "text": [
      "Epoch 315/500, Loss: 2.416071116924286\n"
     ]
    },
    {
     "name": "stderr",
     "output_type": "stream",
     "text": [
      "training in progress: 100%|██████████| 8/8 [00:00<00:00, 14.30it/s]\n"
     ]
    },
    {
     "name": "stdout",
     "output_type": "stream",
     "text": [
      "Epoch 316/500, Loss: 2.407037526369095\n"
     ]
    },
    {
     "name": "stderr",
     "output_type": "stream",
     "text": [
      "training in progress: 100%|██████████| 8/8 [00:00<00:00, 16.17it/s]\n"
     ]
    },
    {
     "name": "stdout",
     "output_type": "stream",
     "text": [
      "Epoch 317/500, Loss: 2.3992048501968384\n"
     ]
    },
    {
     "name": "stderr",
     "output_type": "stream",
     "text": [
      "training in progress: 100%|██████████| 8/8 [00:00<00:00, 15.47it/s]\n"
     ]
    },
    {
     "name": "stdout",
     "output_type": "stream",
     "text": [
      "Epoch 318/500, Loss: 2.397092491388321\n"
     ]
    },
    {
     "name": "stderr",
     "output_type": "stream",
     "text": [
      "training in progress: 100%|██████████| 8/8 [00:00<00:00, 16.54it/s]\n"
     ]
    },
    {
     "name": "stdout",
     "output_type": "stream",
     "text": [
      "Epoch 319/500, Loss: 2.3884458541870117\n"
     ]
    },
    {
     "name": "stderr",
     "output_type": "stream",
     "text": [
      "training in progress: 100%|██████████| 8/8 [00:00<00:00, 14.45it/s]\n"
     ]
    },
    {
     "name": "stdout",
     "output_type": "stream",
     "text": [
      "Epoch 320/500, Loss: 2.383024513721466\n"
     ]
    },
    {
     "name": "stderr",
     "output_type": "stream",
     "text": [
      "training in progress: 100%|██████████| 8/8 [00:00<00:00, 16.41it/s]\n"
     ]
    },
    {
     "name": "stdout",
     "output_type": "stream",
     "text": [
      "Epoch 321/500, Loss: 2.385880470275879\n"
     ]
    },
    {
     "name": "stderr",
     "output_type": "stream",
     "text": [
      "training in progress: 100%|██████████| 8/8 [00:00<00:00, 16.51it/s]\n"
     ]
    },
    {
     "name": "stdout",
     "output_type": "stream",
     "text": [
      "Epoch 322/500, Loss: 2.376137673854828\n"
     ]
    },
    {
     "name": "stderr",
     "output_type": "stream",
     "text": [
      "training in progress: 100%|██████████| 8/8 [00:00<00:00, 16.50it/s]\n"
     ]
    },
    {
     "name": "stdout",
     "output_type": "stream",
     "text": [
      "Epoch 323/500, Loss: 2.3800743222236633\n"
     ]
    },
    {
     "name": "stderr",
     "output_type": "stream",
     "text": [
      "training in progress: 100%|██████████| 8/8 [00:00<00:00, 16.40it/s]\n"
     ]
    },
    {
     "name": "stdout",
     "output_type": "stream",
     "text": [
      "Epoch 324/500, Loss: 2.3829518854618073\n"
     ]
    },
    {
     "name": "stderr",
     "output_type": "stream",
     "text": [
      "training in progress: 100%|██████████| 8/8 [00:00<00:00, 14.41it/s]\n"
     ]
    },
    {
     "name": "stdout",
     "output_type": "stream",
     "text": [
      "Epoch 325/500, Loss: 2.387891322374344\n"
     ]
    },
    {
     "name": "stderr",
     "output_type": "stream",
     "text": [
      "training in progress: 100%|██████████| 8/8 [00:00<00:00, 16.31it/s]\n"
     ]
    },
    {
     "name": "stdout",
     "output_type": "stream",
     "text": [
      "Epoch 326/500, Loss: 2.389111340045929\n"
     ]
    },
    {
     "name": "stderr",
     "output_type": "stream",
     "text": [
      "training in progress: 100%|██████████| 8/8 [00:00<00:00, 16.38it/s]\n"
     ]
    },
    {
     "name": "stdout",
     "output_type": "stream",
     "text": [
      "Epoch 327/500, Loss: 2.4011075496673584\n"
     ]
    },
    {
     "name": "stderr",
     "output_type": "stream",
     "text": [
      "training in progress: 100%|██████████| 8/8 [00:00<00:00, 15.95it/s]\n"
     ]
    },
    {
     "name": "stdout",
     "output_type": "stream",
     "text": [
      "Epoch 328/500, Loss: 2.4109638929367065\n"
     ]
    },
    {
     "name": "stderr",
     "output_type": "stream",
     "text": [
      "training in progress: 100%|██████████| 8/8 [00:00<00:00, 16.02it/s]\n"
     ]
    },
    {
     "name": "stdout",
     "output_type": "stream",
     "text": [
      "Epoch 329/500, Loss: 2.4096991419792175\n"
     ]
    },
    {
     "name": "stderr",
     "output_type": "stream",
     "text": [
      "training in progress: 100%|██████████| 8/8 [00:00<00:00, 13.10it/s]\n"
     ]
    },
    {
     "name": "stdout",
     "output_type": "stream",
     "text": [
      "Epoch 330/500, Loss: 2.4157853722572327\n"
     ]
    },
    {
     "name": "stderr",
     "output_type": "stream",
     "text": [
      "training in progress: 100%|██████████| 8/8 [00:00<00:00, 15.68it/s]\n"
     ]
    },
    {
     "name": "stdout",
     "output_type": "stream",
     "text": [
      "Epoch 331/500, Loss: 2.4156186878681183\n"
     ]
    },
    {
     "name": "stderr",
     "output_type": "stream",
     "text": [
      "training in progress: 100%|██████████| 8/8 [00:00<00:00, 16.15it/s]\n"
     ]
    },
    {
     "name": "stdout",
     "output_type": "stream",
     "text": [
      "Epoch 332/500, Loss: 2.419721335172653\n"
     ]
    },
    {
     "name": "stderr",
     "output_type": "stream",
     "text": [
      "training in progress: 100%|██████████| 8/8 [00:00<00:00, 16.53it/s]\n"
     ]
    },
    {
     "name": "stdout",
     "output_type": "stream",
     "text": [
      "Epoch 333/500, Loss: 2.4269624650478363\n"
     ]
    },
    {
     "name": "stderr",
     "output_type": "stream",
     "text": [
      "training in progress: 100%|██████████| 8/8 [00:00<00:00, 15.68it/s]\n"
     ]
    },
    {
     "name": "stdout",
     "output_type": "stream",
     "text": [
      "Epoch 334/500, Loss: 2.4171202778816223\n"
     ]
    },
    {
     "name": "stderr",
     "output_type": "stream",
     "text": [
      "training in progress: 100%|██████████| 8/8 [00:00<00:00, 13.77it/s]\n"
     ]
    },
    {
     "name": "stdout",
     "output_type": "stream",
     "text": [
      "Epoch 335/500, Loss: 2.425440341234207\n"
     ]
    },
    {
     "name": "stderr",
     "output_type": "stream",
     "text": [
      "training in progress: 100%|██████████| 8/8 [00:00<00:00, 16.40it/s]\n"
     ]
    },
    {
     "name": "stdout",
     "output_type": "stream",
     "text": [
      "Epoch 336/500, Loss: 2.4229815006256104\n"
     ]
    },
    {
     "name": "stderr",
     "output_type": "stream",
     "text": [
      "training in progress: 100%|██████████| 8/8 [00:00<00:00, 16.47it/s]\n"
     ]
    },
    {
     "name": "stdout",
     "output_type": "stream",
     "text": [
      "Epoch 337/500, Loss: 2.4149348735809326\n"
     ]
    },
    {
     "name": "stderr",
     "output_type": "stream",
     "text": [
      "training in progress: 100%|██████████| 8/8 [00:00<00:00, 16.51it/s]\n"
     ]
    },
    {
     "name": "stdout",
     "output_type": "stream",
     "text": [
      "Epoch 338/500, Loss: 2.4153693318367004\n"
     ]
    },
    {
     "name": "stderr",
     "output_type": "stream",
     "text": [
      "training in progress: 100%|██████████| 8/8 [00:00<00:00, 16.51it/s]\n"
     ]
    },
    {
     "name": "stdout",
     "output_type": "stream",
     "text": [
      "Epoch 339/500, Loss: 2.4065063297748566\n"
     ]
    },
    {
     "name": "stderr",
     "output_type": "stream",
     "text": [
      "training in progress: 100%|██████████| 8/8 [00:00<00:00, 13.89it/s]\n"
     ]
    },
    {
     "name": "stdout",
     "output_type": "stream",
     "text": [
      "Epoch 340/500, Loss: 2.3998279869556427\n"
     ]
    },
    {
     "name": "stderr",
     "output_type": "stream",
     "text": [
      "training in progress: 100%|██████████| 8/8 [00:00<00:00, 16.52it/s]\n"
     ]
    },
    {
     "name": "stdout",
     "output_type": "stream",
     "text": [
      "Epoch 341/500, Loss: 2.3947033286094666\n"
     ]
    },
    {
     "name": "stderr",
     "output_type": "stream",
     "text": [
      "training in progress: 100%|██████████| 8/8 [00:00<00:00, 16.55it/s]\n"
     ]
    },
    {
     "name": "stdout",
     "output_type": "stream",
     "text": [
      "Epoch 342/500, Loss: 2.387665241956711\n"
     ]
    },
    {
     "name": "stderr",
     "output_type": "stream",
     "text": [
      "training in progress: 100%|██████████| 8/8 [00:00<00:00, 16.53it/s]\n"
     ]
    },
    {
     "name": "stdout",
     "output_type": "stream",
     "text": [
      "Epoch 343/500, Loss: 2.3807808458805084\n"
     ]
    },
    {
     "name": "stderr",
     "output_type": "stream",
     "text": [
      "training in progress: 100%|██████████| 8/8 [00:00<00:00, 16.35it/s]\n"
     ]
    },
    {
     "name": "stdout",
     "output_type": "stream",
     "text": [
      "Epoch 344/500, Loss: 2.373229503631592\n"
     ]
    },
    {
     "name": "stderr",
     "output_type": "stream",
     "text": [
      "training in progress: 100%|██████████| 8/8 [00:00<00:00, 14.40it/s]\n"
     ]
    },
    {
     "name": "stdout",
     "output_type": "stream",
     "text": [
      "Epoch 345/500, Loss: 2.3693774342536926\n"
     ]
    },
    {
     "name": "stderr",
     "output_type": "stream",
     "text": [
      "training in progress: 100%|██████████| 8/8 [00:00<00:00, 16.51it/s]\n"
     ]
    },
    {
     "name": "stdout",
     "output_type": "stream",
     "text": [
      "Epoch 346/500, Loss: 2.365154892206192\n"
     ]
    },
    {
     "name": "stderr",
     "output_type": "stream",
     "text": [
      "training in progress: 100%|██████████| 8/8 [00:00<00:00, 16.54it/s]\n"
     ]
    },
    {
     "name": "stdout",
     "output_type": "stream",
     "text": [
      "Epoch 347/500, Loss: 2.3585944771766663\n"
     ]
    },
    {
     "name": "stderr",
     "output_type": "stream",
     "text": [
      "training in progress: 100%|██████████| 8/8 [00:00<00:00, 16.57it/s]\n"
     ]
    },
    {
     "name": "stdout",
     "output_type": "stream",
     "text": [
      "Epoch 348/500, Loss: 2.3493863344192505\n"
     ]
    },
    {
     "name": "stderr",
     "output_type": "stream",
     "text": [
      "training in progress: 100%|██████████| 8/8 [00:00<00:00, 16.55it/s]\n"
     ]
    },
    {
     "name": "stdout",
     "output_type": "stream",
     "text": [
      "Epoch 349/500, Loss: 2.357810765504837\n"
     ]
    },
    {
     "name": "stderr",
     "output_type": "stream",
     "text": [
      "training in progress: 100%|██████████| 8/8 [00:00<00:00, 13.92it/s]\n"
     ]
    },
    {
     "name": "stdout",
     "output_type": "stream",
     "text": [
      "Epoch 350/500, Loss: 2.348109781742096\n"
     ]
    },
    {
     "name": "stderr",
     "output_type": "stream",
     "text": [
      "training in progress: 100%|██████████| 8/8 [00:00<00:00, 16.54it/s]\n"
     ]
    },
    {
     "name": "stdout",
     "output_type": "stream",
     "text": [
      "Epoch 351/500, Loss: 2.3494702577590942\n"
     ]
    },
    {
     "name": "stderr",
     "output_type": "stream",
     "text": [
      "training in progress: 100%|██████████| 8/8 [00:00<00:00, 16.53it/s]\n"
     ]
    },
    {
     "name": "stdout",
     "output_type": "stream",
     "text": [
      "Epoch 352/500, Loss: 2.35275736451149\n"
     ]
    },
    {
     "name": "stderr",
     "output_type": "stream",
     "text": [
      "training in progress: 100%|██████████| 8/8 [00:00<00:00, 16.46it/s]\n"
     ]
    },
    {
     "name": "stdout",
     "output_type": "stream",
     "text": [
      "Epoch 353/500, Loss: 2.354861319065094\n"
     ]
    },
    {
     "name": "stderr",
     "output_type": "stream",
     "text": [
      "training in progress: 100%|██████████| 8/8 [00:00<00:00, 16.48it/s]\n"
     ]
    },
    {
     "name": "stdout",
     "output_type": "stream",
     "text": [
      "Epoch 354/500, Loss: 2.3528454899787903\n"
     ]
    },
    {
     "name": "stderr",
     "output_type": "stream",
     "text": [
      "training in progress: 100%|██████████| 8/8 [00:00<00:00, 14.55it/s]\n"
     ]
    },
    {
     "name": "stdout",
     "output_type": "stream",
     "text": [
      "Epoch 355/500, Loss: 2.3580136001110077\n"
     ]
    },
    {
     "name": "stderr",
     "output_type": "stream",
     "text": [
      "training in progress: 100%|██████████| 8/8 [00:00<00:00, 16.47it/s]\n"
     ]
    },
    {
     "name": "stdout",
     "output_type": "stream",
     "text": [
      "Epoch 356/500, Loss: 2.358103394508362\n"
     ]
    },
    {
     "name": "stderr",
     "output_type": "stream",
     "text": [
      "training in progress: 100%|██████████| 8/8 [00:00<00:00, 16.56it/s]\n"
     ]
    },
    {
     "name": "stdout",
     "output_type": "stream",
     "text": [
      "Epoch 357/500, Loss: 2.3603009283542633\n"
     ]
    },
    {
     "name": "stderr",
     "output_type": "stream",
     "text": [
      "training in progress: 100%|██████████| 8/8 [00:00<00:00, 16.57it/s]\n"
     ]
    },
    {
     "name": "stdout",
     "output_type": "stream",
     "text": [
      "Epoch 358/500, Loss: 2.3666867911815643\n"
     ]
    },
    {
     "name": "stderr",
     "output_type": "stream",
     "text": [
      "training in progress: 100%|██████████| 8/8 [00:00<00:00, 16.54it/s]\n"
     ]
    },
    {
     "name": "stdout",
     "output_type": "stream",
     "text": [
      "Epoch 359/500, Loss: 2.3755656480789185\n"
     ]
    },
    {
     "name": "stderr",
     "output_type": "stream",
     "text": [
      "training in progress: 100%|██████████| 8/8 [00:00<00:00, 14.48it/s]\n"
     ]
    },
    {
     "name": "stdout",
     "output_type": "stream",
     "text": [
      "Epoch 360/500, Loss: 2.366861969232559\n"
     ]
    },
    {
     "name": "stderr",
     "output_type": "stream",
     "text": [
      "training in progress: 100%|██████████| 8/8 [00:00<00:00, 16.55it/s]\n"
     ]
    },
    {
     "name": "stdout",
     "output_type": "stream",
     "text": [
      "Epoch 361/500, Loss: 2.3676059544086456\n"
     ]
    },
    {
     "name": "stderr",
     "output_type": "stream",
     "text": [
      "training in progress: 100%|██████████| 8/8 [00:00<00:00, 16.61it/s]\n"
     ]
    },
    {
     "name": "stdout",
     "output_type": "stream",
     "text": [
      "Epoch 362/500, Loss: 2.370677411556244\n"
     ]
    },
    {
     "name": "stderr",
     "output_type": "stream",
     "text": [
      "training in progress: 100%|██████████| 8/8 [00:00<00:00, 16.59it/s]\n"
     ]
    },
    {
     "name": "stdout",
     "output_type": "stream",
     "text": [
      "Epoch 363/500, Loss: 2.3667137920856476\n"
     ]
    },
    {
     "name": "stderr",
     "output_type": "stream",
     "text": [
      "training in progress: 100%|██████████| 8/8 [00:00<00:00, 14.08it/s]\n"
     ]
    },
    {
     "name": "stdout",
     "output_type": "stream",
     "text": [
      "Epoch 364/500, Loss: 2.364804595708847\n"
     ]
    },
    {
     "name": "stderr",
     "output_type": "stream",
     "text": [
      "training in progress: 100%|██████████| 8/8 [00:00<00:00, 16.44it/s]\n"
     ]
    },
    {
     "name": "stdout",
     "output_type": "stream",
     "text": [
      "Epoch 365/500, Loss: 2.365532636642456\n"
     ]
    },
    {
     "name": "stderr",
     "output_type": "stream",
     "text": [
      "training in progress: 100%|██████████| 8/8 [00:00<00:00, 16.38it/s]\n"
     ]
    },
    {
     "name": "stdout",
     "output_type": "stream",
     "text": [
      "Epoch 366/500, Loss: 2.3660104274749756\n"
     ]
    },
    {
     "name": "stderr",
     "output_type": "stream",
     "text": [
      "training in progress: 100%|██████████| 8/8 [00:00<00:00, 16.57it/s]\n"
     ]
    },
    {
     "name": "stdout",
     "output_type": "stream",
     "text": [
      "Epoch 367/500, Loss: 2.3636353611946106\n"
     ]
    },
    {
     "name": "stderr",
     "output_type": "stream",
     "text": [
      "training in progress: 100%|██████████| 8/8 [00:00<00:00, 16.56it/s]\n"
     ]
    },
    {
     "name": "stdout",
     "output_type": "stream",
     "text": [
      "Epoch 368/500, Loss: 2.3688967525959015\n"
     ]
    },
    {
     "name": "stderr",
     "output_type": "stream",
     "text": [
      "training in progress: 100%|██████████| 8/8 [00:00<00:00, 14.00it/s]\n"
     ]
    },
    {
     "name": "stdout",
     "output_type": "stream",
     "text": [
      "Epoch 369/500, Loss: 2.3606250882148743\n"
     ]
    },
    {
     "name": "stderr",
     "output_type": "stream",
     "text": [
      "training in progress: 100%|██████████| 8/8 [00:00<00:00, 16.55it/s]\n"
     ]
    },
    {
     "name": "stdout",
     "output_type": "stream",
     "text": [
      "Epoch 370/500, Loss: 2.361398935317993\n"
     ]
    },
    {
     "name": "stderr",
     "output_type": "stream",
     "text": [
      "training in progress: 100%|██████████| 8/8 [00:00<00:00, 16.27it/s]\n"
     ]
    },
    {
     "name": "stdout",
     "output_type": "stream",
     "text": [
      "Epoch 371/500, Loss: 2.35386461019516\n"
     ]
    },
    {
     "name": "stderr",
     "output_type": "stream",
     "text": [
      "training in progress: 100%|██████████| 8/8 [00:00<00:00, 16.40it/s]\n"
     ]
    },
    {
     "name": "stdout",
     "output_type": "stream",
     "text": [
      "Epoch 372/500, Loss: 2.3622500002384186\n"
     ]
    },
    {
     "name": "stderr",
     "output_type": "stream",
     "text": [
      "training in progress: 100%|██████████| 8/8 [00:00<00:00, 16.39it/s]\n"
     ]
    },
    {
     "name": "stdout",
     "output_type": "stream",
     "text": [
      "Epoch 373/500, Loss: 2.355357348918915\n"
     ]
    },
    {
     "name": "stderr",
     "output_type": "stream",
     "text": [
      "training in progress: 100%|██████████| 8/8 [00:00<00:00, 13.77it/s]\n"
     ]
    },
    {
     "name": "stdout",
     "output_type": "stream",
     "text": [
      "Epoch 374/500, Loss: 2.3503834307193756\n"
     ]
    },
    {
     "name": "stderr",
     "output_type": "stream",
     "text": [
      "training in progress: 100%|██████████| 8/8 [00:00<00:00, 15.84it/s]\n"
     ]
    },
    {
     "name": "stdout",
     "output_type": "stream",
     "text": [
      "Epoch 375/500, Loss: 2.3494412302970886\n"
     ]
    },
    {
     "name": "stderr",
     "output_type": "stream",
     "text": [
      "training in progress: 100%|██████████| 8/8 [00:00<00:00, 16.16it/s]\n"
     ]
    },
    {
     "name": "stdout",
     "output_type": "stream",
     "text": [
      "Epoch 376/500, Loss: 2.3406697809696198\n"
     ]
    },
    {
     "name": "stderr",
     "output_type": "stream",
     "text": [
      "training in progress: 100%|██████████| 8/8 [00:00<00:00, 16.15it/s]\n"
     ]
    },
    {
     "name": "stdout",
     "output_type": "stream",
     "text": [
      "Epoch 377/500, Loss: 2.3417403995990753\n"
     ]
    },
    {
     "name": "stderr",
     "output_type": "stream",
     "text": [
      "training in progress: 100%|██████████| 8/8 [00:00<00:00, 14.27it/s]\n"
     ]
    },
    {
     "name": "stdout",
     "output_type": "stream",
     "text": [
      "Epoch 378/500, Loss: 2.343078374862671\n"
     ]
    },
    {
     "name": "stderr",
     "output_type": "stream",
     "text": [
      "training in progress: 100%|██████████| 8/8 [00:00<00:00, 16.32it/s]\n"
     ]
    },
    {
     "name": "stdout",
     "output_type": "stream",
     "text": [
      "Epoch 379/500, Loss: 2.335158884525299\n"
     ]
    },
    {
     "name": "stderr",
     "output_type": "stream",
     "text": [
      "training in progress: 100%|██████████| 8/8 [00:00<00:00, 16.50it/s]\n"
     ]
    },
    {
     "name": "stdout",
     "output_type": "stream",
     "text": [
      "Epoch 380/500, Loss: 2.3407271802425385\n"
     ]
    },
    {
     "name": "stderr",
     "output_type": "stream",
     "text": [
      "training in progress: 100%|██████████| 8/8 [00:00<00:00, 16.51it/s]\n"
     ]
    },
    {
     "name": "stdout",
     "output_type": "stream",
     "text": [
      "Epoch 381/500, Loss: 2.33837029337883\n"
     ]
    },
    {
     "name": "stderr",
     "output_type": "stream",
     "text": [
      "training in progress: 100%|██████████| 8/8 [00:00<00:00, 16.52it/s]\n"
     ]
    },
    {
     "name": "stdout",
     "output_type": "stream",
     "text": [
      "Epoch 382/500, Loss: 2.3404091596603394\n"
     ]
    },
    {
     "name": "stderr",
     "output_type": "stream",
     "text": [
      "training in progress: 100%|██████████| 8/8 [00:00<00:00, 14.21it/s]\n"
     ]
    },
    {
     "name": "stdout",
     "output_type": "stream",
     "text": [
      "Epoch 383/500, Loss: 2.337584525346756\n"
     ]
    },
    {
     "name": "stderr",
     "output_type": "stream",
     "text": [
      "training in progress: 100%|██████████| 8/8 [00:00<00:00, 16.45it/s]\n"
     ]
    },
    {
     "name": "stdout",
     "output_type": "stream",
     "text": [
      "Epoch 384/500, Loss: 2.341406226158142\n"
     ]
    },
    {
     "name": "stderr",
     "output_type": "stream",
     "text": [
      "training in progress: 100%|██████████| 8/8 [00:00<00:00, 16.15it/s]\n"
     ]
    },
    {
     "name": "stdout",
     "output_type": "stream",
     "text": [
      "Epoch 385/500, Loss: 2.3386225402355194\n"
     ]
    },
    {
     "name": "stderr",
     "output_type": "stream",
     "text": [
      "training in progress: 100%|██████████| 8/8 [00:00<00:00, 16.25it/s]\n"
     ]
    },
    {
     "name": "stdout",
     "output_type": "stream",
     "text": [
      "Epoch 386/500, Loss: 2.3361563682556152\n"
     ]
    },
    {
     "name": "stderr",
     "output_type": "stream",
     "text": [
      "training in progress: 100%|██████████| 8/8 [00:00<00:00, 13.92it/s]\n"
     ]
    },
    {
     "name": "stdout",
     "output_type": "stream",
     "text": [
      "Epoch 387/500, Loss: 2.338251769542694\n"
     ]
    },
    {
     "name": "stderr",
     "output_type": "stream",
     "text": [
      "training in progress: 100%|██████████| 8/8 [00:00<00:00, 16.51it/s]\n"
     ]
    },
    {
     "name": "stdout",
     "output_type": "stream",
     "text": [
      "Epoch 388/500, Loss: 2.331752449274063\n"
     ]
    },
    {
     "name": "stderr",
     "output_type": "stream",
     "text": [
      "training in progress: 100%|██████████| 8/8 [00:00<00:00, 16.44it/s]\n"
     ]
    },
    {
     "name": "stdout",
     "output_type": "stream",
     "text": [
      "Epoch 389/500, Loss: 2.337772876024246\n"
     ]
    },
    {
     "name": "stderr",
     "output_type": "stream",
     "text": [
      "training in progress: 100%|██████████| 8/8 [00:00<00:00, 16.48it/s]\n"
     ]
    },
    {
     "name": "stdout",
     "output_type": "stream",
     "text": [
      "Epoch 390/500, Loss: 2.33828404545784\n"
     ]
    },
    {
     "name": "stderr",
     "output_type": "stream",
     "text": [
      "training in progress: 100%|██████████| 8/8 [00:00<00:00, 16.45it/s]\n"
     ]
    },
    {
     "name": "stdout",
     "output_type": "stream",
     "text": [
      "Epoch 391/500, Loss: 2.3352704644203186\n"
     ]
    },
    {
     "name": "stderr",
     "output_type": "stream",
     "text": [
      "training in progress: 100%|██████████| 8/8 [00:00<00:00, 14.01it/s]\n"
     ]
    },
    {
     "name": "stdout",
     "output_type": "stream",
     "text": [
      "Epoch 392/500, Loss: 2.336180567741394\n"
     ]
    },
    {
     "name": "stderr",
     "output_type": "stream",
     "text": [
      "training in progress: 100%|██████████| 8/8 [00:00<00:00, 16.34it/s]\n"
     ]
    },
    {
     "name": "stdout",
     "output_type": "stream",
     "text": [
      "Epoch 393/500, Loss: 2.334549605846405\n"
     ]
    },
    {
     "name": "stderr",
     "output_type": "stream",
     "text": [
      "training in progress: 100%|██████████| 8/8 [00:00<00:00, 16.51it/s]\n"
     ]
    },
    {
     "name": "stdout",
     "output_type": "stream",
     "text": [
      "Epoch 394/500, Loss: 2.329980731010437\n"
     ]
    },
    {
     "name": "stderr",
     "output_type": "stream",
     "text": [
      "training in progress: 100%|██████████| 8/8 [00:00<00:00, 16.40it/s]\n"
     ]
    },
    {
     "name": "stdout",
     "output_type": "stream",
     "text": [
      "Epoch 395/500, Loss: 2.3308811485767365\n"
     ]
    },
    {
     "name": "stderr",
     "output_type": "stream",
     "text": [
      "training in progress: 100%|██████████| 8/8 [00:00<00:00, 16.34it/s]\n"
     ]
    },
    {
     "name": "stdout",
     "output_type": "stream",
     "text": [
      "Epoch 396/500, Loss: 2.3336914777755737\n"
     ]
    },
    {
     "name": "stderr",
     "output_type": "stream",
     "text": [
      "training in progress: 100%|██████████| 8/8 [00:00<00:00, 13.91it/s]\n"
     ]
    },
    {
     "name": "stdout",
     "output_type": "stream",
     "text": [
      "Epoch 397/500, Loss: 2.328663170337677\n"
     ]
    },
    {
     "name": "stderr",
     "output_type": "stream",
     "text": [
      "training in progress: 100%|██████████| 8/8 [00:00<00:00, 16.43it/s]\n"
     ]
    },
    {
     "name": "stdout",
     "output_type": "stream",
     "text": [
      "Epoch 398/500, Loss: 2.330496668815613\n"
     ]
    },
    {
     "name": "stderr",
     "output_type": "stream",
     "text": [
      "training in progress: 100%|██████████| 8/8 [00:00<00:00, 16.48it/s]\n"
     ]
    },
    {
     "name": "stdout",
     "output_type": "stream",
     "text": [
      "Epoch 399/500, Loss: 2.3268864154815674\n"
     ]
    },
    {
     "name": "stderr",
     "output_type": "stream",
     "text": [
      "training in progress: 100%|██████████| 8/8 [00:00<00:00, 16.43it/s]\n"
     ]
    },
    {
     "name": "stdout",
     "output_type": "stream",
     "text": [
      "Epoch 400/500, Loss: 2.320670038461685\n"
     ]
    },
    {
     "name": "stderr",
     "output_type": "stream",
     "text": [
      "training in progress: 100%|██████████| 8/8 [00:00<00:00, 14.82it/s]\n"
     ]
    },
    {
     "name": "stdout",
     "output_type": "stream",
     "text": [
      "Epoch 401/500, Loss: 2.3178746104240417\n"
     ]
    },
    {
     "name": "stderr",
     "output_type": "stream",
     "text": [
      "training in progress: 100%|██████████| 8/8 [00:00<00:00, 15.73it/s]\n"
     ]
    },
    {
     "name": "stdout",
     "output_type": "stream",
     "text": [
      "Epoch 402/500, Loss: 2.319498747587204\n"
     ]
    },
    {
     "name": "stderr",
     "output_type": "stream",
     "text": [
      "training in progress: 100%|██████████| 8/8 [00:00<00:00, 16.45it/s]\n"
     ]
    },
    {
     "name": "stdout",
     "output_type": "stream",
     "text": [
      "Epoch 403/500, Loss: 2.31782802939415\n"
     ]
    },
    {
     "name": "stderr",
     "output_type": "stream",
     "text": [
      "training in progress: 100%|██████████| 8/8 [00:00<00:00, 16.35it/s]\n"
     ]
    },
    {
     "name": "stdout",
     "output_type": "stream",
     "text": [
      "Epoch 404/500, Loss: 2.312777131795883\n"
     ]
    },
    {
     "name": "stderr",
     "output_type": "stream",
     "text": [
      "training in progress: 100%|██████████| 8/8 [00:00<00:00, 16.33it/s]\n"
     ]
    },
    {
     "name": "stdout",
     "output_type": "stream",
     "text": [
      "Epoch 405/500, Loss: 2.3110255300998688\n"
     ]
    },
    {
     "name": "stderr",
     "output_type": "stream",
     "text": [
      "training in progress: 100%|██████████| 8/8 [00:00<00:00, 14.34it/s]\n"
     ]
    },
    {
     "name": "stdout",
     "output_type": "stream",
     "text": [
      "Epoch 406/500, Loss: 2.3183765709400177\n"
     ]
    },
    {
     "name": "stderr",
     "output_type": "stream",
     "text": [
      "training in progress: 100%|██████████| 8/8 [00:00<00:00, 16.19it/s]\n"
     ]
    },
    {
     "name": "stdout",
     "output_type": "stream",
     "text": [
      "Epoch 407/500, Loss: 2.319407105445862\n"
     ]
    },
    {
     "name": "stderr",
     "output_type": "stream",
     "text": [
      "training in progress: 100%|██████████| 8/8 [00:00<00:00, 16.43it/s]\n"
     ]
    },
    {
     "name": "stdout",
     "output_type": "stream",
     "text": [
      "Epoch 408/500, Loss: 2.312102347612381\n"
     ]
    },
    {
     "name": "stderr",
     "output_type": "stream",
     "text": [
      "training in progress: 100%|██████████| 8/8 [00:00<00:00, 16.42it/s]\n"
     ]
    },
    {
     "name": "stdout",
     "output_type": "stream",
     "text": [
      "Epoch 409/500, Loss: 2.311667948961258\n"
     ]
    },
    {
     "name": "stderr",
     "output_type": "stream",
     "text": [
      "training in progress: 100%|██████████| 8/8 [00:00<00:00, 16.42it/s]\n"
     ]
    },
    {
     "name": "stdout",
     "output_type": "stream",
     "text": [
      "Epoch 410/500, Loss: 2.3166458904743195\n"
     ]
    },
    {
     "name": "stderr",
     "output_type": "stream",
     "text": [
      "training in progress: 100%|██████████| 8/8 [00:00<00:00, 13.98it/s]\n"
     ]
    },
    {
     "name": "stdout",
     "output_type": "stream",
     "text": [
      "Epoch 411/500, Loss: 2.311476707458496\n"
     ]
    },
    {
     "name": "stderr",
     "output_type": "stream",
     "text": [
      "training in progress: 100%|██████████| 8/8 [00:00<00:00, 16.40it/s]\n"
     ]
    },
    {
     "name": "stdout",
     "output_type": "stream",
     "text": [
      "Epoch 412/500, Loss: 2.3146325051784515\n"
     ]
    },
    {
     "name": "stderr",
     "output_type": "stream",
     "text": [
      "training in progress: 100%|██████████| 8/8 [00:00<00:00, 16.41it/s]\n"
     ]
    },
    {
     "name": "stdout",
     "output_type": "stream",
     "text": [
      "Epoch 413/500, Loss: 2.315881073474884\n"
     ]
    },
    {
     "name": "stderr",
     "output_type": "stream",
     "text": [
      "training in progress: 100%|██████████| 8/8 [00:00<00:00, 16.45it/s]\n"
     ]
    },
    {
     "name": "stdout",
     "output_type": "stream",
     "text": [
      "Epoch 414/500, Loss: 2.3144481778144836\n"
     ]
    },
    {
     "name": "stderr",
     "output_type": "stream",
     "text": [
      "training in progress: 100%|██████████| 8/8 [00:00<00:00, 16.38it/s]\n"
     ]
    },
    {
     "name": "stdout",
     "output_type": "stream",
     "text": [
      "Epoch 415/500, Loss: 2.315977394580841\n"
     ]
    },
    {
     "name": "stderr",
     "output_type": "stream",
     "text": [
      "training in progress: 100%|██████████| 8/8 [00:00<00:00, 13.85it/s]\n"
     ]
    },
    {
     "name": "stdout",
     "output_type": "stream",
     "text": [
      "Epoch 416/500, Loss: 2.3119909465312958\n"
     ]
    },
    {
     "name": "stderr",
     "output_type": "stream",
     "text": [
      "training in progress: 100%|██████████| 8/8 [00:00<00:00, 16.40it/s]\n"
     ]
    },
    {
     "name": "stdout",
     "output_type": "stream",
     "text": [
      "Epoch 417/500, Loss: 2.316323459148407\n"
     ]
    },
    {
     "name": "stderr",
     "output_type": "stream",
     "text": [
      "training in progress: 100%|██████████| 8/8 [00:00<00:00, 16.40it/s]\n"
     ]
    },
    {
     "name": "stdout",
     "output_type": "stream",
     "text": [
      "Epoch 418/500, Loss: 2.3200308680534363\n"
     ]
    },
    {
     "name": "stderr",
     "output_type": "stream",
     "text": [
      "training in progress: 100%|██████████| 8/8 [00:00<00:00, 16.43it/s]\n"
     ]
    },
    {
     "name": "stdout",
     "output_type": "stream",
     "text": [
      "Epoch 419/500, Loss: 2.315551310777664\n"
     ]
    },
    {
     "name": "stderr",
     "output_type": "stream",
     "text": [
      "training in progress: 100%|██████████| 8/8 [00:00<00:00, 16.37it/s]\n"
     ]
    },
    {
     "name": "stdout",
     "output_type": "stream",
     "text": [
      "Epoch 420/500, Loss: 2.3123552799224854\n"
     ]
    },
    {
     "name": "stderr",
     "output_type": "stream",
     "text": [
      "training in progress: 100%|██████████| 8/8 [00:00<00:00, 14.01it/s]\n"
     ]
    },
    {
     "name": "stdout",
     "output_type": "stream",
     "text": [
      "Epoch 421/500, Loss: 2.31520476937294\n"
     ]
    },
    {
     "name": "stderr",
     "output_type": "stream",
     "text": [
      "training in progress: 100%|██████████| 8/8 [00:00<00:00, 16.36it/s]\n"
     ]
    },
    {
     "name": "stdout",
     "output_type": "stream",
     "text": [
      "Epoch 422/500, Loss: 2.3223162293434143\n"
     ]
    },
    {
     "name": "stderr",
     "output_type": "stream",
     "text": [
      "training in progress: 100%|██████████| 8/8 [00:00<00:00, 16.41it/s]\n"
     ]
    },
    {
     "name": "stdout",
     "output_type": "stream",
     "text": [
      "Epoch 423/500, Loss: 2.315027505159378\n"
     ]
    },
    {
     "name": "stderr",
     "output_type": "stream",
     "text": [
      "training in progress: 100%|██████████| 8/8 [00:00<00:00, 16.40it/s]\n"
     ]
    },
    {
     "name": "stdout",
     "output_type": "stream",
     "text": [
      "Epoch 424/500, Loss: 2.3112677931785583\n"
     ]
    },
    {
     "name": "stderr",
     "output_type": "stream",
     "text": [
      "training in progress: 100%|██████████| 8/8 [00:00<00:00, 16.36it/s]\n"
     ]
    },
    {
     "name": "stdout",
     "output_type": "stream",
     "text": [
      "Epoch 425/500, Loss: 2.3099138736724854\n"
     ]
    },
    {
     "name": "stderr",
     "output_type": "stream",
     "text": [
      "training in progress: 100%|██████████| 8/8 [00:00<00:00, 13.78it/s]\n"
     ]
    },
    {
     "name": "stdout",
     "output_type": "stream",
     "text": [
      "Epoch 426/500, Loss: 2.307270258665085\n"
     ]
    },
    {
     "name": "stderr",
     "output_type": "stream",
     "text": [
      "training in progress: 100%|██████████| 8/8 [00:00<00:00, 16.40it/s]\n"
     ]
    },
    {
     "name": "stdout",
     "output_type": "stream",
     "text": [
      "Epoch 427/500, Loss: 2.301490545272827\n"
     ]
    },
    {
     "name": "stderr",
     "output_type": "stream",
     "text": [
      "training in progress: 100%|██████████| 8/8 [00:00<00:00, 16.17it/s]\n"
     ]
    },
    {
     "name": "stdout",
     "output_type": "stream",
     "text": [
      "Epoch 428/500, Loss: 2.3007014989852905\n"
     ]
    },
    {
     "name": "stderr",
     "output_type": "stream",
     "text": [
      "training in progress: 100%|██████████| 8/8 [00:00<00:00, 16.39it/s]\n"
     ]
    },
    {
     "name": "stdout",
     "output_type": "stream",
     "text": [
      "Epoch 429/500, Loss: 2.3048878014087677\n"
     ]
    },
    {
     "name": "stderr",
     "output_type": "stream",
     "text": [
      "training in progress: 100%|██████████| 8/8 [00:00<00:00, 14.46it/s]\n"
     ]
    },
    {
     "name": "stdout",
     "output_type": "stream",
     "text": [
      "Epoch 430/500, Loss: 2.2951273322105408\n"
     ]
    },
    {
     "name": "stderr",
     "output_type": "stream",
     "text": [
      "training in progress: 100%|██████████| 8/8 [00:00<00:00, 15.88it/s]\n"
     ]
    },
    {
     "name": "stdout",
     "output_type": "stream",
     "text": [
      "Epoch 431/500, Loss: 2.2948565781116486\n"
     ]
    },
    {
     "name": "stderr",
     "output_type": "stream",
     "text": [
      "training in progress: 100%|██████████| 8/8 [00:00<00:00, 16.38it/s]\n"
     ]
    },
    {
     "name": "stdout",
     "output_type": "stream",
     "text": [
      "Epoch 432/500, Loss: 2.2919567823410034\n"
     ]
    },
    {
     "name": "stderr",
     "output_type": "stream",
     "text": [
      "training in progress: 100%|██████████| 8/8 [00:00<00:00, 16.36it/s]\n"
     ]
    },
    {
     "name": "stdout",
     "output_type": "stream",
     "text": [
      "Epoch 433/500, Loss: 2.289134204387665\n"
     ]
    },
    {
     "name": "stderr",
     "output_type": "stream",
     "text": [
      "training in progress: 100%|██████████| 8/8 [00:00<00:00, 16.38it/s]\n"
     ]
    },
    {
     "name": "stdout",
     "output_type": "stream",
     "text": [
      "Epoch 434/500, Loss: 2.2830558717250824\n"
     ]
    },
    {
     "name": "stderr",
     "output_type": "stream",
     "text": [
      "training in progress: 100%|██████████| 8/8 [00:00<00:00, 14.18it/s]\n"
     ]
    },
    {
     "name": "stdout",
     "output_type": "stream",
     "text": [
      "Epoch 435/500, Loss: 2.286960780620575\n"
     ]
    },
    {
     "name": "stderr",
     "output_type": "stream",
     "text": [
      "training in progress: 100%|██████████| 8/8 [00:00<00:00, 16.29it/s]\n"
     ]
    },
    {
     "name": "stdout",
     "output_type": "stream",
     "text": [
      "Epoch 436/500, Loss: 2.2736137211322784\n"
     ]
    },
    {
     "name": "stderr",
     "output_type": "stream",
     "text": [
      "training in progress: 100%|██████████| 8/8 [00:00<00:00, 16.32it/s]\n"
     ]
    },
    {
     "name": "stdout",
     "output_type": "stream",
     "text": [
      "Epoch 437/500, Loss: 2.2845610082149506\n"
     ]
    },
    {
     "name": "stderr",
     "output_type": "stream",
     "text": [
      "training in progress: 100%|██████████| 8/8 [00:00<00:00, 16.38it/s]\n"
     ]
    },
    {
     "name": "stdout",
     "output_type": "stream",
     "text": [
      "Epoch 438/500, Loss: 2.2832312285900116\n"
     ]
    },
    {
     "name": "stderr",
     "output_type": "stream",
     "text": [
      "training in progress: 100%|██████████| 8/8 [00:00<00:00, 14.74it/s]\n"
     ]
    },
    {
     "name": "stdout",
     "output_type": "stream",
     "text": [
      "Epoch 439/500, Loss: 2.279339224100113\n"
     ]
    },
    {
     "name": "stderr",
     "output_type": "stream",
     "text": [
      "training in progress: 100%|██████████| 8/8 [00:00<00:00, 15.78it/s]\n"
     ]
    },
    {
     "name": "stdout",
     "output_type": "stream",
     "text": [
      "Epoch 440/500, Loss: 2.279264986515045\n"
     ]
    },
    {
     "name": "stderr",
     "output_type": "stream",
     "text": [
      "training in progress: 100%|██████████| 8/8 [00:00<00:00, 16.36it/s]\n"
     ]
    },
    {
     "name": "stdout",
     "output_type": "stream",
     "text": [
      "Epoch 441/500, Loss: 2.2786655128002167\n"
     ]
    },
    {
     "name": "stderr",
     "output_type": "stream",
     "text": [
      "training in progress: 100%|██████████| 8/8 [00:00<00:00, 16.39it/s]\n"
     ]
    },
    {
     "name": "stdout",
     "output_type": "stream",
     "text": [
      "Epoch 442/500, Loss: 2.273768186569214\n"
     ]
    },
    {
     "name": "stderr",
     "output_type": "stream",
     "text": [
      "training in progress: 100%|██████████| 8/8 [00:00<00:00, 16.33it/s]\n"
     ]
    },
    {
     "name": "stdout",
     "output_type": "stream",
     "text": [
      "Epoch 443/500, Loss: 2.2681552469730377\n"
     ]
    },
    {
     "name": "stderr",
     "output_type": "stream",
     "text": [
      "training in progress: 100%|██████████| 8/8 [00:00<00:00, 13.90it/s]\n"
     ]
    },
    {
     "name": "stdout",
     "output_type": "stream",
     "text": [
      "Epoch 444/500, Loss: 2.2734992504119873\n"
     ]
    },
    {
     "name": "stderr",
     "output_type": "stream",
     "text": [
      "training in progress: 100%|██████████| 8/8 [00:00<00:00, 16.35it/s]\n"
     ]
    },
    {
     "name": "stdout",
     "output_type": "stream",
     "text": [
      "Epoch 445/500, Loss: 2.2806431651115417\n"
     ]
    },
    {
     "name": "stderr",
     "output_type": "stream",
     "text": [
      "training in progress: 100%|██████████| 8/8 [00:00<00:00, 16.37it/s]\n"
     ]
    },
    {
     "name": "stdout",
     "output_type": "stream",
     "text": [
      "Epoch 446/500, Loss: 2.276664078235626\n"
     ]
    },
    {
     "name": "stderr",
     "output_type": "stream",
     "text": [
      "training in progress: 100%|██████████| 8/8 [00:00<00:00, 16.31it/s]\n"
     ]
    },
    {
     "name": "stdout",
     "output_type": "stream",
     "text": [
      "Epoch 447/500, Loss: 2.2710573375225067\n"
     ]
    },
    {
     "name": "stderr",
     "output_type": "stream",
     "text": [
      "training in progress: 100%|██████████| 8/8 [00:00<00:00, 16.38it/s]\n"
     ]
    },
    {
     "name": "stdout",
     "output_type": "stream",
     "text": [
      "Epoch 448/500, Loss: 2.267708331346512\n"
     ]
    },
    {
     "name": "stderr",
     "output_type": "stream",
     "text": [
      "training in progress: 100%|██████████| 8/8 [00:00<00:00, 14.00it/s]\n"
     ]
    },
    {
     "name": "stdout",
     "output_type": "stream",
     "text": [
      "Epoch 449/500, Loss: 2.272764205932617\n"
     ]
    },
    {
     "name": "stderr",
     "output_type": "stream",
     "text": [
      "training in progress: 100%|██████████| 8/8 [00:00<00:00, 16.39it/s]\n"
     ]
    },
    {
     "name": "stdout",
     "output_type": "stream",
     "text": [
      "Epoch 450/500, Loss: 2.2667541205883026\n"
     ]
    },
    {
     "name": "stderr",
     "output_type": "stream",
     "text": [
      "training in progress: 100%|██████████| 8/8 [00:00<00:00, 16.36it/s]\n"
     ]
    },
    {
     "name": "stdout",
     "output_type": "stream",
     "text": [
      "Epoch 451/500, Loss: 2.273546487092972\n"
     ]
    },
    {
     "name": "stderr",
     "output_type": "stream",
     "text": [
      "training in progress: 100%|██████████| 8/8 [00:00<00:00, 16.26it/s]\n"
     ]
    },
    {
     "name": "stdout",
     "output_type": "stream",
     "text": [
      "Epoch 452/500, Loss: 2.2712663114070892\n"
     ]
    },
    {
     "name": "stderr",
     "output_type": "stream",
     "text": [
      "training in progress: 100%|██████████| 8/8 [00:00<00:00, 13.68it/s]\n"
     ]
    },
    {
     "name": "stdout",
     "output_type": "stream",
     "text": [
      "Epoch 453/500, Loss: 2.2720568776130676\n"
     ]
    },
    {
     "name": "stderr",
     "output_type": "stream",
     "text": [
      "training in progress: 100%|██████████| 8/8 [00:00<00:00, 16.38it/s]\n"
     ]
    },
    {
     "name": "stdout",
     "output_type": "stream",
     "text": [
      "Epoch 454/500, Loss: 2.2700383365154266\n"
     ]
    },
    {
     "name": "stderr",
     "output_type": "stream",
     "text": [
      "training in progress: 100%|██████████| 8/8 [00:00<00:00, 16.34it/s]\n"
     ]
    },
    {
     "name": "stdout",
     "output_type": "stream",
     "text": [
      "Epoch 455/500, Loss: 2.273636817932129\n"
     ]
    },
    {
     "name": "stderr",
     "output_type": "stream",
     "text": [
      "training in progress: 100%|██████████| 8/8 [00:00<00:00, 16.27it/s]\n"
     ]
    },
    {
     "name": "stdout",
     "output_type": "stream",
     "text": [
      "Epoch 456/500, Loss: 2.2701670825481415\n"
     ]
    },
    {
     "name": "stderr",
     "output_type": "stream",
     "text": [
      "training in progress: 100%|██████████| 8/8 [00:00<00:00, 16.32it/s]\n"
     ]
    },
    {
     "name": "stdout",
     "output_type": "stream",
     "text": [
      "Epoch 457/500, Loss: 2.274041026830673\n"
     ]
    },
    {
     "name": "stderr",
     "output_type": "stream",
     "text": [
      "training in progress: 100%|██████████| 8/8 [00:00<00:00, 13.63it/s]\n"
     ]
    },
    {
     "name": "stdout",
     "output_type": "stream",
     "text": [
      "Epoch 458/500, Loss: 2.2779345214366913\n"
     ]
    },
    {
     "name": "stderr",
     "output_type": "stream",
     "text": [
      "training in progress: 100%|██████████| 8/8 [00:00<00:00, 16.36it/s]\n"
     ]
    },
    {
     "name": "stdout",
     "output_type": "stream",
     "text": [
      "Epoch 459/500, Loss: 2.2741675674915314\n"
     ]
    },
    {
     "name": "stderr",
     "output_type": "stream",
     "text": [
      "training in progress: 100%|██████████| 8/8 [00:00<00:00, 16.33it/s]\n"
     ]
    },
    {
     "name": "stdout",
     "output_type": "stream",
     "text": [
      "Epoch 460/500, Loss: 2.2673224210739136\n"
     ]
    },
    {
     "name": "stderr",
     "output_type": "stream",
     "text": [
      "training in progress: 100%|██████████| 8/8 [00:00<00:00, 16.36it/s]\n"
     ]
    },
    {
     "name": "stdout",
     "output_type": "stream",
     "text": [
      "Epoch 461/500, Loss: 2.272088348865509\n"
     ]
    },
    {
     "name": "stderr",
     "output_type": "stream",
     "text": [
      "training in progress: 100%|██████████| 8/8 [00:00<00:00, 13.87it/s]\n"
     ]
    },
    {
     "name": "stdout",
     "output_type": "stream",
     "text": [
      "Epoch 462/500, Loss: 2.275700628757477\n"
     ]
    },
    {
     "name": "stderr",
     "output_type": "stream",
     "text": [
      "training in progress: 100%|██████████| 8/8 [00:00<00:00, 16.32it/s]\n"
     ]
    },
    {
     "name": "stdout",
     "output_type": "stream",
     "text": [
      "Epoch 463/500, Loss: 2.2732719480991364\n"
     ]
    },
    {
     "name": "stderr",
     "output_type": "stream",
     "text": [
      "training in progress: 100%|██████████| 8/8 [00:00<00:00, 16.39it/s]\n"
     ]
    },
    {
     "name": "stdout",
     "output_type": "stream",
     "text": [
      "Epoch 464/500, Loss: 2.268281489610672\n"
     ]
    },
    {
     "name": "stderr",
     "output_type": "stream",
     "text": [
      "training in progress: 100%|██████████| 8/8 [00:00<00:00, 16.35it/s]\n"
     ]
    },
    {
     "name": "stdout",
     "output_type": "stream",
     "text": [
      "Epoch 465/500, Loss: 2.270773023366928\n"
     ]
    },
    {
     "name": "stderr",
     "output_type": "stream",
     "text": [
      "training in progress: 100%|██████████| 8/8 [00:00<00:00, 16.23it/s]\n"
     ]
    },
    {
     "name": "stdout",
     "output_type": "stream",
     "text": [
      "Epoch 466/500, Loss: 2.2703937590122223\n"
     ]
    },
    {
     "name": "stderr",
     "output_type": "stream",
     "text": [
      "training in progress: 100%|██████████| 8/8 [00:00<00:00, 13.74it/s]\n"
     ]
    },
    {
     "name": "stdout",
     "output_type": "stream",
     "text": [
      "Epoch 467/500, Loss: 2.264095038175583\n"
     ]
    },
    {
     "name": "stderr",
     "output_type": "stream",
     "text": [
      "training in progress: 100%|██████████| 8/8 [00:00<00:00, 16.32it/s]\n"
     ]
    },
    {
     "name": "stdout",
     "output_type": "stream",
     "text": [
      "Epoch 468/500, Loss: 2.268692761659622\n"
     ]
    },
    {
     "name": "stderr",
     "output_type": "stream",
     "text": [
      "training in progress: 100%|██████████| 8/8 [00:00<00:00, 16.39it/s]\n"
     ]
    },
    {
     "name": "stdout",
     "output_type": "stream",
     "text": [
      "Epoch 469/500, Loss: 2.2612457275390625\n"
     ]
    },
    {
     "name": "stderr",
     "output_type": "stream",
     "text": [
      "training in progress: 100%|██████████| 8/8 [00:00<00:00, 16.40it/s]\n"
     ]
    },
    {
     "name": "stdout",
     "output_type": "stream",
     "text": [
      "Epoch 470/500, Loss: 2.2638972997665405\n"
     ]
    },
    {
     "name": "stderr",
     "output_type": "stream",
     "text": [
      "training in progress: 100%|██████████| 8/8 [00:00<00:00, 14.16it/s]\n"
     ]
    },
    {
     "name": "stdout",
     "output_type": "stream",
     "text": [
      "Epoch 471/500, Loss: 2.2569580376148224\n"
     ]
    },
    {
     "name": "stderr",
     "output_type": "stream",
     "text": [
      "training in progress: 100%|██████████| 8/8 [00:00<00:00, 16.40it/s]\n"
     ]
    },
    {
     "name": "stdout",
     "output_type": "stream",
     "text": [
      "Epoch 472/500, Loss: 2.255950450897217\n"
     ]
    },
    {
     "name": "stderr",
     "output_type": "stream",
     "text": [
      "training in progress: 100%|██████████| 8/8 [00:00<00:00, 16.40it/s]\n"
     ]
    },
    {
     "name": "stdout",
     "output_type": "stream",
     "text": [
      "Epoch 473/500, Loss: 2.257766991853714\n"
     ]
    },
    {
     "name": "stderr",
     "output_type": "stream",
     "text": [
      "training in progress: 100%|██████████| 8/8 [00:00<00:00, 16.29it/s]\n"
     ]
    },
    {
     "name": "stdout",
     "output_type": "stream",
     "text": [
      "Epoch 474/500, Loss: 2.2549673914909363\n"
     ]
    },
    {
     "name": "stderr",
     "output_type": "stream",
     "text": [
      "training in progress: 100%|██████████| 8/8 [00:00<00:00, 16.38it/s]\n"
     ]
    },
    {
     "name": "stdout",
     "output_type": "stream",
     "text": [
      "Epoch 475/500, Loss: 2.257691591978073\n"
     ]
    },
    {
     "name": "stderr",
     "output_type": "stream",
     "text": [
      "training in progress: 100%|██████████| 8/8 [00:00<00:00, 13.69it/s]\n"
     ]
    },
    {
     "name": "stdout",
     "output_type": "stream",
     "text": [
      "Epoch 476/500, Loss: 2.2530242204666138\n"
     ]
    },
    {
     "name": "stderr",
     "output_type": "stream",
     "text": [
      "training in progress: 100%|██████████| 8/8 [00:00<00:00, 16.38it/s]\n"
     ]
    },
    {
     "name": "stdout",
     "output_type": "stream",
     "text": [
      "Epoch 477/500, Loss: 2.253688156604767\n"
     ]
    },
    {
     "name": "stderr",
     "output_type": "stream",
     "text": [
      "training in progress: 100%|██████████| 8/8 [00:00<00:00, 16.20it/s]\n"
     ]
    },
    {
     "name": "stdout",
     "output_type": "stream",
     "text": [
      "Epoch 478/500, Loss: 2.2477572858333588\n"
     ]
    },
    {
     "name": "stderr",
     "output_type": "stream",
     "text": [
      "training in progress: 100%|██████████| 8/8 [00:00<00:00, 16.13it/s]\n"
     ]
    },
    {
     "name": "stdout",
     "output_type": "stream",
     "text": [
      "Epoch 479/500, Loss: 2.2525753676891327\n"
     ]
    },
    {
     "name": "stderr",
     "output_type": "stream",
     "text": [
      "training in progress: 100%|██████████| 8/8 [00:00<00:00, 16.38it/s]\n"
     ]
    },
    {
     "name": "stdout",
     "output_type": "stream",
     "text": [
      "Epoch 480/500, Loss: 2.251459151506424\n"
     ]
    },
    {
     "name": "stderr",
     "output_type": "stream",
     "text": [
      "training in progress: 100%|██████████| 8/8 [00:00<00:00, 14.09it/s]\n"
     ]
    },
    {
     "name": "stdout",
     "output_type": "stream",
     "text": [
      "Epoch 481/500, Loss: 2.2441955506801605\n"
     ]
    },
    {
     "name": "stderr",
     "output_type": "stream",
     "text": [
      "training in progress: 100%|██████████| 8/8 [00:00<00:00, 16.41it/s]\n"
     ]
    },
    {
     "name": "stdout",
     "output_type": "stream",
     "text": [
      "Epoch 482/500, Loss: 2.23921000957489\n"
     ]
    },
    {
     "name": "stderr",
     "output_type": "stream",
     "text": [
      "training in progress: 100%|██████████| 8/8 [00:00<00:00, 16.35it/s]\n"
     ]
    },
    {
     "name": "stdout",
     "output_type": "stream",
     "text": [
      "Epoch 483/500, Loss: 2.242207109928131\n"
     ]
    },
    {
     "name": "stderr",
     "output_type": "stream",
     "text": [
      "training in progress: 100%|██████████| 8/8 [00:00<00:00, 16.22it/s]\n"
     ]
    },
    {
     "name": "stdout",
     "output_type": "stream",
     "text": [
      "Epoch 484/500, Loss: 2.2391820549964905\n"
     ]
    },
    {
     "name": "stderr",
     "output_type": "stream",
     "text": [
      "training in progress: 100%|██████████| 8/8 [00:00<00:00, 16.36it/s]\n"
     ]
    },
    {
     "name": "stdout",
     "output_type": "stream",
     "text": [
      "Epoch 485/500, Loss: 2.2393801510334015\n"
     ]
    },
    {
     "name": "stderr",
     "output_type": "stream",
     "text": [
      "training in progress: 100%|██████████| 8/8 [00:00<00:00, 13.96it/s]\n"
     ]
    },
    {
     "name": "stdout",
     "output_type": "stream",
     "text": [
      "Epoch 486/500, Loss: 2.229007661342621\n"
     ]
    },
    {
     "name": "stderr",
     "output_type": "stream",
     "text": [
      "training in progress: 100%|██████████| 8/8 [00:00<00:00, 16.37it/s]\n"
     ]
    },
    {
     "name": "stdout",
     "output_type": "stream",
     "text": [
      "Epoch 487/500, Loss: 2.233422636985779\n"
     ]
    },
    {
     "name": "stderr",
     "output_type": "stream",
     "text": [
      "training in progress: 100%|██████████| 8/8 [00:00<00:00, 16.05it/s]\n"
     ]
    },
    {
     "name": "stdout",
     "output_type": "stream",
     "text": [
      "Epoch 488/500, Loss: 2.2372920513153076\n"
     ]
    },
    {
     "name": "stderr",
     "output_type": "stream",
     "text": [
      "training in progress: 100%|██████████| 8/8 [00:00<00:00, 15.77it/s]\n"
     ]
    },
    {
     "name": "stdout",
     "output_type": "stream",
     "text": [
      "Epoch 489/500, Loss: 2.2358018159866333\n"
     ]
    },
    {
     "name": "stderr",
     "output_type": "stream",
     "text": [
      "training in progress: 100%|██████████| 8/8 [00:00<00:00, 11.61it/s]\n"
     ]
    },
    {
     "name": "stdout",
     "output_type": "stream",
     "text": [
      "Epoch 490/500, Loss: 2.231187105178833\n"
     ]
    },
    {
     "name": "stderr",
     "output_type": "stream",
     "text": [
      "training in progress: 100%|██████████| 8/8 [00:00<00:00, 13.58it/s]\n"
     ]
    },
    {
     "name": "stdout",
     "output_type": "stream",
     "text": [
      "Epoch 491/500, Loss: 2.230220764875412\n"
     ]
    },
    {
     "name": "stderr",
     "output_type": "stream",
     "text": [
      "training in progress: 100%|██████████| 8/8 [00:00<00:00, 13.62it/s]\n"
     ]
    },
    {
     "name": "stdout",
     "output_type": "stream",
     "text": [
      "Epoch 492/500, Loss: 2.225284665822983\n"
     ]
    },
    {
     "name": "stderr",
     "output_type": "stream",
     "text": [
      "training in progress: 100%|██████████| 8/8 [00:00<00:00, 13.69it/s]\n"
     ]
    },
    {
     "name": "stdout",
     "output_type": "stream",
     "text": [
      "Epoch 493/500, Loss: 2.2266142666339874\n"
     ]
    },
    {
     "name": "stderr",
     "output_type": "stream",
     "text": [
      "training in progress: 100%|██████████| 8/8 [00:00<00:00, 13.39it/s]\n"
     ]
    },
    {
     "name": "stdout",
     "output_type": "stream",
     "text": [
      "Epoch 494/500, Loss: 2.2272994816303253\n"
     ]
    },
    {
     "name": "stderr",
     "output_type": "stream",
     "text": [
      "training in progress: 100%|██████████| 8/8 [00:00<00:00, 11.83it/s]\n"
     ]
    },
    {
     "name": "stdout",
     "output_type": "stream",
     "text": [
      "Epoch 495/500, Loss: 2.2169525027275085\n"
     ]
    },
    {
     "name": "stderr",
     "output_type": "stream",
     "text": [
      "training in progress: 100%|██████████| 8/8 [00:00<00:00, 15.98it/s]\n"
     ]
    },
    {
     "name": "stdout",
     "output_type": "stream",
     "text": [
      "Epoch 496/500, Loss: 2.2246228754520416\n"
     ]
    },
    {
     "name": "stderr",
     "output_type": "stream",
     "text": [
      "training in progress: 100%|██████████| 8/8 [00:00<00:00, 15.73it/s]\n"
     ]
    },
    {
     "name": "stdout",
     "output_type": "stream",
     "text": [
      "Epoch 497/500, Loss: 2.217280626296997\n"
     ]
    },
    {
     "name": "stderr",
     "output_type": "stream",
     "text": [
      "training in progress: 100%|██████████| 8/8 [00:00<00:00, 15.86it/s]\n"
     ]
    },
    {
     "name": "stdout",
     "output_type": "stream",
     "text": [
      "Epoch 498/500, Loss: 2.2182203829288483\n"
     ]
    },
    {
     "name": "stderr",
     "output_type": "stream",
     "text": [
      "training in progress: 100%|██████████| 8/8 [00:00<00:00, 13.90it/s]\n"
     ]
    },
    {
     "name": "stdout",
     "output_type": "stream",
     "text": [
      "Epoch 499/500, Loss: 2.216121345758438\n"
     ]
    },
    {
     "name": "stderr",
     "output_type": "stream",
     "text": [
      "training in progress: 100%|██████████| 8/8 [00:00<00:00, 16.15it/s]"
     ]
    },
    {
     "name": "stdout",
     "output_type": "stream",
     "text": [
      "Epoch 500/500, Loss: 2.22246515750885\n",
      "Training completed in 265.80 seconds\n"
     ]
    },
    {
     "name": "stderr",
     "output_type": "stream",
     "text": [
      "\n"
     ]
    }
   ],
   "source": [
    "# Run experiments\n",
    "epoch_loss = train_model(casual_transformer, x,y, num_epochs=500)\n"
   ]
  },
  {
   "cell_type": "code",
   "execution_count": null,
   "id": "fcdd1e08",
   "metadata": {},
   "outputs": [],
   "source": [
    "#flash attention\n",
    "class FlashAttention(nn.Module):\n",
    "    def __init__(self, n_embd, n_head, dropout, block_size, device):\n",
    "        super().__init__()\n",
    "        self.n_embd = n_embd\n",
    "        self.n_head = n_head\n",
    "        self.dropout = dropout\n",
    "        self.block_size = block_size\n",
    "\n",
    "        self.qkv_proj = nn.Linear(n_embd, 3 * n_embd).to(device)\n",
    "        self.c_proj = nn.Linear(n_embd, n_embd).to(device)\n",
    "        self.attn_dropout = nn.Dropout(dropout)\n",
    "        self.resid_dropout = nn.Dropout(dropout)\n",
    "\n",
    "    def forward(self, x):\n",
    "        B, T, C = x.size()\n",
    "        q, k, v = self.qkv_proj(x).chunk(3, dim=-1)\n",
    "        q = q.view(B, T, self.n_head, C // self.n_head).transpose(1, 2)\n",
    "        k = k.view(B, T, self.n_head, C // self.n_head).transpose(1, 2)\n",
    "        v = v.view(B, T, self.n_head, C // self.n_head).transpose(1, 2)\n",
    "\n",
    "        # Flash Attention computation\n",
    "        q = q / math.sqrt(C // self.n_head)  # Scaling\n",
    "        attn_weights = torch.einsum('bhqd, bhkd -> bhqk', q, k)\n",
    "        attn_weights = F.softmax(attn_weights, dim=-1)\n",
    "        attn_weights = self.attn_dropout(attn_weights)\n",
    "        \n",
    "        y = torch.einsum('bhqk, bhvd -> bhqd', attn_weights, v)\n",
    "        y = y.transpose(1, 2).contiguous().view(B, T, C)\n",
    "\n",
    "        y = self.resid_dropout(self.c_proj(y))\n",
    "        return y\n",
    "\n",
    "\n",
    "# Example usage\n",
    "flash_transformer = TransformerModel(attention = FlashAttention, \n",
    "                                      vocab_size=vocab_size, \n",
    "                                      n_embd=n_embd, \n",
    "                                      n_head=n_head, \n",
    "                                      num_layers=num_layers, \n",
    "                                      dropout=dropout, \n",
    "                                      block_size=block_size, \n",
    "                                      device=device,\n",
    "                                      sparse=False,\n",
    "                                      sparsity_pattern=None,\n",
    "                                      ).to(device)\n",
    "flash_logits = flash_transformer(x)\n",
    "\n",
    "print(flash_logits.size())"
   ]
  },
  {
   "cell_type": "code",
   "execution_count": null,
   "id": "b72cdb0a",
   "metadata": {},
   "outputs": [],
   "source": [
    "# SparseAttention block\n",
    "class SparseAttention(nn.Module):\n",
    "    def __init__(self, n_embd, n_head, dropout, block_size, device, sparsity_pattern=None):\n",
    "        super().__init__()\n",
    "        self.n_embd = n_embd\n",
    "        self.n_head = n_head\n",
    "        self.dropout = dropout\n",
    "        self.block_size = block_size\n",
    "        self.sparsity_pattern = sparsity_pattern\n",
    "\n",
    "        self.qkv_proj = nn.Linear(n_embd, 3 * n_embd).to(device)\n",
    "        self.c_proj = nn.Linear(n_embd, n_embd).to(device)\n",
    "        self.attn_dropout = nn.Dropout(dropout)\n",
    "        self.resid_dropout = nn.Dropout(dropout)\n",
    "\n",
    "    def forward(self, x):\n",
    "        B, T, C = x.size()\n",
    "        q, k, v = self.qkv_proj(x).chunk(3, dim=-1)\n",
    "        q = q.view(B, T, self.n_head, C // self.n_head).transpose(1, 2)\n",
    "        k = k.view(B, T, self.n_head, C // self.n_head).transpose(1, 2)\n",
    "        v = v.view(B, T, self.n_head, C // self.n_head).transpose(1, 2)\n",
    "\n",
    "        # Sparse Attention computation\n",
    "        attn_weights = torch.einsum('bhqd, bhkd -> bhqk', q, k) / math.sqrt(C // self.n_head)\n",
    "        \n",
    "        if self.sparsity_pattern is not None:\n",
    "            attn_weights = attn_weights.masked_fill(self.sparsity_pattern == 0, -1e9)\n",
    "        \n",
    "        attn_weights = F.softmax(attn_weights, dim=-1)\n",
    "        attn_weights = self.attn_dropout(attn_weights)\n",
    "        \n",
    "        y = torch.einsum('bhqk, bhvd -> bhqd', attn_weights, v)\n",
    "        y = y.transpose(1, 2).contiguous().view(B, T, C)\n",
    "\n",
    "        y = self.resid_dropout(self.c_proj(y))\n",
    "        return y\n",
    "\n",
    "\n",
    "# Define a sparsity pattern (example: attend to only a subset of tokens)\n",
    "sparsity_pattern = torch.ones(1, 12, 100, 100, device=device)  # Modify this pattern as needed\n",
    "# For example, you can create a block sparsity pattern\n",
    "for i in range(0, 100, 8):\n",
    "    for j in range(0, 100, 8):\n",
    "        if (i // 8 + j // 8) % 2 == 0:\n",
    "            sparsity_pattern[:, :, i:i+8, j:j+8] = 0\n",
    "\n",
    "# Sample input\n",
    "\n",
    "# Instantiate and run the model\n",
    "sparse_transformer = TransformerModel(SparseAttention, \n",
    "                                      sparse=True, \n",
    "                                      sparsity_pattern=sparsity_pattern, \n",
    "                                      vocab_size=vocab_size, \n",
    "                                      n_embd=n_embd, \n",
    "                                      n_head=n_head, \n",
    "                                      num_layers=num_layers, \n",
    "                                      dropout=dropout, \n",
    "                                      block_size=block_size, \n",
    "                                      device=device).to(device)\n",
    "sparse_logits = sparse_transformer(x)\n",
    "\n",
    "print(sparse_logits.size())"
   ]
  },
  {
   "cell_type": "code",
   "execution_count": null,
   "id": "4abd35c8",
   "metadata": {},
   "outputs": [],
   "source": [
    "x.shape"
   ]
  },
  {
   "cell_type": "code",
   "execution_count": null,
   "id": "b7a0ee68",
   "metadata": {},
   "outputs": [],
   "source": [
    "n_embd=128\n",
    "n_head=4\n",
    "num_layers = 4\n",
    "block_size=512\n",
    "vocab_size=100\n",
    "dropout=0.1"
   ]
  },
  {
   "cell_type": "code",
   "execution_count": null,
   "id": "eb57664e",
   "metadata": {},
   "outputs": [],
   "source": [
    "class LocalAttention(nn.Module):\n",
    "    def __init__(self, n_embd, n_head, dropout, window_size, device):\n",
    "        super().__init__()\n",
    "        self.n_embd = n_embd\n",
    "        self.n_head = n_head\n",
    "        self.dropout = dropout\n",
    "        self.window_size = window_size\n",
    "\n",
    "        self.qkv_proj = nn.Linear(n_embd, 3 * n_embd).to(device)\n",
    "        self.c_proj = nn.Linear(n_embd, n_embd).to(device)\n",
    "        self.attn_dropout = nn.Dropout(dropout)\n",
    "        self.resid_dropout = nn.Dropout(dropout)\n",
    "\n",
    "    def forward(self, x):\n",
    "        B, T, C = x.size()\n",
    "        q, k, v = self.qkv_proj(x).chunk(3, dim=-1)\n",
    "        q = q.view(B, T, self.n_head, C // self.n_head).transpose(1, 2)\n",
    "        k = k.view(B, T, self.n_head, C // self.n_head).transpose(1, 2)\n",
    "        v = v.view(B, T, self.n_head, C // self.n_head).transpose(1, 2)\n",
    "\n",
    "        output = []\n",
    "        for i in range(T):\n",
    "            start = max(0, i - self.window_size)\n",
    "            end = min(T, i + self.window_size)\n",
    "            q_i = q[:, :, i, :]\n",
    "            k_i = k[:, :, start:end, :]\n",
    "            v_i = v[:, :, start:end, :]\n",
    "\n",
    "            attn_weights = torch.einsum('bhd,bhjd->bhj', q_i, k_i) / math.sqrt(C // self.n_head)\n",
    "            attn_weights = F.softmax(attn_weights, dim=-1)\n",
    "            attn_weights = self.attn_dropout(attn_weights)\n",
    "\n",
    "            context = torch.einsum('bhj,bhjd->bhd', attn_weights, v_i)\n",
    "            output.append(context)\n",
    "\n",
    "        output = torch.stack(output, dim=2).transpose(1, 2).contiguous().view(B, T, C)\n",
    "        output = self.resid_dropout(self.c_proj(output))\n",
    "        return output\n",
    "\n",
    "# Example usage\n",
    "local_transformer = TransformerModel(attention=LocalAttention, \n",
    "                                     vocab_size=vocab_size, \n",
    "                                      n_embd=n_embd, \n",
    "                                      n_head=n_head, \n",
    "                                      num_layers=num_layers, \n",
    "                                      dropout=dropout, \n",
    "                                      block_size=block_size, \n",
    "                                      device=device,\n",
    "                                      sparse=False,\n",
    "                                      sparsity_pattern=None,\n",
    "                                      ).to(device)\n",
    "local_logits = local_transformer(x)\n",
    "\n",
    "print(local_logits.size())\n"
   ]
  },
  {
   "cell_type": "code",
   "execution_count": null,
   "id": "2b046905",
   "metadata": {},
   "outputs": [],
   "source": []
  },
  {
   "cell_type": "code",
   "execution_count": null,
   "id": "a1f4335e",
   "metadata": {},
   "outputs": [],
   "source": []
  },
  {
   "cell_type": "code",
   "execution_count": null,
   "id": "ff92b076",
   "metadata": {},
   "outputs": [],
   "source": []
  }
 ],
 "metadata": {
  "kernelspec": {
   "display_name": "Python 3",
   "language": "python",
   "name": "python3"
  },
  "language_info": {
   "codemirror_mode": {
    "name": "ipython",
    "version": 3
   },
   "file_extension": ".py",
   "mimetype": "text/x-python",
   "name": "python",
   "nbconvert_exporter": "python",
   "pygments_lexer": "ipython3",
   "version": "3.8.13"
  }
 },
 "nbformat": 4,
 "nbformat_minor": 5
}
