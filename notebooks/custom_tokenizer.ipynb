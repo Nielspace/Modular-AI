{
 "cells": [
  {
   "cell_type": "code",
   "execution_count": 2,
   "metadata": {},
   "outputs": [],
   "source": [
    "import torch \n",
    "from torch.utils.data import DataLoader, Dataset\n",
    "\n",
    "import transformers\n",
    "import datasets\n",
    "\n",
    "import tiktoken\n",
    "\n",
    "import os"
   ]
  },
  {
   "cell_type": "code",
   "execution_count": 85,
   "metadata": {},
   "outputs": [],
   "source": [
    "input_file = 'tiny_shakespeare.txt'\n",
    "data_dir = os.path.join(os.getcwd(), 'data')\n",
    "input_file_path = os.path.join(data_dir, input_file)\n",
    "with open(input_file_path, 'r') as f:\n",
    "    data = f.read()"
   ]
  },
  {
   "cell_type": "code",
   "execution_count": 92,
   "metadata": {},
   "outputs": [],
   "source": [
    "class TextDataset(Dataset):\n",
    "    def __init__(self, data, model=\"gpt2\", seq_length=400):\n",
    "        tokenizer = tiktoken.get_encoding(model)\n",
    "        self.tokens = tokenizer.encode(data)\n",
    "        self.seq_length = seq_length\n",
    "        \n",
    "        self.x, self.y = self.create_sequences()\n",
    "\n",
    "    def create_sequences(self):\n",
    "        x, y = [], []\n",
    "        for i in range(0, len(self.tokens) - self.seq_length, self.seq_length):\n",
    "            x.append(self.tokens[i:i+self.seq_length])\n",
    "            y.append(self.tokens[i+1:i+1+self.seq_length])\n",
    "        return x, y\n",
    "\n",
    "    def __len__(self):\n",
    "        return len(self.x)\n",
    "\n",
    "    def __getitem__(self, idx):\n",
    "        if torch.is_tensor(idx):\n",
    "            idx = idx.tolist()\n",
    "        \n",
    "        input_seq = torch.tensor(self.x[idx], dtype=torch.long)\n",
    "        target_seq = torch.tensor(self.y[idx], dtype=torch.long)\n",
    "        sample = {'input': input_seq, 'target': target_seq}\n",
    "        return sample"
   ]
  },
  {
   "cell_type": "code",
   "execution_count": 99,
   "metadata": {},
   "outputs": [],
   "source": [
    "def pad_sequences(batch):\n",
    "    input_seqs = [item['input'] for item in batch]\n",
    "    target_seqs = [item['target'] for item in batch]\n",
    "\n",
    "    input_padded = torch.nn.utils.rnn.pad_sequence(input_seqs, batch_first=True, padding_value=0)\n",
    "    target_padded = torch.nn.utils.rnn.pad_sequence(target_seqs, batch_first=True, padding_value=0)\n",
    "\n",
    "    return {'input': input_padded, 'target': target_padded}"
   ]
  },
  {
   "cell_type": "code",
   "execution_count": 100,
   "metadata": {},
   "outputs": [],
   "source": [
    "dataset = TextDataset(data)\n",
    "dataloader = DataLoader(dataset, batch_size=4, shuffle=True, collate_fn=pad_sequences)"
   ]
  },
  {
   "cell_type": "code",
   "execution_count": null,
   "metadata": {},
   "outputs": [],
   "source": []
  }
 ],
 "metadata": {
  "kernelspec": {
   "display_name": "Python 3",
   "language": "python",
   "name": "python3"
  },
  "language_info": {
   "codemirror_mode": {
    "name": "ipython",
    "version": 3
   },
   "file_extension": ".py",
   "mimetype": "text/x-python",
   "name": "python",
   "nbconvert_exporter": "python",
   "pygments_lexer": "ipython3",
   "version": "3.8.13"
  }
 },
 "nbformat": 4,
 "nbformat_minor": 2
}
