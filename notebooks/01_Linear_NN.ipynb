{
 "cells": [
  {
   "cell_type": "code",
   "execution_count": null,
   "id": "1f69a70c-df29-4c12-83d4-19d9e8781c2b",
   "metadata": {},
   "outputs": [],
   "source": []
  }
 ],
 "metadata": {
  "kernelspec": {
   "display_name": "",
   "name": ""
  },
  "language_info": {
   "name": ""
  }
 },
 "nbformat": 4,
 "nbformat_minor": 5
}
